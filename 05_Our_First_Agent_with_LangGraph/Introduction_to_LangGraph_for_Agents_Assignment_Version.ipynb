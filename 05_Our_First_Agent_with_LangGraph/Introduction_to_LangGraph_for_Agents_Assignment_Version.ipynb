{
  "cells": [
    {
      "cell_type": "markdown",
      "metadata": {
        "id": "gJXW_DgiSebM"
      },
      "source": [
        "# LangGraph and LangSmith - Agentic RAG Powered by LangChain\n",
        "\n",
        "In the following notebook we'll complete the following tasks:\n",
        "\n",
        "- 🤝 Breakout Room #1:\n",
        "  1. Install required libraries\n",
        "  2. Set Environment Variables\n",
        "  3. Creating our Tool Belt\n",
        "  4. Creating Our State\n",
        "  5. Creating and Compiling A Graph!\n",
        "\n",
        "- 🤝 Breakout Room #2:\n",
        "  1. Evaluating the LangGraph Application with LangSmith\n",
        "  2. Adding Helpfulness Check and \"Loop\" Limits\n",
        "  3. LangGraph for the \"Patterns\" of GenAI"
      ]
    },
    {
      "cell_type": "markdown",
      "metadata": {
        "id": "djQ3nRAgoF67"
      },
      "source": [
        "# 🤝 Breakout Room #1"
      ]
    },
    {
      "cell_type": "markdown",
      "metadata": {
        "id": "e7pQDUhUnIo8"
      },
      "source": [
        "## Part 1: LangGraph - Building Cyclic Applications with LangChain\n",
        "\n",
        "LangGraph is a tool that leverages LangChain Expression Language to build coordinated multi-actor and stateful applications that includes cyclic behaviour.\n",
        "\n",
        "### Why Cycles?\n",
        "\n",
        "In essence, we can think of a cycle in our graph as a more robust and customizable loop. It allows us to keep our application agent-forward while still giving the powerful functionality of traditional loops.\n",
        "\n",
        "Due to the inclusion of cycles over loops, we can also compose rather complex flows through our graph in a much more readable and natural fashion. Effectively allowing us to recreate application flowcharts in code in an almost 1-to-1 fashion.\n",
        "\n",
        "### Why LangGraph?\n",
        "\n",
        "Beyond the agent-forward approach - we can easily compose and combine traditional \"DAG\" (directed acyclic graph) chains with powerful cyclic behaviour due to the tight integration with LCEL. This means it's a natural extension to LangChain's core offerings!"
      ]
    },
    {
      "cell_type": "markdown",
      "metadata": {
        "id": "3_fLDElOVoop"
      },
      "source": [
        "## Task 1:  Dependencies\n"
      ]
    },
    {
      "cell_type": "markdown",
      "metadata": {
        "id": "wujPjGJuoPwg"
      },
      "source": [
        "## Task 2: Environment Variables\n",
        "\n",
        "We'll want to set our OpenAI, Tavily, and LangSmith API keys along with our LangSmith environment variables."
      ]
    },
    {
      "cell_type": "code",
      "execution_count": 35,
      "metadata": {
        "colab": {
          "base_uri": "https://localhost:8080/"
        },
        "id": "Jdh8CoVWHRvs",
        "outputId": "3fa78560-393c-4ee5-b871-9886bf0d70f4"
      },
      "outputs": [],
      "source": [
        "import os\n",
        "import getpass\n",
        "\n",
        "os.environ[\"OPENAI_API_KEY\"] = getpass.getpass(\"OpenAI API Key:\")"
      ]
    },
    {
      "cell_type": "code",
      "execution_count": 36,
      "metadata": {
        "colab": {
          "base_uri": "https://localhost:8080/"
        },
        "id": "Jkla2fpx28QK",
        "outputId": "52d7ad22-fcb1-4abe-853b-216c55a12650"
      },
      "outputs": [],
      "source": [
        "os.environ[\"TAVILY_API_KEY\"] = getpass.getpass(\"TAVILY_API_KEY\")"
      ]
    },
    {
      "cell_type": "code",
      "execution_count": 37,
      "metadata": {
        "colab": {
          "base_uri": "https://localhost:8080/"
        },
        "id": "Nv0glIDyHmRt",
        "outputId": "b69df90a-b4e1-4ddb-9de0-882d98b68ab2"
      },
      "outputs": [],
      "source": [
        "from uuid import uuid4\n",
        "\n",
        "os.environ[\"LANGCHAIN_TRACING_V2\"] = \"true\"\n",
        "os.environ[\"LANGCHAIN_PROJECT\"] = f\"AIE8 - LangGraph - {uuid4().hex[0:8]}\"\n",
        "os.environ[\"LANGCHAIN_API_KEY\"] = getpass.getpass(\"LangSmith API Key: \")"
      ]
    },
    {
      "cell_type": "markdown",
      "metadata": {
        "id": "sBRyQmEAVzua"
      },
      "source": [
        "## Task 3: Creating our Tool Belt\n",
        "\n",
        "As is usually the case, we'll want to equip our agent with a toolbelt to help answer questions and add external knowledge.\n",
        "\n",
        "There's a tonne of tools in the [LangChain Community Repo](https://github.com/langchain-ai/langchain-community/tree/main/libs/community) but we'll stick to a couple just so we can observe the cyclic nature of LangGraph in action!\n",
        "\n",
        "We'll leverage:\n",
        "\n",
        "- [Tavily Search Results](https://github.com/langchain-ai/langchain-community/blob/main/libs/community/langchain_community/tools/tavily_search/tool.py)\n",
        "- [Arxiv](https://github.com/langchain-ai/langchain-community/blob/main/libs/community/langchain_community/tools/arxiv/tool.py)"
      ]
    },
    {
      "cell_type": "markdown",
      "metadata": {
        "id": "2k6n_Dob2F46"
      },
      "source": [
        "#### 🏗️ Activity #1:\n",
        "\n",
        "Please add the tools to use into our toolbelt.\n",
        "\n",
        "> NOTE: Each tool in our toolbelt should be a method."
      ]
    },
    {
      "cell_type": "code",
      "execution_count": 38,
      "metadata": {
        "id": "lAxaSvlfIeOg"
      },
      "outputs": [],
      "source": [
        "from langchain_community.tools.tavily_search import TavilySearchResults\n",
        "from langchain_community.tools.arxiv.tool import ArxivQueryRun\n",
        "\n",
        "tavily_tool = TavilySearchResults(max_results=5)\n",
        "\n",
        "tool_belt = [\n",
        "    tavily_tool,\n",
        "    ArxivQueryRun(),\n",
        "]"
      ]
    },
    {
      "cell_type": "markdown",
      "metadata": {
        "id": "VI-C669ZYVI5"
      },
      "source": [
        "### Model\n",
        "\n",
        "Now we can set-up our model! We'll leverage the familiar OpenAI model suite for this example - but it's not *necessary* to use with LangGraph. LangGraph supports all models - though you might not find success with smaller models - as such, they recommend you stick with:\n",
        "\n",
        "- OpenAI's GPT-3.5 and GPT-4\n",
        "- Anthropic's Claude\n",
        "- Google's Gemini\n",
        "\n",
        "> NOTE: Because we're leveraging the OpenAI function calling API - we'll need to use OpenAI *for this specific example* (or any other service that exposes an OpenAI-style function calling API."
      ]
    },
    {
      "cell_type": "code",
      "execution_count": 39,
      "metadata": {
        "id": "QkNS8rNZJs4z"
      },
      "outputs": [],
      "source": [
        "from langchain_openai import ChatOpenAI\n",
        "\n",
        "model = ChatOpenAI(model=\"gpt-4.1-nano\", temperature=0)"
      ]
    },
    {
      "cell_type": "markdown",
      "metadata": {
        "id": "Ugkj3GzuZpQv"
      },
      "source": [
        "Now that we have our model set-up, let's \"put on the tool belt\", which is to say: We'll bind our LangChain formatted tools to the model in an OpenAI function calling format."
      ]
    },
    {
      "cell_type": "code",
      "execution_count": 40,
      "metadata": {
        "id": "4OdMqFafZ_0V"
      },
      "outputs": [],
      "source": [
        "model = model.bind_tools(tool_belt)"
      ]
    },
    {
      "cell_type": "markdown",
      "metadata": {
        "id": "ERzuGo6W18Lr"
      },
      "source": [
        "#### ❓ Question #1:\n",
        "\n",
        "How does the model determine which tool to use?\n",
        "\n",
        "Based on the query and the tool, the agent reasons with the model to see if a tool will be useful with the query and the context to accomplish the goal. Depending on additional context it gains from the output of the tool it decides again ( by querying the LLM) the next step"
      ]
    },
    {
      "cell_type": "markdown",
      "metadata": {
        "id": "_296Ub96Z_H8"
      },
      "source": [
        "## Task 4: Putting the State in Stateful\n",
        "\n",
        "Earlier we used this phrasing:\n",
        "\n",
        "`coordinated multi-actor and stateful applications`\n",
        "\n",
        "So what does that \"stateful\" mean?\n",
        "\n",
        "To put it simply - we want to have some kind of object which we can pass around our application that holds information about what the current situation (state) is. Since our system will be constructed of many parts moving in a coordinated fashion - we want to be able to ensure we have some commonly understood idea of that state.\n",
        "\n",
        "LangGraph leverages a `StatefulGraph` which uses an `AgentState` object to pass information between the various nodes of the graph.\n",
        "\n",
        "There are more options than what we'll see below - but this `AgentState` object is one that is stored in a `TypedDict` with the key `messages` and the value is a `Sequence` of `BaseMessages` that will be appended to whenever the state changes.\n",
        "\n",
        "Let's think about a simple example to help understand exactly what this means (we'll simplify a great deal to try and clearly communicate what state is doing):\n",
        "\n",
        "1. We initialize our state object:\n",
        "  - `{\"messages\" : []}`\n",
        "2. Our user submits a query to our application.\n",
        "  - New State: `HumanMessage(#1)`\n",
        "  - `{\"messages\" : [HumanMessage(#1)}`\n",
        "3. We pass our state object to an Agent node which is able to read the current state. It will use the last `HumanMessage` as input. It gets some kind of output which it will add to the state.\n",
        "  - New State: `AgentMessage(#1, additional_kwargs {\"function_call\" : \"WebSearchTool\"})`\n",
        "  - `{\"messages\" : [HumanMessage(#1), AgentMessage(#1, ...)]}`\n",
        "4. We pass our state object to a \"conditional node\" (more on this later) which reads the last state to determine if we need to use a tool - which it can determine properly because of our provided object!"
      ]
    },
    {
      "cell_type": "code",
      "execution_count": 41,
      "metadata": {
        "id": "mxL9b_NZKUdL"
      },
      "outputs": [],
      "source": [
        "from typing import TypedDict, Annotated\n",
        "from langgraph.graph.message import add_messages\n",
        "import operator\n",
        "from langchain_core.messages import BaseMessage\n",
        "\n",
        "class AgentState(TypedDict):\n",
        "  messages: Annotated[list, add_messages]"
      ]
    },
    {
      "cell_type": "markdown",
      "metadata": {
        "id": "vWsMhfO9grLu"
      },
      "source": [
        "## Task 5: It's Graphing Time!\n",
        "\n",
        "Now that we have state, and we have tools, and we have an LLM - we can finally start making our graph!\n",
        "\n",
        "Let's take a second to refresh ourselves about what a graph is in this context.\n",
        "\n",
        "Graphs, also called networks in some circles, are a collection of connected objects.\n",
        "\n",
        "The objects in question are typically called nodes, or vertices, and the connections are called edges.\n",
        "\n",
        "Let's look at a simple graph.\n",
        "\n",
        "![image](https://i.imgur.com/2NFLnIc.png)\n",
        "\n",
        "Here, we're using the coloured circles to represent the nodes and the yellow lines to represent the edges. In this case, we're looking at a fully connected graph - where each node is connected by an edge to each other node.\n",
        "\n",
        "If we were to think about nodes in the context of LangGraph - we would think of a function, or an LCEL runnable.\n",
        "\n",
        "If we were to think about edges in the context of LangGraph - we might think of them as \"paths to take\" or \"where to pass our state object next\".\n",
        "\n",
        "Let's create some nodes and expand on our diagram.\n",
        "\n",
        "> NOTE: Due to the tight integration with LCEL - we can comfortably create our nodes in an async fashion!"
      ]
    },
    {
      "cell_type": "code",
      "execution_count": 42,
      "metadata": {
        "id": "91flJWtZLUrl"
      },
      "outputs": [],
      "source": [
        "from langgraph.prebuilt import ToolNode\n",
        "\n",
        "def call_model(state):\n",
        "  print(\"In Agent step\")\n",
        "  print(\"\\n\\n\")\n",
        "  print(\"State\\n\\n\")\n",
        "  print(state)\n",
        "  messages = state[\"messages\"]\n",
        "  response = model.invoke(messages)\n",
        "  return {\"messages\" : [response]}\n",
        "\n",
        "tool_node = ToolNode(tool_belt)"
      ]
    },
    {
      "cell_type": "markdown",
      "metadata": {
        "id": "2bwR7MgWj3Wg"
      },
      "source": [
        "Now we have two total nodes. We have:\n",
        "\n",
        "- `call_model` is a node that will...well...call the model\n",
        "- `tool_node` is a node which can call a tool\n",
        "\n",
        "Let's start adding nodes! We'll update our diagram along the way to keep track of what this looks like!\n"
      ]
    },
    {
      "cell_type": "code",
      "execution_count": 43,
      "metadata": {
        "colab": {
          "base_uri": "https://localhost:8080/"
        },
        "id": "_vF4_lgtmQNo",
        "outputId": "a4384377-8f7a-415f-be1b-fee6169cb101"
      },
      "outputs": [
        {
          "data": {
            "text/plain": [
              "<langgraph.graph.state.StateGraph at 0x13fb1ce10>"
            ]
          },
          "execution_count": 43,
          "metadata": {},
          "output_type": "execute_result"
        }
      ],
      "source": [
        "from langgraph.graph import StateGraph, END\n",
        "\n",
        "uncompiled_graph = StateGraph(AgentState)\n",
        "\n",
        "uncompiled_graph.add_node(\"agent\", call_model)\n",
        "uncompiled_graph.add_node(\"action\", tool_node)"
      ]
    },
    {
      "cell_type": "markdown",
      "metadata": {
        "id": "b8CjRlbVmRpW"
      },
      "source": [
        "Let's look at what we have so far:\n",
        "\n",
        "![image](https://i.imgur.com/md7inqG.png)"
      ]
    },
    {
      "cell_type": "markdown",
      "metadata": {
        "id": "uaXHpPeSnOWC"
      },
      "source": [
        "Next, we'll add our entrypoint. All our entrypoint does is indicate which node is called first."
      ]
    },
    {
      "cell_type": "code",
      "execution_count": 44,
      "metadata": {
        "colab": {
          "base_uri": "https://localhost:8080/"
        },
        "id": "YGCbaYqRnmiw",
        "outputId": "5351807c-2ac7-4316-a3a3-878abeacd114"
      },
      "outputs": [
        {
          "data": {
            "text/plain": [
              "<langgraph.graph.state.StateGraph at 0x13fb1ce10>"
            ]
          },
          "execution_count": 44,
          "metadata": {},
          "output_type": "execute_result"
        }
      ],
      "source": [
        "uncompiled_graph.set_entry_point(\"agent\")"
      ]
    },
    {
      "cell_type": "markdown",
      "metadata": {
        "id": "BUsfGoSpoF9U"
      },
      "source": [
        "![image](https://i.imgur.com/wNixpJe.png)"
      ]
    },
    {
      "cell_type": "markdown",
      "metadata": {
        "id": "0Q_pQgHmoW0M"
      },
      "source": [
        "Now we want to build a \"conditional edge\" which will use the output state of a node to determine which path to follow.\n",
        "\n",
        "We can help conceptualize this by thinking of our conditional edge as a conditional in a flowchart!\n",
        "\n",
        "Notice how our function simply checks if there is a \"function_call\" kwarg present.\n",
        "\n",
        "Then we create an edge where the origin node is our agent node and our destination node is *either* the action node or the END (finish the graph).\n",
        "\n",
        "It's important to highlight that the dictionary passed in as the third parameter (the mapping) should be created with the possible outputs of our conditional function in mind. In this case `should_continue` outputs either `\"end\"` or `\"continue\"` which are subsequently mapped to the action node or the END node."
      ]
    },
    {
      "cell_type": "code",
      "execution_count": 45,
      "metadata": {
        "colab": {
          "base_uri": "https://localhost:8080/"
        },
        "id": "1BZgb81VQf9o",
        "outputId": "73a07c15-5f0b-40f2-b033-38b57d056dd8"
      },
      "outputs": [
        {
          "data": {
            "text/plain": [
              "<langgraph.graph.state.StateGraph at 0x13fb1ce10>"
            ]
          },
          "execution_count": 45,
          "metadata": {},
          "output_type": "execute_result"
        }
      ],
      "source": [
        "def should_continue(state):\n",
        "  last_message = state[\"messages\"][-1]\n",
        "  print(\"In condition step\")\n",
        "  print(\"\\n\\n\")\n",
        "  print(\"State\\n\\n\")\n",
        "  print(state)\n",
        "\n",
        "  if last_message.tool_calls:\n",
        "    return \"action\"\n",
        "\n",
        "  return END\n",
        "\n",
        "uncompiled_graph.add_conditional_edges(\n",
        "    \"agent\",\n",
        "    should_continue\n",
        ")"
      ]
    },
    {
      "cell_type": "markdown",
      "metadata": {
        "id": "-Cvhcf4jp0Ce"
      },
      "source": [
        "Let's visualize what this looks like.\n",
        "\n",
        "![image](https://i.imgur.com/8ZNwKI5.png)"
      ]
    },
    {
      "cell_type": "markdown",
      "metadata": {
        "id": "yKCjWJCkrJb9"
      },
      "source": [
        "Finally, we can add our last edge which will connect our action node to our agent node. This is because we *always* want our action node (which is used to call our tools) to return its output to our agent!"
      ]
    },
    {
      "cell_type": "code",
      "execution_count": 46,
      "metadata": {
        "colab": {
          "base_uri": "https://localhost:8080/"
        },
        "id": "UvcgbHf1rIXZ",
        "outputId": "45d4bdd6-d6bb-4a1d-bb79-cad43c130bf2"
      },
      "outputs": [
        {
          "data": {
            "text/plain": [
              "<langgraph.graph.state.StateGraph at 0x13fb1ce10>"
            ]
          },
          "execution_count": 46,
          "metadata": {},
          "output_type": "execute_result"
        }
      ],
      "source": [
        "uncompiled_graph.add_edge(\"action\", \"agent\")"
      ]
    },
    {
      "cell_type": "markdown",
      "metadata": {
        "id": "EiWDwBQtrw7Z"
      },
      "source": [
        "Let's look at the final visualization.\n",
        "\n",
        "![image](https://i.imgur.com/NWO7usO.png)"
      ]
    },
    {
      "cell_type": "markdown",
      "metadata": {
        "id": "KYqDpErlsCsu"
      },
      "source": [
        "All that's left to do now is to compile our workflow - and we're off!"
      ]
    },
    {
      "cell_type": "code",
      "execution_count": 47,
      "metadata": {
        "id": "zt9-KS8DpzNx"
      },
      "outputs": [],
      "source": [
        "simple_agent_graph = uncompiled_graph.compile()"
      ]
    },
    {
      "cell_type": "markdown",
      "metadata": {
        "id": "xhNWIwBL1W4Q"
      },
      "source": [
        "#### ❓ Question #2:\n",
        "\n",
        "Is there any specific limit to how many times we can cycle?\n",
        "\n",
        "If not, how could we impose a limit to the number of cycles?\n",
        "\n",
        "<<Answer>>I dont believe there is any specific limit on the cycles it can take. However its a good idea to have a conditional node to have some kind of limit checked before proceeding through the graph"
      ]
    },
    {
      "cell_type": "markdown",
      "metadata": {
        "id": "VEYcTShCsPaa"
      },
      "source": [
        "## Using Our Graph\n",
        "\n",
        "Now that we've created and compiled our graph - we can call it *just as we'd call any other* `Runnable`!\n",
        "\n",
        "Let's try out a few examples to see how it fairs:"
      ]
    },
    {
      "cell_type": "code",
      "execution_count": 51,
      "metadata": {
        "colab": {
          "base_uri": "https://localhost:8080/"
        },
        "id": "Qn4n37PQRPII",
        "outputId": "5eeedfae-089d-496e-e71f-071939fa5832"
      },
      "outputs": [
        {
          "name": "stdout",
          "output_type": "stream",
          "text": [
            "In Agent step\n",
            "\n",
            "\n",
            "\n",
            "State\n",
            "\n",
            "\n",
            "{'messages': [HumanMessage(content='How are technical professionals using AI to improve their work?', additional_kwargs={}, response_metadata={}, id='33f4f556-d7e6-4170-82c3-8f093a0471b8')]}\n",
            "In condition step\n",
            "\n",
            "\n",
            "\n",
            "State\n",
            "\n",
            "\n",
            "{'messages': [HumanMessage(content='How are technical professionals using AI to improve their work?', additional_kwargs={}, response_metadata={}, id='33f4f556-d7e6-4170-82c3-8f093a0471b8'), AIMessage(content='Technical professionals are using AI in various ways to enhance their work, including automating repetitive tasks, improving decision-making, analyzing large datasets, developing new products and services, and optimizing processes. They leverage AI for tasks such as machine learning model development, natural language processing, computer vision, predictive analytics, and automation. This integration helps increase efficiency, accuracy, and innovation across different industries. Would you like specific examples from particular fields or industries?', additional_kwargs={'refusal': None}, response_metadata={'token_usage': {'completion_tokens': 88, 'prompt_tokens': 163, 'total_tokens': 251, 'completion_tokens_details': {'accepted_prediction_tokens': 0, 'audio_tokens': 0, 'reasoning_tokens': 0, 'rejected_prediction_tokens': 0}, 'prompt_tokens_details': {'audio_tokens': 0, 'cached_tokens': 0}}, 'model_name': 'gpt-4.1-nano-2025-04-14', 'system_fingerprint': 'fp_7c233bf9d1', 'id': 'chatcmpl-CLd1UW2HJ1Xp4nLkfKarwbP1pw0Zv', 'service_tier': 'default', 'finish_reason': 'stop', 'logprobs': None}, id='run--a21448a8-22bf-4564-9011-373961206ba2-0', usage_metadata={'input_tokens': 163, 'output_tokens': 88, 'total_tokens': 251, 'input_token_details': {'audio': 0, 'cache_read': 0}, 'output_token_details': {'audio': 0, 'reasoning': 0}})]}\n",
            "Receiving update from node: 'agent'\n",
            "[AIMessage(content='Technical professionals are using AI in various ways to enhance their work, including automating repetitive tasks, improving decision-making, analyzing large datasets, developing new products and services, and optimizing processes. They leverage AI for tasks such as machine learning model development, natural language processing, computer vision, predictive analytics, and automation. This integration helps increase efficiency, accuracy, and innovation across different industries. Would you like specific examples from particular fields or industries?', additional_kwargs={'refusal': None}, response_metadata={'token_usage': {'completion_tokens': 88, 'prompt_tokens': 163, 'total_tokens': 251, 'completion_tokens_details': {'accepted_prediction_tokens': 0, 'audio_tokens': 0, 'reasoning_tokens': 0, 'rejected_prediction_tokens': 0}, 'prompt_tokens_details': {'audio_tokens': 0, 'cached_tokens': 0}}, 'model_name': 'gpt-4.1-nano-2025-04-14', 'system_fingerprint': 'fp_7c233bf9d1', 'id': 'chatcmpl-CLd1UW2HJ1Xp4nLkfKarwbP1pw0Zv', 'service_tier': 'default', 'finish_reason': 'stop', 'logprobs': None}, id='run--a21448a8-22bf-4564-9011-373961206ba2-0', usage_metadata={'input_tokens': 163, 'output_tokens': 88, 'total_tokens': 251, 'input_token_details': {'audio': 0, 'cache_read': 0}, 'output_token_details': {'audio': 0, 'reasoning': 0}})]\n",
            "\n",
            "\n",
            "\n"
          ]
        }
      ],
      "source": [
        "from langchain_core.messages import HumanMessage\n",
        "\n",
        "inputs = {\"messages\" : [HumanMessage(content=\"How are technical professionals using AI to improve their work?\")]}\n",
        "\n",
        "async for chunk in simple_agent_graph.astream(inputs, stream_mode=\"updates\"):\n",
        "    for node, values in chunk.items():\n",
        "        print(f\"Receiving update from node: '{node}'\")\n",
        "        print(values[\"messages\"])\n",
        "        print(\"\\n\\n\")"
      ]
    },
    {
      "cell_type": "markdown",
      "metadata": {
        "id": "DBHnUtLSscRr"
      },
      "source": [
        "Let's look at what happened:\n",
        "\n",
        "1. Our state object was populated with our request\n",
        "2. The state object was passed into our entry point (agent node) and the agent node added an `AIMessage` to the state object and passed it along the conditional edge\n",
        "3. The conditional edge received the state object, found the \"tool_calls\" `additional_kwarg`, and sent the state object to the action node\n",
        "4. The action node added the response from the OpenAI function calling endpoint to the state object and passed it along the edge to the agent node\n",
        "5. The agent node added a response to the state object and passed it along the conditional edge\n",
        "6. The conditional edge received the state object, could not find the \"tool_calls\" `additional_kwarg` and passed the state object to END where we see it output in the cell above!\n",
        "\n",
        "Now let's look at an example that shows a multiple tool usage - all with the same flow!"
      ]
    },
    {
      "cell_type": "code",
      "execution_count": 52,
      "metadata": {
        "colab": {
          "base_uri": "https://localhost:8080/"
        },
        "id": "afv2BuEsV5JG",
        "outputId": "ff009536-d281-4a56-c126-9cd245352bfe"
      },
      "outputs": [
        {
          "name": "stdout",
          "output_type": "stream",
          "text": [
            "In Agent step\n",
            "\n",
            "\n",
            "\n",
            "State\n",
            "\n",
            "\n",
            "{'messages': [HumanMessage(content='Search Arxiv for the A Comprehensive Survey of Deep Research paper, then search each of the authors to find out where they work now using Tavily!', additional_kwargs={}, response_metadata={}, id='3089174f-23da-4cf1-9f68-7cb7c15a7fb5')]}\n",
            "In condition step\n",
            "\n",
            "\n",
            "\n",
            "State\n",
            "\n",
            "\n",
            "{'messages': [HumanMessage(content='Search Arxiv for the A Comprehensive Survey of Deep Research paper, then search each of the authors to find out where they work now using Tavily!', additional_kwargs={}, response_metadata={}, id='3089174f-23da-4cf1-9f68-7cb7c15a7fb5'), AIMessage(content='', additional_kwargs={'tool_calls': [{'id': 'call_bWSGUmTDg2z0Sp2avWLnwrHF', 'function': {'arguments': '{\"query\": \"A Comprehensive Survey of Deep Research\"}', 'name': 'arxiv'}, 'type': 'function'}, {'id': 'call_7bOhd1ESeii5rLo2Wa1LFJ1H', 'function': {'arguments': '{\"query\": \"author of A Comprehensive Survey of Deep Research\"}', 'name': 'tavily_search_results_json'}, 'type': 'function'}], 'refusal': None}, response_metadata={'token_usage': {'completion_tokens': 60, 'prompt_tokens': 182, 'total_tokens': 242, 'completion_tokens_details': {'accepted_prediction_tokens': 0, 'audio_tokens': 0, 'reasoning_tokens': 0, 'rejected_prediction_tokens': 0}, 'prompt_tokens_details': {'audio_tokens': 0, 'cached_tokens': 0}}, 'model_name': 'gpt-4.1-nano-2025-04-14', 'system_fingerprint': 'fp_7c233bf9d1', 'id': 'chatcmpl-CLd2C2wTGv11aaFOvRPrnmGgHVfUZ', 'service_tier': 'default', 'finish_reason': 'tool_calls', 'logprobs': None}, id='run--b1efbd38-5b25-487c-95f3-cbcd7ba5e26e-0', tool_calls=[{'name': 'arxiv', 'args': {'query': 'A Comprehensive Survey of Deep Research'}, 'id': 'call_bWSGUmTDg2z0Sp2avWLnwrHF', 'type': 'tool_call'}, {'name': 'tavily_search_results_json', 'args': {'query': 'author of A Comprehensive Survey of Deep Research'}, 'id': 'call_7bOhd1ESeii5rLo2Wa1LFJ1H', 'type': 'tool_call'}], usage_metadata={'input_tokens': 182, 'output_tokens': 60, 'total_tokens': 242, 'input_token_details': {'audio': 0, 'cache_read': 0}, 'output_token_details': {'audio': 0, 'reasoning': 0}})]}\n",
            "Receiving update from node: 'agent'\n",
            "[AIMessage(content='', additional_kwargs={'tool_calls': [{'id': 'call_bWSGUmTDg2z0Sp2avWLnwrHF', 'function': {'arguments': '{\"query\": \"A Comprehensive Survey of Deep Research\"}', 'name': 'arxiv'}, 'type': 'function'}, {'id': 'call_7bOhd1ESeii5rLo2Wa1LFJ1H', 'function': {'arguments': '{\"query\": \"author of A Comprehensive Survey of Deep Research\"}', 'name': 'tavily_search_results_json'}, 'type': 'function'}], 'refusal': None}, response_metadata={'token_usage': {'completion_tokens': 60, 'prompt_tokens': 182, 'total_tokens': 242, 'completion_tokens_details': {'accepted_prediction_tokens': 0, 'audio_tokens': 0, 'reasoning_tokens': 0, 'rejected_prediction_tokens': 0}, 'prompt_tokens_details': {'audio_tokens': 0, 'cached_tokens': 0}}, 'model_name': 'gpt-4.1-nano-2025-04-14', 'system_fingerprint': 'fp_7c233bf9d1', 'id': 'chatcmpl-CLd2C2wTGv11aaFOvRPrnmGgHVfUZ', 'service_tier': 'default', 'finish_reason': 'tool_calls', 'logprobs': None}, id='run--b1efbd38-5b25-487c-95f3-cbcd7ba5e26e-0', tool_calls=[{'name': 'arxiv', 'args': {'query': 'A Comprehensive Survey of Deep Research'}, 'id': 'call_bWSGUmTDg2z0Sp2avWLnwrHF', 'type': 'tool_call'}, {'name': 'tavily_search_results_json', 'args': {'query': 'author of A Comprehensive Survey of Deep Research'}, 'id': 'call_7bOhd1ESeii5rLo2Wa1LFJ1H', 'type': 'tool_call'}], usage_metadata={'input_tokens': 182, 'output_tokens': 60, 'total_tokens': 242, 'input_token_details': {'audio': 0, 'cache_read': 0}, 'output_token_details': {'audio': 0, 'reasoning': 0}})]\n",
            "\n",
            "\n",
            "\n",
            "Receiving update from node: 'action'\n",
            "Tool Used: arxiv\n",
            "[ToolMessage(content='Published: 2025-06-14\\nTitle: A Comprehensive Survey of Deep Research: Systems, Methodologies, and Applications\\nAuthors: Renjun Xu, Jingwen Peng\\nSummary: This survey examines the rapidly evolving field of Deep Research systems --\\nAI-powered applications that automate complex research workflows through the\\nintegration of large language models, advanced information retrieval, and\\nautonomous reasoning capabilities. We analyze more than 80 commercial and\\nnon-commercial implementations that have emerged since 2023, including\\nOpenAI/Deep Research, Gemini/Deep Research, Perplexity/Deep Research, and\\nnumerous open-source alternatives. Through comprehensive examination, we\\npropose a novel hierarchical taxonomy that categorizes systems according to\\nfour fundamental technical dimensions: foundation models and reasoning engines,\\ntool utilization and environmental interaction, task planning and execution\\ncontrol, and knowledge synthesis and output generation. We explore the\\narchitectural patterns, implementation approaches, and domain-specific\\nadaptations that characterize these systems across academic, scientific,\\nbusiness, and educational applications. Our analysis reveals both the\\nsignificant capabilities of current implementations and the technical and\\nethical challenges they present regarding information accuracy, privacy,\\nintellectual property, and accessibility. The survey concludes by identifying\\npromising research directions in advanced reasoning architectures, multimodal\\nintegration, domain specialization, human-AI collaboration, and ecosystem\\nstandardization that will likely shape the future evolution of this\\ntransformative technology. By providing a comprehensive framework for\\nunderstanding Deep Research systems, this survey contributes to both the\\ntheoretical understanding of AI-augmented knowledge work and the practical\\ndevelopment of more capable, responsible, and accessible research technologies.\\nThe paper resources can be viewed at\\nhttps://github.com/scienceaix/deepresearch.\\n\\nPublished: 2021-03-05\\nTitle: A comprehensive survey on point cloud registration\\nAuthors: Xiaoshui Huang, Guofeng Mei, Jian Zhang, Rana Abbas\\nSummary: Registration is a transformation estimation problem between two point clouds,\\nwhich has a unique and critical role in numerous computer vision applications.\\nThe developments of optimization-based methods and deep learning methods have\\nimproved registration robustness and efficiency. Recently, the combinations of\\noptimization-based and deep learning methods have further improved performance.\\nHowever, the connections between optimization-based and deep learning methods\\nare still unclear. Moreover, with the recent development of 3D sensors and 3D\\nreconstruction techniques, a new research direction emerges to align\\ncross-source point clouds. This survey conducts a comprehensive survey,\\nincluding both same-source and cross-source registration methods, and summarize\\nthe connections between optimization-based and deep learning methods, to\\nprovide further research insight. This survey also builds a new benchmark to\\nevaluate the state-of-the-art registration algorithms in solving cross-source\\nchallenges. Besides, this survey summarizes the benchmark data sets and\\ndiscusses point cloud registration applications across various domains.\\nFinally, this survey proposes potential research directions in this rapidly\\ngrowing field.\\n\\nPublished: 2023-07-07\\nTitle: A Survey of Deep Learning in Sports Applications: Perception, Comprehension, and Decision\\nAuthors: Zhonghan Zhao, Wenhao Chai, Shengyu Hao, Wenhao Hu, Guanhong Wang, Shidong Cao, Mingli Song, Jenq-Neng Hwang, Gaoang Wang\\nSummary: Deep learning has the potential to revolutionize sports performance, with\\napplications ranging from perception and comprehension to decision. This paper\\npresents a comprehensive survey of deep learning in sports performance,\\nfocusing on three main aspects: algorithms, datasets and virtual environments,\\nand challenges. Firstly, we discuss th', name='arxiv', id='c8452642-27e4-4de2-a365-0d5f2ecc576a', tool_call_id='call_bWSGUmTDg2z0Sp2avWLnwrHF'), ToolMessage(content='[{\"title\": \"[2506.12594] A Comprehensive Survey of Deep Research - arXiv\", \"url\": \"https://arxiv.org/abs/2506.12594\", \"content\": \"We gratefully acknowledge support from the Simons Foundation, member institutions, and all contributors. Donate\\\\n\\\\n> cs > arXiv:2506.12594\\\\n\\\\n# Computer Science > Artificial Intelligence\\\\n\\\\narXiv:2506.12594 (cs)\\\\n\\\\n[Submitted on 14 Jun 2025]\\\\n\\\\n# Title:A Comprehensive Survey of Deep Research: Systems, Methodologies, and Applications\\\\n\\\\nAuthors:Renjun Xu, Jingwen Peng [...] View a PDF of the paper titled A Comprehensive Survey of Deep Research: Systems, Methodologies, and Applications, by Renjun Xu and 1 other authors [...] View a PDF of the paper titled A Comprehensive Survey of Deep Research: Systems, Methodologies, and Applications, by Renjun Xu and 1 other authors\\\\n\\\\n View PDF\\\\n HTML (experimental)\\\\n TeX Source\\\\n Other Formats\\\\n\\\\nview license\\\\n\\\\nCurrent browse context:\\\\n\\\\ncs.AI\\\\n\\\\n< prev\\\\\")    |    next >\\\\\")\\\\n\\\\nnew  |  recent  | 2025-06\\\\n\\\\nChange to browse by:\\\\n\\\\ncs cs.MA\\\\n\\\\n### References & Citations\\\\n\\\\n NASA ADS\\\\n Google Scholar\\\\n Semantic Scholar\\\\n\\\\na export BibTeX citation Loading...\\\\n\\\\n## BibTeX formatted citation\\\\n\\\\n×\", \"score\": 0.90289277}, {\"title\": \"A Comprehensive Survey of Deep Research: Systems ... - alphaXiv\", \"url\": \"https://www.alphaxiv.org/overview/2506.12594\", \"content\": \"This comprehensive survey by Renjun Xu and Jingwen Peng from Zhejiang University addresses the rapidly emerging field of Deep Research systems—AI-powered applications that integrate large language models, advanced information retrieval, and autonomous reasoning to automate complex research workflows. The paper establishes the first systematic framework for understanding this domain, which has evolved dramatically since 2023, encompassing over 80 commercial and open-source implementations. [...] This paper is cited in the introduction to establish the high-level significance and transformative potential of the survey\\'s topic. It argues that human-aware AI can accelerate science by augmenting researchers\\' capabilities, providing a foundational conceptual motivation for the development of Deep Research systems.\\\\n\\\\nJamshid Sourati and James Evans. 2023. Accelerating science with human-aware artificial intelligence. arXiv:2306.01495 [cs.AI] [...] Yujia Qin, Shihao Liang, Yining Ye, Kunlun Zhu, Lan Yan, Yaxi Lu, Yankai Lin, Xin Cong, Xiangru Tang, Bill Qian, Sihan Zhao, Lauren Hong, Runchu Tian, Ruobing Xie, Jie Zhou, Mark Gerstein, Dahai Li, Zhiyuan Liu, and Maosong Sun. 2023. ToolLLM: Facilitating Large Language Models to Master 16000+ Real-world APIs. arXiv:2307.16789 [cs.AI] \\\\n\\\\nHumanity’s Last Exam\", \"score\": 0.838376}, {\"title\": \"A Comprehensive Survey on Deep Clustering - ACM Digital Library\", \"url\": \"https://dl.acm.org/doi/10.1145/3689036\", \"content\": \"You can change or withdraw your consent from the Cookie Declaration on our website at any time by visiting the Cookie Declaration page. If contacting us regarding your consent, please state your consent ID and date from that page.\\\\n\\\\nskip to main content\\\\n\\\\n# A Comprehensive Survey on Deep Clustering: Taxonomy, Challenges, and Future Directions\\\\n\\\\nAuthors: Sheng Zhou\\\\n\\\\nSheng Zhou\\\\n\\\\nZhejiang University, Hangzhou, China\\\\n\\\\nView Profile\\\\n\\\\n, Hongjia Xu\\\\n\\\\nHongjia Xu\\\\n\\\\nZhejiang University, Hangzhou, China [...] Wenwu Zhu\\\\n\\\\nTsinghua University, Beijing, China\\\\n\\\\nView Profile\\\\n\\\\n, Martin Ester\\\\n\\\\nMartin Ester\\\\n\\\\nSimon Fraser University, Burnaby, Canada\\\\n\\\\nView Profile\\\\n\\\\n (Less)Authors Info & Claims\\\\n\\\\nACM Computing Surveys, Volume 57, Issue 3\\\\n\\\\nArticle No.: 69, Pages 1 - 38\\\\n\\\\nPublished: 11 November 2024 Publication History\\\\n\\\\nMetrics\\\\n\\\\nTotal Citations23Total Downloads3,013\\\\n\\\\nLast 12 Months3,013\\\\n\\\\nLast 6 weeks205\\\\n\\\\nGet Access\\\\n\\\\n## Abstract [...] View Profile\\\\n\\\\n, Zhuonan Zheng\\\\n\\\\nZhuonan Zheng\\\\n\\\\nZhejiang University, Hangzhou, China\\\\n\\\\nView Profile\\\\n\\\\n, Jiawei Chen\\\\n\\\\nJiawei Chen\\\\n\\\\nZhejiang University, Hangzhou, China\\\\n\\\\nView Profile\\\\n\\\\n, + 6, Zhao Li\\\\n\\\\nZhao Li\\\\n\\\\nZhejiang University, Hangzhou, China\\\\n\\\\nView Profile\\\\n\\\\n, Jiajun Bu\\\\n\\\\nJiajun Bu\\\\n\\\\nZhejiang University, Hangzhou, China\\\\n\\\\nView Profile\\\\n\\\\n, + 4, Jia Wu\\\\n\\\\nJia Wu\\\\n\\\\nMacquarie University, Sydney, Australia\\\\n\\\\nView Profile\\\\n\\\\n, Xin Wang\\\\n\\\\nXin Wang\\\\n\\\\nTsinghua University, Beijing, China\\\\n\\\\nView Profile\\\\n\\\\n, Wenwu Zhu\", \"score\": 0.7166357}, {\"title\": \"A comprehensive survey of deep learning research on medical ...\", \"url\": \"https://pubmed.ncbi.nlm.nih.gov/36462229/\", \"content\": \"PMID: 36462229\\\\n    DOI: 10.1016/j.clinimag.2022.11.003\\\\n\\\\n Item in Clipboard \\\\n\\\\nReview\\\\n\\\\nA comprehensive survey of deep learning research on medical image analysis with focus on transfer learning\\\\n\\\\nSema Atasever et al. Clin Imaging.2023 Feb.\\\\n\\\\nShow details\\\\n\\\\nDisplay options\\\\n\\\\n Display options \\\\n\\\\n Format \\\\n\\\\n Clin Imaging \\\\n\\\\nActions\\\\n\\\\n   Search in PubMed\\\\n   Search in NLM Catalog\\\\n   Add to Search\\\\n\\\\n. 2023 Feb:94:18-41.\\\\n\\\\n doi: 10.1016/j.clinimag.2022.11.003.  Epub 2022 Nov 12. \\\\n\\\\n### Authors [...] A comprehensive survey of deep learning research on medical image analysis with focus on transfer learning\\\\n\\\\nSema Atasever1,Nuh Azginoglu2,Duygu Sinanc Terzi3,Ramazan Terzi4\\\\n\\\\n Affiliations  Expand \\\\n\\\\n### Affiliations [...] 4 Computer Engineering Department, Amasya University, Amasya, Turkey. Electronic address: ramazan.terzi@amasya.edu.tr.\", \"score\": 0.71425}, {\"title\": \"a-comprehensive-survey-of-deep-research-systems-methodologies ...\", \"url\": \"https://warwick.ac.uk/fac/cross_fac/eduport/edufund/projects/yang/projects/a-comprehensive-survey-of-deep-research-systems-methodologies-and-applications/\", \"content\": \"### Project Team\\\\n\\\\n#### Renjun Xu\\\\n\\\\nResearcher\\\\n\\\\n#### Jingwen Peng\\\\n\\\\nResearcher\\\\n\\\\n### Contact Information\\\\n\\\\nFor information about the paper, please contact the authors.\\\\n\\\\nAuthors: Renjun Xu, Jingwen Peng\\\\n\\\\nSource Publication: View Original PaperLink opens in a new window\\\\n\\\\nProject Contact: Dr. Jianhua Yang\\\\n\\\\nLLM Model Version: gpt-4o-mini-2024-07-18\\\\n\\\\nAnalysis Provider: Openai\\\\n\\\\n← Back to Projects\", \"score\": 0.7125728}]', name='tavily_search_results_json', id='fe76da4a-1f31-4cf2-b3a3-42ebe32e1b74', tool_call_id='call_7bOhd1ESeii5rLo2Wa1LFJ1H', artifact={'query': 'author of A Comprehensive Survey of Deep Research', 'follow_up_questions': None, 'answer': None, 'images': [], 'results': [{'url': 'https://arxiv.org/abs/2506.12594', 'title': '[2506.12594] A Comprehensive Survey of Deep Research - arXiv', 'content': 'We gratefully acknowledge support from the Simons Foundation, member institutions, and all contributors. Donate\\n\\n> cs > arXiv:2506.12594\\n\\n# Computer Science > Artificial Intelligence\\n\\narXiv:2506.12594 (cs)\\n\\n[Submitted on 14 Jun 2025]\\n\\n# Title:A Comprehensive Survey of Deep Research: Systems, Methodologies, and Applications\\n\\nAuthors:Renjun Xu, Jingwen Peng [...] View a PDF of the paper titled A Comprehensive Survey of Deep Research: Systems, Methodologies, and Applications, by Renjun Xu and 1 other authors [...] View a PDF of the paper titled A Comprehensive Survey of Deep Research: Systems, Methodologies, and Applications, by Renjun Xu and 1 other authors\\n\\n View PDF\\n HTML (experimental)\\n TeX Source\\n Other Formats\\n\\nview license\\n\\nCurrent browse context:\\n\\ncs.AI\\n\\n< prev\")    |    next >\")\\n\\nnew  |  recent  | 2025-06\\n\\nChange to browse by:\\n\\ncs cs.MA\\n\\n### References & Citations\\n\\n NASA ADS\\n Google Scholar\\n Semantic Scholar\\n\\na export BibTeX citation Loading...\\n\\n## BibTeX formatted citation\\n\\n×', 'score': 0.90289277, 'raw_content': None}, {'url': 'https://www.alphaxiv.org/overview/2506.12594', 'title': 'A Comprehensive Survey of Deep Research: Systems ... - alphaXiv', 'content': \"This comprehensive survey by Renjun Xu and Jingwen Peng from Zhejiang University addresses the rapidly emerging field of Deep Research systems—AI-powered applications that integrate large language models, advanced information retrieval, and autonomous reasoning to automate complex research workflows. The paper establishes the first systematic framework for understanding this domain, which has evolved dramatically since 2023, encompassing over 80 commercial and open-source implementations. [...] This paper is cited in the introduction to establish the high-level significance and transformative potential of the survey's topic. It argues that human-aware AI can accelerate science by augmenting researchers' capabilities, providing a foundational conceptual motivation for the development of Deep Research systems.\\n\\nJamshid Sourati and James Evans. 2023. Accelerating science with human-aware artificial intelligence. arXiv:2306.01495 [cs.AI] [...] Yujia Qin, Shihao Liang, Yining Ye, Kunlun Zhu, Lan Yan, Yaxi Lu, Yankai Lin, Xin Cong, Xiangru Tang, Bill Qian, Sihan Zhao, Lauren Hong, Runchu Tian, Ruobing Xie, Jie Zhou, Mark Gerstein, Dahai Li, Zhiyuan Liu, and Maosong Sun. 2023. ToolLLM: Facilitating Large Language Models to Master 16000+ Real-world APIs. arXiv:2307.16789 [cs.AI] \\n\\nHumanity’s Last Exam\", 'score': 0.838376, 'raw_content': None}, {'url': 'https://dl.acm.org/doi/10.1145/3689036', 'title': 'A Comprehensive Survey on Deep Clustering - ACM Digital Library', 'content': 'You can change or withdraw your consent from the Cookie Declaration on our website at any time by visiting the Cookie Declaration page. If contacting us regarding your consent, please state your consent ID and date from that page.\\n\\nskip to main content\\n\\n# A Comprehensive Survey on Deep Clustering: Taxonomy, Challenges, and Future Directions\\n\\nAuthors: Sheng Zhou\\n\\nSheng Zhou\\n\\nZhejiang University, Hangzhou, China\\n\\nView Profile\\n\\n, Hongjia Xu\\n\\nHongjia Xu\\n\\nZhejiang University, Hangzhou, China [...] Wenwu Zhu\\n\\nTsinghua University, Beijing, China\\n\\nView Profile\\n\\n, Martin Ester\\n\\nMartin Ester\\n\\nSimon Fraser University, Burnaby, Canada\\n\\nView Profile\\n\\n (Less)Authors Info & Claims\\n\\nACM Computing Surveys, Volume 57, Issue 3\\n\\nArticle No.: 69, Pages 1 - 38\\n\\nPublished: 11 November 2024 Publication History\\n\\nMetrics\\n\\nTotal Citations23Total Downloads3,013\\n\\nLast 12 Months3,013\\n\\nLast 6 weeks205\\n\\nGet Access\\n\\n## Abstract [...] View Profile\\n\\n, Zhuonan Zheng\\n\\nZhuonan Zheng\\n\\nZhejiang University, Hangzhou, China\\n\\nView Profile\\n\\n, Jiawei Chen\\n\\nJiawei Chen\\n\\nZhejiang University, Hangzhou, China\\n\\nView Profile\\n\\n, + 6, Zhao Li\\n\\nZhao Li\\n\\nZhejiang University, Hangzhou, China\\n\\nView Profile\\n\\n, Jiajun Bu\\n\\nJiajun Bu\\n\\nZhejiang University, Hangzhou, China\\n\\nView Profile\\n\\n, + 4, Jia Wu\\n\\nJia Wu\\n\\nMacquarie University, Sydney, Australia\\n\\nView Profile\\n\\n, Xin Wang\\n\\nXin Wang\\n\\nTsinghua University, Beijing, China\\n\\nView Profile\\n\\n, Wenwu Zhu', 'score': 0.7166357, 'raw_content': None}, {'url': 'https://pubmed.ncbi.nlm.nih.gov/36462229/', 'title': 'A comprehensive survey of deep learning research on medical ...', 'content': 'PMID: 36462229\\n    DOI: 10.1016/j.clinimag.2022.11.003\\n\\n Item in Clipboard \\n\\nReview\\n\\nA comprehensive survey of deep learning research on medical image analysis with focus on transfer learning\\n\\nSema Atasever et al. Clin Imaging.2023 Feb.\\n\\nShow details\\n\\nDisplay options\\n\\n Display options \\n\\n Format \\n\\n Clin Imaging \\n\\nActions\\n\\n   Search in PubMed\\n   Search in NLM Catalog\\n   Add to Search\\n\\n. 2023 Feb:94:18-41.\\n\\n doi: 10.1016/j.clinimag.2022.11.003.  Epub 2022 Nov 12. \\n\\n### Authors [...] A comprehensive survey of deep learning research on medical image analysis with focus on transfer learning\\n\\nSema Atasever1,Nuh Azginoglu2,Duygu Sinanc Terzi3,Ramazan Terzi4\\n\\n Affiliations  Expand \\n\\n### Affiliations [...] 4 Computer Engineering Department, Amasya University, Amasya, Turkey. Electronic address: ramazan.terzi@amasya.edu.tr.', 'score': 0.71425, 'raw_content': None}, {'url': 'https://warwick.ac.uk/fac/cross_fac/eduport/edufund/projects/yang/projects/a-comprehensive-survey-of-deep-research-systems-methodologies-and-applications/', 'title': 'a-comprehensive-survey-of-deep-research-systems-methodologies ...', 'content': '### Project Team\\n\\n#### Renjun Xu\\n\\nResearcher\\n\\n#### Jingwen Peng\\n\\nResearcher\\n\\n### Contact Information\\n\\nFor information about the paper, please contact the authors.\\n\\nAuthors: Renjun Xu, Jingwen Peng\\n\\nSource Publication: View Original PaperLink opens in a new window\\n\\nProject Contact: Dr. Jianhua Yang\\n\\nLLM Model Version: gpt-4o-mini-2024-07-18\\n\\nAnalysis Provider: Openai\\n\\n← Back to Projects', 'score': 0.7125728, 'raw_content': None}], 'response_time': 0.91, 'request_id': 'b5c99d5e-5352-440b-9e9f-437a791fe60b'})]\n",
            "\n",
            "\n",
            "\n",
            "In Agent step\n",
            "\n",
            "\n",
            "\n",
            "State\n",
            "\n",
            "\n",
            "{'messages': [HumanMessage(content='Search Arxiv for the A Comprehensive Survey of Deep Research paper, then search each of the authors to find out where they work now using Tavily!', additional_kwargs={}, response_metadata={}, id='3089174f-23da-4cf1-9f68-7cb7c15a7fb5'), AIMessage(content='', additional_kwargs={'tool_calls': [{'id': 'call_bWSGUmTDg2z0Sp2avWLnwrHF', 'function': {'arguments': '{\"query\": \"A Comprehensive Survey of Deep Research\"}', 'name': 'arxiv'}, 'type': 'function'}, {'id': 'call_7bOhd1ESeii5rLo2Wa1LFJ1H', 'function': {'arguments': '{\"query\": \"author of A Comprehensive Survey of Deep Research\"}', 'name': 'tavily_search_results_json'}, 'type': 'function'}], 'refusal': None}, response_metadata={'token_usage': {'completion_tokens': 60, 'prompt_tokens': 182, 'total_tokens': 242, 'completion_tokens_details': {'accepted_prediction_tokens': 0, 'audio_tokens': 0, 'reasoning_tokens': 0, 'rejected_prediction_tokens': 0}, 'prompt_tokens_details': {'audio_tokens': 0, 'cached_tokens': 0}}, 'model_name': 'gpt-4.1-nano-2025-04-14', 'system_fingerprint': 'fp_7c233bf9d1', 'id': 'chatcmpl-CLd2C2wTGv11aaFOvRPrnmGgHVfUZ', 'service_tier': 'default', 'finish_reason': 'tool_calls', 'logprobs': None}, id='run--b1efbd38-5b25-487c-95f3-cbcd7ba5e26e-0', tool_calls=[{'name': 'arxiv', 'args': {'query': 'A Comprehensive Survey of Deep Research'}, 'id': 'call_bWSGUmTDg2z0Sp2avWLnwrHF', 'type': 'tool_call'}, {'name': 'tavily_search_results_json', 'args': {'query': 'author of A Comprehensive Survey of Deep Research'}, 'id': 'call_7bOhd1ESeii5rLo2Wa1LFJ1H', 'type': 'tool_call'}], usage_metadata={'input_tokens': 182, 'output_tokens': 60, 'total_tokens': 242, 'input_token_details': {'audio': 0, 'cache_read': 0}, 'output_token_details': {'audio': 0, 'reasoning': 0}}), ToolMessage(content='Published: 2025-06-14\\nTitle: A Comprehensive Survey of Deep Research: Systems, Methodologies, and Applications\\nAuthors: Renjun Xu, Jingwen Peng\\nSummary: This survey examines the rapidly evolving field of Deep Research systems --\\nAI-powered applications that automate complex research workflows through the\\nintegration of large language models, advanced information retrieval, and\\nautonomous reasoning capabilities. We analyze more than 80 commercial and\\nnon-commercial implementations that have emerged since 2023, including\\nOpenAI/Deep Research, Gemini/Deep Research, Perplexity/Deep Research, and\\nnumerous open-source alternatives. Through comprehensive examination, we\\npropose a novel hierarchical taxonomy that categorizes systems according to\\nfour fundamental technical dimensions: foundation models and reasoning engines,\\ntool utilization and environmental interaction, task planning and execution\\ncontrol, and knowledge synthesis and output generation. We explore the\\narchitectural patterns, implementation approaches, and domain-specific\\nadaptations that characterize these systems across academic, scientific,\\nbusiness, and educational applications. Our analysis reveals both the\\nsignificant capabilities of current implementations and the technical and\\nethical challenges they present regarding information accuracy, privacy,\\nintellectual property, and accessibility. The survey concludes by identifying\\npromising research directions in advanced reasoning architectures, multimodal\\nintegration, domain specialization, human-AI collaboration, and ecosystem\\nstandardization that will likely shape the future evolution of this\\ntransformative technology. By providing a comprehensive framework for\\nunderstanding Deep Research systems, this survey contributes to both the\\ntheoretical understanding of AI-augmented knowledge work and the practical\\ndevelopment of more capable, responsible, and accessible research technologies.\\nThe paper resources can be viewed at\\nhttps://github.com/scienceaix/deepresearch.\\n\\nPublished: 2021-03-05\\nTitle: A comprehensive survey on point cloud registration\\nAuthors: Xiaoshui Huang, Guofeng Mei, Jian Zhang, Rana Abbas\\nSummary: Registration is a transformation estimation problem between two point clouds,\\nwhich has a unique and critical role in numerous computer vision applications.\\nThe developments of optimization-based methods and deep learning methods have\\nimproved registration robustness and efficiency. Recently, the combinations of\\noptimization-based and deep learning methods have further improved performance.\\nHowever, the connections between optimization-based and deep learning methods\\nare still unclear. Moreover, with the recent development of 3D sensors and 3D\\nreconstruction techniques, a new research direction emerges to align\\ncross-source point clouds. This survey conducts a comprehensive survey,\\nincluding both same-source and cross-source registration methods, and summarize\\nthe connections between optimization-based and deep learning methods, to\\nprovide further research insight. This survey also builds a new benchmark to\\nevaluate the state-of-the-art registration algorithms in solving cross-source\\nchallenges. Besides, this survey summarizes the benchmark data sets and\\ndiscusses point cloud registration applications across various domains.\\nFinally, this survey proposes potential research directions in this rapidly\\ngrowing field.\\n\\nPublished: 2023-07-07\\nTitle: A Survey of Deep Learning in Sports Applications: Perception, Comprehension, and Decision\\nAuthors: Zhonghan Zhao, Wenhao Chai, Shengyu Hao, Wenhao Hu, Guanhong Wang, Shidong Cao, Mingli Song, Jenq-Neng Hwang, Gaoang Wang\\nSummary: Deep learning has the potential to revolutionize sports performance, with\\napplications ranging from perception and comprehension to decision. This paper\\npresents a comprehensive survey of deep learning in sports performance,\\nfocusing on three main aspects: algorithms, datasets and virtual environments,\\nand challenges. Firstly, we discuss th', name='arxiv', id='c8452642-27e4-4de2-a365-0d5f2ecc576a', tool_call_id='call_bWSGUmTDg2z0Sp2avWLnwrHF'), ToolMessage(content='[{\"title\": \"[2506.12594] A Comprehensive Survey of Deep Research - arXiv\", \"url\": \"https://arxiv.org/abs/2506.12594\", \"content\": \"We gratefully acknowledge support from the Simons Foundation, member institutions, and all contributors. Donate\\\\n\\\\n> cs > arXiv:2506.12594\\\\n\\\\n# Computer Science > Artificial Intelligence\\\\n\\\\narXiv:2506.12594 (cs)\\\\n\\\\n[Submitted on 14 Jun 2025]\\\\n\\\\n# Title:A Comprehensive Survey of Deep Research: Systems, Methodologies, and Applications\\\\n\\\\nAuthors:Renjun Xu, Jingwen Peng [...] View a PDF of the paper titled A Comprehensive Survey of Deep Research: Systems, Methodologies, and Applications, by Renjun Xu and 1 other authors [...] View a PDF of the paper titled A Comprehensive Survey of Deep Research: Systems, Methodologies, and Applications, by Renjun Xu and 1 other authors\\\\n\\\\n View PDF\\\\n HTML (experimental)\\\\n TeX Source\\\\n Other Formats\\\\n\\\\nview license\\\\n\\\\nCurrent browse context:\\\\n\\\\ncs.AI\\\\n\\\\n< prev\\\\\")    |    next >\\\\\")\\\\n\\\\nnew  |  recent  | 2025-06\\\\n\\\\nChange to browse by:\\\\n\\\\ncs cs.MA\\\\n\\\\n### References & Citations\\\\n\\\\n NASA ADS\\\\n Google Scholar\\\\n Semantic Scholar\\\\n\\\\na export BibTeX citation Loading...\\\\n\\\\n## BibTeX formatted citation\\\\n\\\\n×\", \"score\": 0.90289277}, {\"title\": \"A Comprehensive Survey of Deep Research: Systems ... - alphaXiv\", \"url\": \"https://www.alphaxiv.org/overview/2506.12594\", \"content\": \"This comprehensive survey by Renjun Xu and Jingwen Peng from Zhejiang University addresses the rapidly emerging field of Deep Research systems—AI-powered applications that integrate large language models, advanced information retrieval, and autonomous reasoning to automate complex research workflows. The paper establishes the first systematic framework for understanding this domain, which has evolved dramatically since 2023, encompassing over 80 commercial and open-source implementations. [...] This paper is cited in the introduction to establish the high-level significance and transformative potential of the survey\\'s topic. It argues that human-aware AI can accelerate science by augmenting researchers\\' capabilities, providing a foundational conceptual motivation for the development of Deep Research systems.\\\\n\\\\nJamshid Sourati and James Evans. 2023. Accelerating science with human-aware artificial intelligence. arXiv:2306.01495 [cs.AI] [...] Yujia Qin, Shihao Liang, Yining Ye, Kunlun Zhu, Lan Yan, Yaxi Lu, Yankai Lin, Xin Cong, Xiangru Tang, Bill Qian, Sihan Zhao, Lauren Hong, Runchu Tian, Ruobing Xie, Jie Zhou, Mark Gerstein, Dahai Li, Zhiyuan Liu, and Maosong Sun. 2023. ToolLLM: Facilitating Large Language Models to Master 16000+ Real-world APIs. arXiv:2307.16789 [cs.AI] \\\\n\\\\nHumanity’s Last Exam\", \"score\": 0.838376}, {\"title\": \"A Comprehensive Survey on Deep Clustering - ACM Digital Library\", \"url\": \"https://dl.acm.org/doi/10.1145/3689036\", \"content\": \"You can change or withdraw your consent from the Cookie Declaration on our website at any time by visiting the Cookie Declaration page. If contacting us regarding your consent, please state your consent ID and date from that page.\\\\n\\\\nskip to main content\\\\n\\\\n# A Comprehensive Survey on Deep Clustering: Taxonomy, Challenges, and Future Directions\\\\n\\\\nAuthors: Sheng Zhou\\\\n\\\\nSheng Zhou\\\\n\\\\nZhejiang University, Hangzhou, China\\\\n\\\\nView Profile\\\\n\\\\n, Hongjia Xu\\\\n\\\\nHongjia Xu\\\\n\\\\nZhejiang University, Hangzhou, China [...] Wenwu Zhu\\\\n\\\\nTsinghua University, Beijing, China\\\\n\\\\nView Profile\\\\n\\\\n, Martin Ester\\\\n\\\\nMartin Ester\\\\n\\\\nSimon Fraser University, Burnaby, Canada\\\\n\\\\nView Profile\\\\n\\\\n (Less)Authors Info & Claims\\\\n\\\\nACM Computing Surveys, Volume 57, Issue 3\\\\n\\\\nArticle No.: 69, Pages 1 - 38\\\\n\\\\nPublished: 11 November 2024 Publication History\\\\n\\\\nMetrics\\\\n\\\\nTotal Citations23Total Downloads3,013\\\\n\\\\nLast 12 Months3,013\\\\n\\\\nLast 6 weeks205\\\\n\\\\nGet Access\\\\n\\\\n## Abstract [...] View Profile\\\\n\\\\n, Zhuonan Zheng\\\\n\\\\nZhuonan Zheng\\\\n\\\\nZhejiang University, Hangzhou, China\\\\n\\\\nView Profile\\\\n\\\\n, Jiawei Chen\\\\n\\\\nJiawei Chen\\\\n\\\\nZhejiang University, Hangzhou, China\\\\n\\\\nView Profile\\\\n\\\\n, + 6, Zhao Li\\\\n\\\\nZhao Li\\\\n\\\\nZhejiang University, Hangzhou, China\\\\n\\\\nView Profile\\\\n\\\\n, Jiajun Bu\\\\n\\\\nJiajun Bu\\\\n\\\\nZhejiang University, Hangzhou, China\\\\n\\\\nView Profile\\\\n\\\\n, + 4, Jia Wu\\\\n\\\\nJia Wu\\\\n\\\\nMacquarie University, Sydney, Australia\\\\n\\\\nView Profile\\\\n\\\\n, Xin Wang\\\\n\\\\nXin Wang\\\\n\\\\nTsinghua University, Beijing, China\\\\n\\\\nView Profile\\\\n\\\\n, Wenwu Zhu\", \"score\": 0.7166357}, {\"title\": \"A comprehensive survey of deep learning research on medical ...\", \"url\": \"https://pubmed.ncbi.nlm.nih.gov/36462229/\", \"content\": \"PMID: 36462229\\\\n    DOI: 10.1016/j.clinimag.2022.11.003\\\\n\\\\n Item in Clipboard \\\\n\\\\nReview\\\\n\\\\nA comprehensive survey of deep learning research on medical image analysis with focus on transfer learning\\\\n\\\\nSema Atasever et al. Clin Imaging.2023 Feb.\\\\n\\\\nShow details\\\\n\\\\nDisplay options\\\\n\\\\n Display options \\\\n\\\\n Format \\\\n\\\\n Clin Imaging \\\\n\\\\nActions\\\\n\\\\n   Search in PubMed\\\\n   Search in NLM Catalog\\\\n   Add to Search\\\\n\\\\n. 2023 Feb:94:18-41.\\\\n\\\\n doi: 10.1016/j.clinimag.2022.11.003.  Epub 2022 Nov 12. \\\\n\\\\n### Authors [...] A comprehensive survey of deep learning research on medical image analysis with focus on transfer learning\\\\n\\\\nSema Atasever1,Nuh Azginoglu2,Duygu Sinanc Terzi3,Ramazan Terzi4\\\\n\\\\n Affiliations  Expand \\\\n\\\\n### Affiliations [...] 4 Computer Engineering Department, Amasya University, Amasya, Turkey. Electronic address: ramazan.terzi@amasya.edu.tr.\", \"score\": 0.71425}, {\"title\": \"a-comprehensive-survey-of-deep-research-systems-methodologies ...\", \"url\": \"https://warwick.ac.uk/fac/cross_fac/eduport/edufund/projects/yang/projects/a-comprehensive-survey-of-deep-research-systems-methodologies-and-applications/\", \"content\": \"### Project Team\\\\n\\\\n#### Renjun Xu\\\\n\\\\nResearcher\\\\n\\\\n#### Jingwen Peng\\\\n\\\\nResearcher\\\\n\\\\n### Contact Information\\\\n\\\\nFor information about the paper, please contact the authors.\\\\n\\\\nAuthors: Renjun Xu, Jingwen Peng\\\\n\\\\nSource Publication: View Original PaperLink opens in a new window\\\\n\\\\nProject Contact: Dr. Jianhua Yang\\\\n\\\\nLLM Model Version: gpt-4o-mini-2024-07-18\\\\n\\\\nAnalysis Provider: Openai\\\\n\\\\n← Back to Projects\", \"score\": 0.7125728}]', name='tavily_search_results_json', id='fe76da4a-1f31-4cf2-b3a3-42ebe32e1b74', tool_call_id='call_7bOhd1ESeii5rLo2Wa1LFJ1H', artifact={'query': 'author of A Comprehensive Survey of Deep Research', 'follow_up_questions': None, 'answer': None, 'images': [], 'results': [{'url': 'https://arxiv.org/abs/2506.12594', 'title': '[2506.12594] A Comprehensive Survey of Deep Research - arXiv', 'content': 'We gratefully acknowledge support from the Simons Foundation, member institutions, and all contributors. Donate\\n\\n> cs > arXiv:2506.12594\\n\\n# Computer Science > Artificial Intelligence\\n\\narXiv:2506.12594 (cs)\\n\\n[Submitted on 14 Jun 2025]\\n\\n# Title:A Comprehensive Survey of Deep Research: Systems, Methodologies, and Applications\\n\\nAuthors:Renjun Xu, Jingwen Peng [...] View a PDF of the paper titled A Comprehensive Survey of Deep Research: Systems, Methodologies, and Applications, by Renjun Xu and 1 other authors [...] View a PDF of the paper titled A Comprehensive Survey of Deep Research: Systems, Methodologies, and Applications, by Renjun Xu and 1 other authors\\n\\n View PDF\\n HTML (experimental)\\n TeX Source\\n Other Formats\\n\\nview license\\n\\nCurrent browse context:\\n\\ncs.AI\\n\\n< prev\")    |    next >\")\\n\\nnew  |  recent  | 2025-06\\n\\nChange to browse by:\\n\\ncs cs.MA\\n\\n### References & Citations\\n\\n NASA ADS\\n Google Scholar\\n Semantic Scholar\\n\\na export BibTeX citation Loading...\\n\\n## BibTeX formatted citation\\n\\n×', 'score': 0.90289277, 'raw_content': None}, {'url': 'https://www.alphaxiv.org/overview/2506.12594', 'title': 'A Comprehensive Survey of Deep Research: Systems ... - alphaXiv', 'content': \"This comprehensive survey by Renjun Xu and Jingwen Peng from Zhejiang University addresses the rapidly emerging field of Deep Research systems—AI-powered applications that integrate large language models, advanced information retrieval, and autonomous reasoning to automate complex research workflows. The paper establishes the first systematic framework for understanding this domain, which has evolved dramatically since 2023, encompassing over 80 commercial and open-source implementations. [...] This paper is cited in the introduction to establish the high-level significance and transformative potential of the survey's topic. It argues that human-aware AI can accelerate science by augmenting researchers' capabilities, providing a foundational conceptual motivation for the development of Deep Research systems.\\n\\nJamshid Sourati and James Evans. 2023. Accelerating science with human-aware artificial intelligence. arXiv:2306.01495 [cs.AI] [...] Yujia Qin, Shihao Liang, Yining Ye, Kunlun Zhu, Lan Yan, Yaxi Lu, Yankai Lin, Xin Cong, Xiangru Tang, Bill Qian, Sihan Zhao, Lauren Hong, Runchu Tian, Ruobing Xie, Jie Zhou, Mark Gerstein, Dahai Li, Zhiyuan Liu, and Maosong Sun. 2023. ToolLLM: Facilitating Large Language Models to Master 16000+ Real-world APIs. arXiv:2307.16789 [cs.AI] \\n\\nHumanity’s Last Exam\", 'score': 0.838376, 'raw_content': None}, {'url': 'https://dl.acm.org/doi/10.1145/3689036', 'title': 'A Comprehensive Survey on Deep Clustering - ACM Digital Library', 'content': 'You can change or withdraw your consent from the Cookie Declaration on our website at any time by visiting the Cookie Declaration page. If contacting us regarding your consent, please state your consent ID and date from that page.\\n\\nskip to main content\\n\\n# A Comprehensive Survey on Deep Clustering: Taxonomy, Challenges, and Future Directions\\n\\nAuthors: Sheng Zhou\\n\\nSheng Zhou\\n\\nZhejiang University, Hangzhou, China\\n\\nView Profile\\n\\n, Hongjia Xu\\n\\nHongjia Xu\\n\\nZhejiang University, Hangzhou, China [...] Wenwu Zhu\\n\\nTsinghua University, Beijing, China\\n\\nView Profile\\n\\n, Martin Ester\\n\\nMartin Ester\\n\\nSimon Fraser University, Burnaby, Canada\\n\\nView Profile\\n\\n (Less)Authors Info & Claims\\n\\nACM Computing Surveys, Volume 57, Issue 3\\n\\nArticle No.: 69, Pages 1 - 38\\n\\nPublished: 11 November 2024 Publication History\\n\\nMetrics\\n\\nTotal Citations23Total Downloads3,013\\n\\nLast 12 Months3,013\\n\\nLast 6 weeks205\\n\\nGet Access\\n\\n## Abstract [...] View Profile\\n\\n, Zhuonan Zheng\\n\\nZhuonan Zheng\\n\\nZhejiang University, Hangzhou, China\\n\\nView Profile\\n\\n, Jiawei Chen\\n\\nJiawei Chen\\n\\nZhejiang University, Hangzhou, China\\n\\nView Profile\\n\\n, + 6, Zhao Li\\n\\nZhao Li\\n\\nZhejiang University, Hangzhou, China\\n\\nView Profile\\n\\n, Jiajun Bu\\n\\nJiajun Bu\\n\\nZhejiang University, Hangzhou, China\\n\\nView Profile\\n\\n, + 4, Jia Wu\\n\\nJia Wu\\n\\nMacquarie University, Sydney, Australia\\n\\nView Profile\\n\\n, Xin Wang\\n\\nXin Wang\\n\\nTsinghua University, Beijing, China\\n\\nView Profile\\n\\n, Wenwu Zhu', 'score': 0.7166357, 'raw_content': None}, {'url': 'https://pubmed.ncbi.nlm.nih.gov/36462229/', 'title': 'A comprehensive survey of deep learning research on medical ...', 'content': 'PMID: 36462229\\n    DOI: 10.1016/j.clinimag.2022.11.003\\n\\n Item in Clipboard \\n\\nReview\\n\\nA comprehensive survey of deep learning research on medical image analysis with focus on transfer learning\\n\\nSema Atasever et al. Clin Imaging.2023 Feb.\\n\\nShow details\\n\\nDisplay options\\n\\n Display options \\n\\n Format \\n\\n Clin Imaging \\n\\nActions\\n\\n   Search in PubMed\\n   Search in NLM Catalog\\n   Add to Search\\n\\n. 2023 Feb:94:18-41.\\n\\n doi: 10.1016/j.clinimag.2022.11.003.  Epub 2022 Nov 12. \\n\\n### Authors [...] A comprehensive survey of deep learning research on medical image analysis with focus on transfer learning\\n\\nSema Atasever1,Nuh Azginoglu2,Duygu Sinanc Terzi3,Ramazan Terzi4\\n\\n Affiliations  Expand \\n\\n### Affiliations [...] 4 Computer Engineering Department, Amasya University, Amasya, Turkey. Electronic address: ramazan.terzi@amasya.edu.tr.', 'score': 0.71425, 'raw_content': None}, {'url': 'https://warwick.ac.uk/fac/cross_fac/eduport/edufund/projects/yang/projects/a-comprehensive-survey-of-deep-research-systems-methodologies-and-applications/', 'title': 'a-comprehensive-survey-of-deep-research-systems-methodologies ...', 'content': '### Project Team\\n\\n#### Renjun Xu\\n\\nResearcher\\n\\n#### Jingwen Peng\\n\\nResearcher\\n\\n### Contact Information\\n\\nFor information about the paper, please contact the authors.\\n\\nAuthors: Renjun Xu, Jingwen Peng\\n\\nSource Publication: View Original PaperLink opens in a new window\\n\\nProject Contact: Dr. Jianhua Yang\\n\\nLLM Model Version: gpt-4o-mini-2024-07-18\\n\\nAnalysis Provider: Openai\\n\\n← Back to Projects', 'score': 0.7125728, 'raw_content': None}], 'response_time': 0.91, 'request_id': 'b5c99d5e-5352-440b-9e9f-437a791fe60b'})]}\n",
            "In condition step\n",
            "\n",
            "\n",
            "\n",
            "State\n",
            "\n",
            "\n",
            "{'messages': [HumanMessage(content='Search Arxiv for the A Comprehensive Survey of Deep Research paper, then search each of the authors to find out where they work now using Tavily!', additional_kwargs={}, response_metadata={}, id='3089174f-23da-4cf1-9f68-7cb7c15a7fb5'), AIMessage(content='', additional_kwargs={'tool_calls': [{'id': 'call_bWSGUmTDg2z0Sp2avWLnwrHF', 'function': {'arguments': '{\"query\": \"A Comprehensive Survey of Deep Research\"}', 'name': 'arxiv'}, 'type': 'function'}, {'id': 'call_7bOhd1ESeii5rLo2Wa1LFJ1H', 'function': {'arguments': '{\"query\": \"author of A Comprehensive Survey of Deep Research\"}', 'name': 'tavily_search_results_json'}, 'type': 'function'}], 'refusal': None}, response_metadata={'token_usage': {'completion_tokens': 60, 'prompt_tokens': 182, 'total_tokens': 242, 'completion_tokens_details': {'accepted_prediction_tokens': 0, 'audio_tokens': 0, 'reasoning_tokens': 0, 'rejected_prediction_tokens': 0}, 'prompt_tokens_details': {'audio_tokens': 0, 'cached_tokens': 0}}, 'model_name': 'gpt-4.1-nano-2025-04-14', 'system_fingerprint': 'fp_7c233bf9d1', 'id': 'chatcmpl-CLd2C2wTGv11aaFOvRPrnmGgHVfUZ', 'service_tier': 'default', 'finish_reason': 'tool_calls', 'logprobs': None}, id='run--b1efbd38-5b25-487c-95f3-cbcd7ba5e26e-0', tool_calls=[{'name': 'arxiv', 'args': {'query': 'A Comprehensive Survey of Deep Research'}, 'id': 'call_bWSGUmTDg2z0Sp2avWLnwrHF', 'type': 'tool_call'}, {'name': 'tavily_search_results_json', 'args': {'query': 'author of A Comprehensive Survey of Deep Research'}, 'id': 'call_7bOhd1ESeii5rLo2Wa1LFJ1H', 'type': 'tool_call'}], usage_metadata={'input_tokens': 182, 'output_tokens': 60, 'total_tokens': 242, 'input_token_details': {'audio': 0, 'cache_read': 0}, 'output_token_details': {'audio': 0, 'reasoning': 0}}), ToolMessage(content='Published: 2025-06-14\\nTitle: A Comprehensive Survey of Deep Research: Systems, Methodologies, and Applications\\nAuthors: Renjun Xu, Jingwen Peng\\nSummary: This survey examines the rapidly evolving field of Deep Research systems --\\nAI-powered applications that automate complex research workflows through the\\nintegration of large language models, advanced information retrieval, and\\nautonomous reasoning capabilities. We analyze more than 80 commercial and\\nnon-commercial implementations that have emerged since 2023, including\\nOpenAI/Deep Research, Gemini/Deep Research, Perplexity/Deep Research, and\\nnumerous open-source alternatives. Through comprehensive examination, we\\npropose a novel hierarchical taxonomy that categorizes systems according to\\nfour fundamental technical dimensions: foundation models and reasoning engines,\\ntool utilization and environmental interaction, task planning and execution\\ncontrol, and knowledge synthesis and output generation. We explore the\\narchitectural patterns, implementation approaches, and domain-specific\\nadaptations that characterize these systems across academic, scientific,\\nbusiness, and educational applications. Our analysis reveals both the\\nsignificant capabilities of current implementations and the technical and\\nethical challenges they present regarding information accuracy, privacy,\\nintellectual property, and accessibility. The survey concludes by identifying\\npromising research directions in advanced reasoning architectures, multimodal\\nintegration, domain specialization, human-AI collaboration, and ecosystem\\nstandardization that will likely shape the future evolution of this\\ntransformative technology. By providing a comprehensive framework for\\nunderstanding Deep Research systems, this survey contributes to both the\\ntheoretical understanding of AI-augmented knowledge work and the practical\\ndevelopment of more capable, responsible, and accessible research technologies.\\nThe paper resources can be viewed at\\nhttps://github.com/scienceaix/deepresearch.\\n\\nPublished: 2021-03-05\\nTitle: A comprehensive survey on point cloud registration\\nAuthors: Xiaoshui Huang, Guofeng Mei, Jian Zhang, Rana Abbas\\nSummary: Registration is a transformation estimation problem between two point clouds,\\nwhich has a unique and critical role in numerous computer vision applications.\\nThe developments of optimization-based methods and deep learning methods have\\nimproved registration robustness and efficiency. Recently, the combinations of\\noptimization-based and deep learning methods have further improved performance.\\nHowever, the connections between optimization-based and deep learning methods\\nare still unclear. Moreover, with the recent development of 3D sensors and 3D\\nreconstruction techniques, a new research direction emerges to align\\ncross-source point clouds. This survey conducts a comprehensive survey,\\nincluding both same-source and cross-source registration methods, and summarize\\nthe connections between optimization-based and deep learning methods, to\\nprovide further research insight. This survey also builds a new benchmark to\\nevaluate the state-of-the-art registration algorithms in solving cross-source\\nchallenges. Besides, this survey summarizes the benchmark data sets and\\ndiscusses point cloud registration applications across various domains.\\nFinally, this survey proposes potential research directions in this rapidly\\ngrowing field.\\n\\nPublished: 2023-07-07\\nTitle: A Survey of Deep Learning in Sports Applications: Perception, Comprehension, and Decision\\nAuthors: Zhonghan Zhao, Wenhao Chai, Shengyu Hao, Wenhao Hu, Guanhong Wang, Shidong Cao, Mingli Song, Jenq-Neng Hwang, Gaoang Wang\\nSummary: Deep learning has the potential to revolutionize sports performance, with\\napplications ranging from perception and comprehension to decision. This paper\\npresents a comprehensive survey of deep learning in sports performance,\\nfocusing on three main aspects: algorithms, datasets and virtual environments,\\nand challenges. Firstly, we discuss th', name='arxiv', id='c8452642-27e4-4de2-a365-0d5f2ecc576a', tool_call_id='call_bWSGUmTDg2z0Sp2avWLnwrHF'), ToolMessage(content='[{\"title\": \"[2506.12594] A Comprehensive Survey of Deep Research - arXiv\", \"url\": \"https://arxiv.org/abs/2506.12594\", \"content\": \"We gratefully acknowledge support from the Simons Foundation, member institutions, and all contributors. Donate\\\\n\\\\n> cs > arXiv:2506.12594\\\\n\\\\n# Computer Science > Artificial Intelligence\\\\n\\\\narXiv:2506.12594 (cs)\\\\n\\\\n[Submitted on 14 Jun 2025]\\\\n\\\\n# Title:A Comprehensive Survey of Deep Research: Systems, Methodologies, and Applications\\\\n\\\\nAuthors:Renjun Xu, Jingwen Peng [...] View a PDF of the paper titled A Comprehensive Survey of Deep Research: Systems, Methodologies, and Applications, by Renjun Xu and 1 other authors [...] View a PDF of the paper titled A Comprehensive Survey of Deep Research: Systems, Methodologies, and Applications, by Renjun Xu and 1 other authors\\\\n\\\\n View PDF\\\\n HTML (experimental)\\\\n TeX Source\\\\n Other Formats\\\\n\\\\nview license\\\\n\\\\nCurrent browse context:\\\\n\\\\ncs.AI\\\\n\\\\n< prev\\\\\")    |    next >\\\\\")\\\\n\\\\nnew  |  recent  | 2025-06\\\\n\\\\nChange to browse by:\\\\n\\\\ncs cs.MA\\\\n\\\\n### References & Citations\\\\n\\\\n NASA ADS\\\\n Google Scholar\\\\n Semantic Scholar\\\\n\\\\na export BibTeX citation Loading...\\\\n\\\\n## BibTeX formatted citation\\\\n\\\\n×\", \"score\": 0.90289277}, {\"title\": \"A Comprehensive Survey of Deep Research: Systems ... - alphaXiv\", \"url\": \"https://www.alphaxiv.org/overview/2506.12594\", \"content\": \"This comprehensive survey by Renjun Xu and Jingwen Peng from Zhejiang University addresses the rapidly emerging field of Deep Research systems—AI-powered applications that integrate large language models, advanced information retrieval, and autonomous reasoning to automate complex research workflows. The paper establishes the first systematic framework for understanding this domain, which has evolved dramatically since 2023, encompassing over 80 commercial and open-source implementations. [...] This paper is cited in the introduction to establish the high-level significance and transformative potential of the survey\\'s topic. It argues that human-aware AI can accelerate science by augmenting researchers\\' capabilities, providing a foundational conceptual motivation for the development of Deep Research systems.\\\\n\\\\nJamshid Sourati and James Evans. 2023. Accelerating science with human-aware artificial intelligence. arXiv:2306.01495 [cs.AI] [...] Yujia Qin, Shihao Liang, Yining Ye, Kunlun Zhu, Lan Yan, Yaxi Lu, Yankai Lin, Xin Cong, Xiangru Tang, Bill Qian, Sihan Zhao, Lauren Hong, Runchu Tian, Ruobing Xie, Jie Zhou, Mark Gerstein, Dahai Li, Zhiyuan Liu, and Maosong Sun. 2023. ToolLLM: Facilitating Large Language Models to Master 16000+ Real-world APIs. arXiv:2307.16789 [cs.AI] \\\\n\\\\nHumanity’s Last Exam\", \"score\": 0.838376}, {\"title\": \"A Comprehensive Survey on Deep Clustering - ACM Digital Library\", \"url\": \"https://dl.acm.org/doi/10.1145/3689036\", \"content\": \"You can change or withdraw your consent from the Cookie Declaration on our website at any time by visiting the Cookie Declaration page. If contacting us regarding your consent, please state your consent ID and date from that page.\\\\n\\\\nskip to main content\\\\n\\\\n# A Comprehensive Survey on Deep Clustering: Taxonomy, Challenges, and Future Directions\\\\n\\\\nAuthors: Sheng Zhou\\\\n\\\\nSheng Zhou\\\\n\\\\nZhejiang University, Hangzhou, China\\\\n\\\\nView Profile\\\\n\\\\n, Hongjia Xu\\\\n\\\\nHongjia Xu\\\\n\\\\nZhejiang University, Hangzhou, China [...] Wenwu Zhu\\\\n\\\\nTsinghua University, Beijing, China\\\\n\\\\nView Profile\\\\n\\\\n, Martin Ester\\\\n\\\\nMartin Ester\\\\n\\\\nSimon Fraser University, Burnaby, Canada\\\\n\\\\nView Profile\\\\n\\\\n (Less)Authors Info & Claims\\\\n\\\\nACM Computing Surveys, Volume 57, Issue 3\\\\n\\\\nArticle No.: 69, Pages 1 - 38\\\\n\\\\nPublished: 11 November 2024 Publication History\\\\n\\\\nMetrics\\\\n\\\\nTotal Citations23Total Downloads3,013\\\\n\\\\nLast 12 Months3,013\\\\n\\\\nLast 6 weeks205\\\\n\\\\nGet Access\\\\n\\\\n## Abstract [...] View Profile\\\\n\\\\n, Zhuonan Zheng\\\\n\\\\nZhuonan Zheng\\\\n\\\\nZhejiang University, Hangzhou, China\\\\n\\\\nView Profile\\\\n\\\\n, Jiawei Chen\\\\n\\\\nJiawei Chen\\\\n\\\\nZhejiang University, Hangzhou, China\\\\n\\\\nView Profile\\\\n\\\\n, + 6, Zhao Li\\\\n\\\\nZhao Li\\\\n\\\\nZhejiang University, Hangzhou, China\\\\n\\\\nView Profile\\\\n\\\\n, Jiajun Bu\\\\n\\\\nJiajun Bu\\\\n\\\\nZhejiang University, Hangzhou, China\\\\n\\\\nView Profile\\\\n\\\\n, + 4, Jia Wu\\\\n\\\\nJia Wu\\\\n\\\\nMacquarie University, Sydney, Australia\\\\n\\\\nView Profile\\\\n\\\\n, Xin Wang\\\\n\\\\nXin Wang\\\\n\\\\nTsinghua University, Beijing, China\\\\n\\\\nView Profile\\\\n\\\\n, Wenwu Zhu\", \"score\": 0.7166357}, {\"title\": \"A comprehensive survey of deep learning research on medical ...\", \"url\": \"https://pubmed.ncbi.nlm.nih.gov/36462229/\", \"content\": \"PMID: 36462229\\\\n    DOI: 10.1016/j.clinimag.2022.11.003\\\\n\\\\n Item in Clipboard \\\\n\\\\nReview\\\\n\\\\nA comprehensive survey of deep learning research on medical image analysis with focus on transfer learning\\\\n\\\\nSema Atasever et al. Clin Imaging.2023 Feb.\\\\n\\\\nShow details\\\\n\\\\nDisplay options\\\\n\\\\n Display options \\\\n\\\\n Format \\\\n\\\\n Clin Imaging \\\\n\\\\nActions\\\\n\\\\n   Search in PubMed\\\\n   Search in NLM Catalog\\\\n   Add to Search\\\\n\\\\n. 2023 Feb:94:18-41.\\\\n\\\\n doi: 10.1016/j.clinimag.2022.11.003.  Epub 2022 Nov 12. \\\\n\\\\n### Authors [...] A comprehensive survey of deep learning research on medical image analysis with focus on transfer learning\\\\n\\\\nSema Atasever1,Nuh Azginoglu2,Duygu Sinanc Terzi3,Ramazan Terzi4\\\\n\\\\n Affiliations  Expand \\\\n\\\\n### Affiliations [...] 4 Computer Engineering Department, Amasya University, Amasya, Turkey. Electronic address: ramazan.terzi@amasya.edu.tr.\", \"score\": 0.71425}, {\"title\": \"a-comprehensive-survey-of-deep-research-systems-methodologies ...\", \"url\": \"https://warwick.ac.uk/fac/cross_fac/eduport/edufund/projects/yang/projects/a-comprehensive-survey-of-deep-research-systems-methodologies-and-applications/\", \"content\": \"### Project Team\\\\n\\\\n#### Renjun Xu\\\\n\\\\nResearcher\\\\n\\\\n#### Jingwen Peng\\\\n\\\\nResearcher\\\\n\\\\n### Contact Information\\\\n\\\\nFor information about the paper, please contact the authors.\\\\n\\\\nAuthors: Renjun Xu, Jingwen Peng\\\\n\\\\nSource Publication: View Original PaperLink opens in a new window\\\\n\\\\nProject Contact: Dr. Jianhua Yang\\\\n\\\\nLLM Model Version: gpt-4o-mini-2024-07-18\\\\n\\\\nAnalysis Provider: Openai\\\\n\\\\n← Back to Projects\", \"score\": 0.7125728}]', name='tavily_search_results_json', id='fe76da4a-1f31-4cf2-b3a3-42ebe32e1b74', tool_call_id='call_7bOhd1ESeii5rLo2Wa1LFJ1H', artifact={'query': 'author of A Comprehensive Survey of Deep Research', 'follow_up_questions': None, 'answer': None, 'images': [], 'results': [{'url': 'https://arxiv.org/abs/2506.12594', 'title': '[2506.12594] A Comprehensive Survey of Deep Research - arXiv', 'content': 'We gratefully acknowledge support from the Simons Foundation, member institutions, and all contributors. Donate\\n\\n> cs > arXiv:2506.12594\\n\\n# Computer Science > Artificial Intelligence\\n\\narXiv:2506.12594 (cs)\\n\\n[Submitted on 14 Jun 2025]\\n\\n# Title:A Comprehensive Survey of Deep Research: Systems, Methodologies, and Applications\\n\\nAuthors:Renjun Xu, Jingwen Peng [...] View a PDF of the paper titled A Comprehensive Survey of Deep Research: Systems, Methodologies, and Applications, by Renjun Xu and 1 other authors [...] View a PDF of the paper titled A Comprehensive Survey of Deep Research: Systems, Methodologies, and Applications, by Renjun Xu and 1 other authors\\n\\n View PDF\\n HTML (experimental)\\n TeX Source\\n Other Formats\\n\\nview license\\n\\nCurrent browse context:\\n\\ncs.AI\\n\\n< prev\")    |    next >\")\\n\\nnew  |  recent  | 2025-06\\n\\nChange to browse by:\\n\\ncs cs.MA\\n\\n### References & Citations\\n\\n NASA ADS\\n Google Scholar\\n Semantic Scholar\\n\\na export BibTeX citation Loading...\\n\\n## BibTeX formatted citation\\n\\n×', 'score': 0.90289277, 'raw_content': None}, {'url': 'https://www.alphaxiv.org/overview/2506.12594', 'title': 'A Comprehensive Survey of Deep Research: Systems ... - alphaXiv', 'content': \"This comprehensive survey by Renjun Xu and Jingwen Peng from Zhejiang University addresses the rapidly emerging field of Deep Research systems—AI-powered applications that integrate large language models, advanced information retrieval, and autonomous reasoning to automate complex research workflows. The paper establishes the first systematic framework for understanding this domain, which has evolved dramatically since 2023, encompassing over 80 commercial and open-source implementations. [...] This paper is cited in the introduction to establish the high-level significance and transformative potential of the survey's topic. It argues that human-aware AI can accelerate science by augmenting researchers' capabilities, providing a foundational conceptual motivation for the development of Deep Research systems.\\n\\nJamshid Sourati and James Evans. 2023. Accelerating science with human-aware artificial intelligence. arXiv:2306.01495 [cs.AI] [...] Yujia Qin, Shihao Liang, Yining Ye, Kunlun Zhu, Lan Yan, Yaxi Lu, Yankai Lin, Xin Cong, Xiangru Tang, Bill Qian, Sihan Zhao, Lauren Hong, Runchu Tian, Ruobing Xie, Jie Zhou, Mark Gerstein, Dahai Li, Zhiyuan Liu, and Maosong Sun. 2023. ToolLLM: Facilitating Large Language Models to Master 16000+ Real-world APIs. arXiv:2307.16789 [cs.AI] \\n\\nHumanity’s Last Exam\", 'score': 0.838376, 'raw_content': None}, {'url': 'https://dl.acm.org/doi/10.1145/3689036', 'title': 'A Comprehensive Survey on Deep Clustering - ACM Digital Library', 'content': 'You can change or withdraw your consent from the Cookie Declaration on our website at any time by visiting the Cookie Declaration page. If contacting us regarding your consent, please state your consent ID and date from that page.\\n\\nskip to main content\\n\\n# A Comprehensive Survey on Deep Clustering: Taxonomy, Challenges, and Future Directions\\n\\nAuthors: Sheng Zhou\\n\\nSheng Zhou\\n\\nZhejiang University, Hangzhou, China\\n\\nView Profile\\n\\n, Hongjia Xu\\n\\nHongjia Xu\\n\\nZhejiang University, Hangzhou, China [...] Wenwu Zhu\\n\\nTsinghua University, Beijing, China\\n\\nView Profile\\n\\n, Martin Ester\\n\\nMartin Ester\\n\\nSimon Fraser University, Burnaby, Canada\\n\\nView Profile\\n\\n (Less)Authors Info & Claims\\n\\nACM Computing Surveys, Volume 57, Issue 3\\n\\nArticle No.: 69, Pages 1 - 38\\n\\nPublished: 11 November 2024 Publication History\\n\\nMetrics\\n\\nTotal Citations23Total Downloads3,013\\n\\nLast 12 Months3,013\\n\\nLast 6 weeks205\\n\\nGet Access\\n\\n## Abstract [...] View Profile\\n\\n, Zhuonan Zheng\\n\\nZhuonan Zheng\\n\\nZhejiang University, Hangzhou, China\\n\\nView Profile\\n\\n, Jiawei Chen\\n\\nJiawei Chen\\n\\nZhejiang University, Hangzhou, China\\n\\nView Profile\\n\\n, + 6, Zhao Li\\n\\nZhao Li\\n\\nZhejiang University, Hangzhou, China\\n\\nView Profile\\n\\n, Jiajun Bu\\n\\nJiajun Bu\\n\\nZhejiang University, Hangzhou, China\\n\\nView Profile\\n\\n, + 4, Jia Wu\\n\\nJia Wu\\n\\nMacquarie University, Sydney, Australia\\n\\nView Profile\\n\\n, Xin Wang\\n\\nXin Wang\\n\\nTsinghua University, Beijing, China\\n\\nView Profile\\n\\n, Wenwu Zhu', 'score': 0.7166357, 'raw_content': None}, {'url': 'https://pubmed.ncbi.nlm.nih.gov/36462229/', 'title': 'A comprehensive survey of deep learning research on medical ...', 'content': 'PMID: 36462229\\n    DOI: 10.1016/j.clinimag.2022.11.003\\n\\n Item in Clipboard \\n\\nReview\\n\\nA comprehensive survey of deep learning research on medical image analysis with focus on transfer learning\\n\\nSema Atasever et al. Clin Imaging.2023 Feb.\\n\\nShow details\\n\\nDisplay options\\n\\n Display options \\n\\n Format \\n\\n Clin Imaging \\n\\nActions\\n\\n   Search in PubMed\\n   Search in NLM Catalog\\n   Add to Search\\n\\n. 2023 Feb:94:18-41.\\n\\n doi: 10.1016/j.clinimag.2022.11.003.  Epub 2022 Nov 12. \\n\\n### Authors [...] A comprehensive survey of deep learning research on medical image analysis with focus on transfer learning\\n\\nSema Atasever1,Nuh Azginoglu2,Duygu Sinanc Terzi3,Ramazan Terzi4\\n\\n Affiliations  Expand \\n\\n### Affiliations [...] 4 Computer Engineering Department, Amasya University, Amasya, Turkey. Electronic address: ramazan.terzi@amasya.edu.tr.', 'score': 0.71425, 'raw_content': None}, {'url': 'https://warwick.ac.uk/fac/cross_fac/eduport/edufund/projects/yang/projects/a-comprehensive-survey-of-deep-research-systems-methodologies-and-applications/', 'title': 'a-comprehensive-survey-of-deep-research-systems-methodologies ...', 'content': '### Project Team\\n\\n#### Renjun Xu\\n\\nResearcher\\n\\n#### Jingwen Peng\\n\\nResearcher\\n\\n### Contact Information\\n\\nFor information about the paper, please contact the authors.\\n\\nAuthors: Renjun Xu, Jingwen Peng\\n\\nSource Publication: View Original PaperLink opens in a new window\\n\\nProject Contact: Dr. Jianhua Yang\\n\\nLLM Model Version: gpt-4o-mini-2024-07-18\\n\\nAnalysis Provider: Openai\\n\\n← Back to Projects', 'score': 0.7125728, 'raw_content': None}], 'response_time': 0.91, 'request_id': 'b5c99d5e-5352-440b-9e9f-437a791fe60b'}), AIMessage(content='The research paper titled \"A Comprehensive Survey of Deep Research: Systems, Methodologies, and Applications\" was authored by Renjun Xu and Jingwen Peng. \\n\\nI will now proceed to find out where each of these authors currently work.', additional_kwargs={'tool_calls': [{'id': 'call_ebgSVbPVt51SRfT9FbSpLDWW', 'function': {'arguments': '{\"query\": \"Renjun Xu Zhejiang University\"}', 'name': 'tavily_search_results_json'}, 'type': 'function'}, {'id': 'call_s4Zf7SSnS4eTNxtfsRcO1IZK', 'function': {'arguments': '{\"query\": \"Jingwen Peng Zhejiang University\"}', 'name': 'tavily_search_results_json'}, 'type': 'function'}], 'refusal': None}, response_metadata={'token_usage': {'completion_tokens': 109, 'prompt_tokens': 2645, 'total_tokens': 2754, 'completion_tokens_details': {'accepted_prediction_tokens': 0, 'audio_tokens': 0, 'reasoning_tokens': 0, 'rejected_prediction_tokens': 0}, 'prompt_tokens_details': {'audio_tokens': 0, 'cached_tokens': 0}}, 'model_name': 'gpt-4.1-nano-2025-04-14', 'system_fingerprint': 'fp_7c233bf9d1', 'id': 'chatcmpl-CLd2IRGoclOoVVkzAlNnHXdVGZ1T5', 'service_tier': 'default', 'finish_reason': 'tool_calls', 'logprobs': None}, id='run--e00cbd0e-0807-4b3f-974a-719407ca5294-0', tool_calls=[{'name': 'tavily_search_results_json', 'args': {'query': 'Renjun Xu Zhejiang University'}, 'id': 'call_ebgSVbPVt51SRfT9FbSpLDWW', 'type': 'tool_call'}, {'name': 'tavily_search_results_json', 'args': {'query': 'Jingwen Peng Zhejiang University'}, 'id': 'call_s4Zf7SSnS4eTNxtfsRcO1IZK', 'type': 'tool_call'}], usage_metadata={'input_tokens': 2645, 'output_tokens': 109, 'total_tokens': 2754, 'input_token_details': {'audio': 0, 'cache_read': 0}, 'output_token_details': {'audio': 0, 'reasoning': 0}})]}\n",
            "Receiving update from node: 'agent'\n",
            "[AIMessage(content='The research paper titled \"A Comprehensive Survey of Deep Research: Systems, Methodologies, and Applications\" was authored by Renjun Xu and Jingwen Peng. \\n\\nI will now proceed to find out where each of these authors currently work.', additional_kwargs={'tool_calls': [{'id': 'call_ebgSVbPVt51SRfT9FbSpLDWW', 'function': {'arguments': '{\"query\": \"Renjun Xu Zhejiang University\"}', 'name': 'tavily_search_results_json'}, 'type': 'function'}, {'id': 'call_s4Zf7SSnS4eTNxtfsRcO1IZK', 'function': {'arguments': '{\"query\": \"Jingwen Peng Zhejiang University\"}', 'name': 'tavily_search_results_json'}, 'type': 'function'}], 'refusal': None}, response_metadata={'token_usage': {'completion_tokens': 109, 'prompt_tokens': 2645, 'total_tokens': 2754, 'completion_tokens_details': {'accepted_prediction_tokens': 0, 'audio_tokens': 0, 'reasoning_tokens': 0, 'rejected_prediction_tokens': 0}, 'prompt_tokens_details': {'audio_tokens': 0, 'cached_tokens': 0}}, 'model_name': 'gpt-4.1-nano-2025-04-14', 'system_fingerprint': 'fp_7c233bf9d1', 'id': 'chatcmpl-CLd2IRGoclOoVVkzAlNnHXdVGZ1T5', 'service_tier': 'default', 'finish_reason': 'tool_calls', 'logprobs': None}, id='run--e00cbd0e-0807-4b3f-974a-719407ca5294-0', tool_calls=[{'name': 'tavily_search_results_json', 'args': {'query': 'Renjun Xu Zhejiang University'}, 'id': 'call_ebgSVbPVt51SRfT9FbSpLDWW', 'type': 'tool_call'}, {'name': 'tavily_search_results_json', 'args': {'query': 'Jingwen Peng Zhejiang University'}, 'id': 'call_s4Zf7SSnS4eTNxtfsRcO1IZK', 'type': 'tool_call'}], usage_metadata={'input_tokens': 2645, 'output_tokens': 109, 'total_tokens': 2754, 'input_token_details': {'audio': 0, 'cache_read': 0}, 'output_token_details': {'audio': 0, 'reasoning': 0}})]\n",
            "\n",
            "\n",
            "\n",
            "Receiving update from node: 'action'\n",
            "Tool Used: tavily_search_results_json\n",
            "[ToolMessage(content='[{\"title\": \"Renjun Xu - Researcher, Zhejiang University\", \"url\": \"https://openreview.net/profile?id=~Renjun_Xu1\", \"content\": \"# Renjun Xu\\\\n\\\\n### Principal Researcher, Zhejiang University\\\\n\\\\n Joined September 2021\\\\n\\\\n#### Names\\\\n\\\\nRenjun Xu (Preferred)\\\\n\\\\n Suggest Name\\\\n\\\\n#### Emails\\\\n\\\\n\\\\\\\\\\\\\\\\\\\\\\\\\\\\\\\\@zju.edu.cn (Confirmed)\\\\n\\\\n Suggest Email\\\\n\\\\n#### Personal Links\\\\n\\\\nHomepage\\\\n\\\\nDBLP\\\\n\\\\nORCID\\\\n\\\\nSemantic Scholar\\\\n\\\\n Suggest URL\\\\n\\\\n#### Career & Education History\\\\n\\\\nPrincipal Researcher\\\\n\\\\nZhejiang University(zju.edu.cn)\\\\n\\\\n2018 – Present\\\\n\\\\n Suggest Position\\\\n\\\\n#### Advisors, Relations & Conflicts\\\\n\\\\nNo relations added\\\\n\\\\n Suggest Relation\\\\n\\\\n#### Expertise [...] equivariant neural network, domain adaptation, domain generalization, molecular, physics, contrastive learning, symmetry, crystal, phase transition\\\\n\\\\nPresent\\\\n\\\\n Suggest Expertise\", \"score\": 0.7992077}, {\"title\": \"Renjun Xu | IEEE Xplore Author Details\", \"url\": \"https://ieeexplore.ieee.org/author/37089181301\", \"content\": \"Affiliations: [Center for Data Science, Zhejiang University, Hangzhou, China]. Author Bio: Renjun Xu received the PhD degree from UC Davis, ZJU100 Young\", \"score\": 0.725824}, {\"title\": \"zhuan@zju.edu.cn\", \"url\": \"https://person.zju.edu.cn/en/0094094\", \"content\": \"XU ZHUAN Ph.D. \\\\n\\\\nProfessor\\\\n| Doctoral supervisor\\\\n\\\\nSchool Of Physics\\\\n\\\\n 0571 87953255\\\\n zhuan@zju.edu.cn\\\\n + Condensed Matter Physics\\\\n\\\\n Biography\\\\n Courses\\\\n Publications\\\\n\\\\n正在加载中，请稍后... [...] 中文\\\\n|\\\\nEnglish\\\\n\\\\nWelcome !\\u2003\\\\n\\\\n Main\\\\n Logout)\\\\n\\\\nLogin\\\\n\\\\n### Related People\\\\n\\\\nAnother batch\\\\n\\\\n ##### ZHENG YI\\\\n\\\\n  School Of Physics\\\\n ##### Liu, Yang\\\\n\\\\n  School Of Physics\\\\n ##### CHENSHUIQIAO\\\\n\\\\n  School Of Physics\\\\n ##### Fang Minghu\\\\n\\\\n  School Of Physics\\\\n ##### ZHU SHIYAO\\\\n\\\\n  School Of Physics\\\\n ##### WANGHUA\\\\n\\\\n  School Of Physics\\\\n ##### SONGYU\\\\n\\\\n  School Of Physics\\\\n ##### Zhentao Wang\\\\n\\\\n  School Of Physics\\\\n ##### Jingyuan LI\\\\n\\\\n  School Of Physics\\\\n ##### LVLIHUA\\\\n\\\\n  School Of Physics\\\\n\\\\n2023-06-09\\\\n\\\\n:5892\", \"score\": 0.22387761}, {\"title\": \"Applied theory of planned behavior to explore associated ...\", \"url\": \"https://pubmed.ncbi.nlm.nih.gov/40011414/\", \"content\": \"Among the 1350 eligible participants, ultimately 964 of them submitted valid questionnaires. According to the leisure time index (LSI) scores, 59.34% of Chinese CCS reached the recommendation level of moderate-vigorous physical activity (MVPA) (LSI ≥ 24). Attending school, diagnosis, time since discharge, behavioral intention, and self-efficacy were associated with MVPA levels in CCS. Path analysis showed that intention and self-efficacy exerted a direct effect on CCS\\' PA, whereas the direct [...] ### Add to Collections\\\\n\\\\n### Add to My Bibliography\\\\n\\\\n## Your saved search\\\\n\\\\n## Create a file for external citation management software\\\\n\\\\n## Your RSS Feed\\\\n\\\\n### Full text links\\\\n\\\\nSpringer full text link\\\\n\\\\n### Actions\\\\n\\\\n### Page navigation\\\\n\\\\n# Applied theory of planned behavior to explore associated factor of physical activity level among Chinese childhood cancer survivors\\\\n\\\\n### Affiliations [...] This study highlights the critical need to address low physical activity levels among childhood cancer survivors (CCS), as insufficient engagement in moderate-vigorous physical activity (MVPA) may hinder their recovery and longterm health outcomes. The findings underscore the pivotal role of self-efficacy in promoting MVPA participation, with both direct and indirect effects on activity behaviors. Interventions targeting CCS should prioritize strategies to enhance self-efficacy-such as\", \"score\": 0.10421286}, {\"title\": \"Juntao Jiang - OpenReview\", \"url\": \"https://openreview.net/profile?id=~Juntao_Jiang1\", \"content\": \"# Juntao Jiang\\\\n\\\\n### PhD student, College of Control Science and Engineering, Zhejiang University\\\\n\\\\n Joined July 2022\\\\n\\\\n#### Names\\\\n\\\\nJuntao Jiang (Preferred)\\\\n\\\\n Suggest Name\\\\n\\\\n#### Emails\\\\n\\\\n\\\\\\\\\\\\\\\\\\\\\\\\\\\\\\\\@nyu.edu (Confirmed)\\\\n\\\\n, \\\\n\\\\n\\\\\\\\\\\\\\\\\\\\\\\\\\\\\\\\@zju.edu.cn (Confirmed)\\\\n\\\\n Suggest Email\\\\n\\\\n#### Personal Links\\\\n\\\\nORCID\\\\n\\\\n Suggest URL\\\\n\\\\n#### Career & Education History\\\\n\\\\nPhD student\\\\n\\\\nCollege of Control Science and Engineering, Zhejiang University (zju.edu.cn)\\\\n\\\\n2023 – Present\\\\n\\\\nMS student\\\\n\\\\nNew York University(nyu.edu)\\\\n\\\\n2019 – 2021 [...] Suggest Position\\\\n\\\\n#### Advisors, Relations & Conflicts\\\\n\\\\nPhD Advisor\\\\n\\\\nYong Liu\\\\n\\\\n2023 – Present\\\\n\\\\n Suggest Relation\\\\n\\\\n#### Expertise\\\\n\\\\nMedical Image Analysis\\\\n\\\\n2021 – Present\\\\n\\\\nComputer Vision\\\\n\\\\n2021 – Present\\\\n\\\\n Suggest Expertise\", \"score\": 0.074722916}]', name='tavily_search_results_json', id='8d1f5e2c-bacf-4fbe-92d2-3a29aa1acacc', tool_call_id='call_ebgSVbPVt51SRfT9FbSpLDWW', artifact={'query': 'Renjun Xu Zhejiang University', 'follow_up_questions': None, 'answer': None, 'images': [], 'results': [{'url': 'https://openreview.net/profile?id=~Renjun_Xu1', 'title': 'Renjun Xu - Researcher, Zhejiang University', 'content': '# Renjun Xu\\n\\n### Principal Researcher, Zhejiang University\\n\\n Joined September 2021\\n\\n#### Names\\n\\nRenjun Xu (Preferred)\\n\\n Suggest Name\\n\\n#### Emails\\n\\n\\\\\\\\\\\\\\\\@zju.edu.cn (Confirmed)\\n\\n Suggest Email\\n\\n#### Personal Links\\n\\nHomepage\\n\\nDBLP\\n\\nORCID\\n\\nSemantic Scholar\\n\\n Suggest URL\\n\\n#### Career & Education History\\n\\nPrincipal Researcher\\n\\nZhejiang University(zju.edu.cn)\\n\\n2018 – Present\\n\\n Suggest Position\\n\\n#### Advisors, Relations & Conflicts\\n\\nNo relations added\\n\\n Suggest Relation\\n\\n#### Expertise [...] equivariant neural network, domain adaptation, domain generalization, molecular, physics, contrastive learning, symmetry, crystal, phase transition\\n\\nPresent\\n\\n Suggest Expertise', 'score': 0.7992077, 'raw_content': None}, {'url': 'https://ieeexplore.ieee.org/author/37089181301', 'title': 'Renjun Xu | IEEE Xplore Author Details', 'content': 'Affiliations: [Center for Data Science, Zhejiang University, Hangzhou, China]. Author Bio: Renjun Xu received the PhD degree from UC Davis, ZJU100 Young', 'score': 0.725824, 'raw_content': None}, {'url': 'https://person.zju.edu.cn/en/0094094', 'title': 'zhuan@zju.edu.cn', 'content': 'XU ZHUAN Ph.D. \\n\\nProfessor\\n| Doctoral supervisor\\n\\nSchool Of Physics\\n\\n 0571 87953255\\n zhuan@zju.edu.cn\\n + Condensed Matter Physics\\n\\n Biography\\n Courses\\n Publications\\n\\n正在加载中，请稍后... [...] 中文\\n|\\nEnglish\\n\\nWelcome !\\u2003\\n\\n Main\\n Logout)\\n\\nLogin\\n\\n### Related People\\n\\nAnother batch\\n\\n ##### ZHENG YI\\n\\n  School Of Physics\\n ##### Liu, Yang\\n\\n  School Of Physics\\n ##### CHENSHUIQIAO\\n\\n  School Of Physics\\n ##### Fang Minghu\\n\\n  School Of Physics\\n ##### ZHU SHIYAO\\n\\n  School Of Physics\\n ##### WANGHUA\\n\\n  School Of Physics\\n ##### SONGYU\\n\\n  School Of Physics\\n ##### Zhentao Wang\\n\\n  School Of Physics\\n ##### Jingyuan LI\\n\\n  School Of Physics\\n ##### LVLIHUA\\n\\n  School Of Physics\\n\\n2023-06-09\\n\\n:5892', 'score': 0.22387761, 'raw_content': None}, {'url': 'https://pubmed.ncbi.nlm.nih.gov/40011414/', 'title': 'Applied theory of planned behavior to explore associated ...', 'content': \"Among the 1350 eligible participants, ultimately 964 of them submitted valid questionnaires. According to the leisure time index (LSI) scores, 59.34% of Chinese CCS reached the recommendation level of moderate-vigorous physical activity (MVPA) (LSI ≥ 24). Attending school, diagnosis, time since discharge, behavioral intention, and self-efficacy were associated with MVPA levels in CCS. Path analysis showed that intention and self-efficacy exerted a direct effect on CCS' PA, whereas the direct [...] ### Add to Collections\\n\\n### Add to My Bibliography\\n\\n## Your saved search\\n\\n## Create a file for external citation management software\\n\\n## Your RSS Feed\\n\\n### Full text links\\n\\nSpringer full text link\\n\\n### Actions\\n\\n### Page navigation\\n\\n# Applied theory of planned behavior to explore associated factor of physical activity level among Chinese childhood cancer survivors\\n\\n### Affiliations [...] This study highlights the critical need to address low physical activity levels among childhood cancer survivors (CCS), as insufficient engagement in moderate-vigorous physical activity (MVPA) may hinder their recovery and longterm health outcomes. The findings underscore the pivotal role of self-efficacy in promoting MVPA participation, with both direct and indirect effects on activity behaviors. Interventions targeting CCS should prioritize strategies to enhance self-efficacy-such as\", 'score': 0.10421286, 'raw_content': None}, {'url': 'https://openreview.net/profile?id=~Juntao_Jiang1', 'title': 'Juntao Jiang - OpenReview', 'content': '# Juntao Jiang\\n\\n### PhD student, College of Control Science and Engineering, Zhejiang University\\n\\n Joined July 2022\\n\\n#### Names\\n\\nJuntao Jiang (Preferred)\\n\\n Suggest Name\\n\\n#### Emails\\n\\n\\\\\\\\\\\\\\\\@nyu.edu (Confirmed)\\n\\n, \\n\\n\\\\\\\\\\\\\\\\@zju.edu.cn (Confirmed)\\n\\n Suggest Email\\n\\n#### Personal Links\\n\\nORCID\\n\\n Suggest URL\\n\\n#### Career & Education History\\n\\nPhD student\\n\\nCollege of Control Science and Engineering, Zhejiang University (zju.edu.cn)\\n\\n2023 – Present\\n\\nMS student\\n\\nNew York University(nyu.edu)\\n\\n2019 – 2021 [...] Suggest Position\\n\\n#### Advisors, Relations & Conflicts\\n\\nPhD Advisor\\n\\nYong Liu\\n\\n2023 – Present\\n\\n Suggest Relation\\n\\n#### Expertise\\n\\nMedical Image Analysis\\n\\n2021 – Present\\n\\nComputer Vision\\n\\n2021 – Present\\n\\n Suggest Expertise', 'score': 0.074722916, 'raw_content': None}], 'response_time': 3.78, 'request_id': 'fb745c68-5d6b-4443-b61e-378efc249497'}), ToolMessage(content='[{\"title\": \"Jingyu PENG - Zhejiang University, Hangzhou - ResearchGate\", \"url\": \"https://www.researchgate.net/profile/Jingyu-Peng-6\", \"content\": \"Jingyu Peng. Verified. Jingyu verified their affiliation via an institutional email. Learn more. Verified. Jingyu verified their affiliation via an\", \"score\": 0.5065188}, {\"title\": \"[2506.12594] A Comprehensive Survey of Deep Research - arXiv\", \"url\": \"https://arxiv.org/abs/2506.12594\", \"content\": \"We gratefully acknowledge support from the Simons Foundation, member institutions, and all contributors. Donate\\\\n\\\\n> cs > arXiv:2506.12594\\\\n\\\\n# Computer Science > Artificial Intelligence\\\\n\\\\narXiv:2506.12594 (cs)\\\\n\\\\n[Submitted on 14 Jun 2025]\\\\n\\\\n# Title:A Comprehensive Survey of Deep Research: Systems, Methodologies, and Applications\\\\n\\\\nAuthors:Renjun Xu, Jingwen Peng [...] View a PDF of the paper titled A Comprehensive Survey of Deep Research: Systems, Methodologies, and Applications, by Renjun Xu and 1 other authors\\\\n\\\\n View PDF\\\\n HTML (experimental)\\\\n TeX Source\\\\n Other Formats\\\\n\\\\nview license\\\\n\\\\nCurrent browse context:\\\\n\\\\ncs.AI\\\\n\\\\n< prev\\\\\")    |    next >\\\\\")\\\\n\\\\nnew  |  recent  | 2025-06\\\\n\\\\nChange to browse by:\\\\n\\\\ncs cs.MA\\\\n\\\\n### References & Citations\\\\n\\\\n NASA ADS\\\\n Google Scholar\\\\n Semantic Scholar\\\\n\\\\na export BibTeX citation Loading...\\\\n\\\\n## BibTeX formatted citation\\\\n\\\\n× [...] |  |  |\\\\n --- |\\\\n| Comments: | 95 pages, 11 figures |\\\\n| Subjects: | Artificial Intelligence (cs.AI); Multiagent Systems (cs.MA) |\\\\n| ACM classes: | I.2.8 |\\\\n| Cite as: | arXiv:2506.12594 [cs.AI] |\\\\n|  | (or  arXiv:2506.12594v1 [cs.AI] for this version) |\\\\n|  |  arXiv-issued DOI via DataCite |\\\\n\\\\n## Submission history\\\\n\\\\nFrom: Renjun Xu [view email] [v1] Sat, 14 Jun 2025 18:19:05 UTC (652 KB)\\\\n\\\\nFull-text links:\\\\n\\\\n## Access Paper:\", \"score\": 0.48030865}, {\"title\": \"Sida Peng\", \"url\": \"https://pengsida.net/\", \"content\": \"\\\\\\\\[2025-04\\\\\\\\] Received the 2025 China3DV Outstanding Young Researcher Award.\\\\n    \\\\n   \\\\\\\\[2025-04\\\\\\\\] One paper selected as CVPR 2025 Oral.\\\\n    \\\\n   \\\\\\\\[2025-02\\\\\\\\] Six papers accepted to CVPR 2025.\\\\n    \\\\n   \\\\\\\\[2025-01\\\\\\\\] Three papers accepted to ICLR 2025.\\\\n    \\\\n   \\\\\\\\[2024-12\\\\\\\\] Received the 2024 CCF Outstanding Doctoral Dissertation Award.\\\\n    \\\\n   \\\\\\\\[2024-11\\\\\\\\] Received the Outstanding Doctoral Dissertation Award of Zhejiang Province. [...] \\\\\\\\[2023-08\\\\\\\\] Invited talk at Shanghai Jiao Tong University on learning research (slides).\\\\n    \\\\n   \\\\\\\\[2023-08\\\\\\\\] One paper accepted to SIGGRAPH Asia 2023.\\\\n    \\\\n   \\\\\\\\[2023-07\\\\\\\\] Joined the School of Software Technology at Zhejiang University as an assistant professor.\\\\n    \\\\n   \\\\\\\\[2023-07\\\\\\\\] Three papers accepted to ICCV 2023.\\\\n    \\\\n   \\\\\\\\[2023-06\\\\\\\\] Honored to be selected as the 2023 WAIC Rising Star. [...] I am an assistant professor (ZJU-100 Young Professor) at Zhejiang University. I received my Ph.D. degree from College of Computer Science and Technology at Zhejiang University in 2023, supervised by Prof. Xiaowei Zhou and Prof. Hujun Bao, and obtained my bachelor degree in Information Engineering from Zhejiang University in 2018. I received the 2024 CCF Outstanding Doctoral Dissertation Award and was selected as the 2022 Apple Scholar in AI/ML. I have been maintaining a handbook on learning\", \"score\": 0.36080483}, {\"title\": \"NDSS Symposium 2025 Accepted Papers\", \"url\": \"https://www.ndss-symposium.org/ndss2025/accepted-papers/\", \"content\": \"More Details\\\\n\\\\n### Secure IP Address Allocation at Cloud Scale\\\\n\\\\nEric Pauley (University of Wisconsin–Madison), Kyle Domico (University of Wisconsin–Madison), Blaine Hoak (University of...\\\\n\\\\nMore Details\\\\n\\\\n### Secure Transformer Inference Made Non-interactive\\\\n\\\\nJiawen Zhang (Zhejiang University), Xinpeng Yang (Zhejiang University), Lipeng He (University of Waterloo), Kejia...\\\\n\\\\nMore Details\\\\n\\\\n### Silence False Alarms: Identifying Anti-Reentrancy Patterns on Ethereum... [...] Jing Shang (Beijing Jiaotong University), Jian Wang (Beijing Jiaotong University), Kailun Wang (Beijing Jiaotong...\\\\n\\\\nMore Details\\\\n\\\\n### Density Boosts Everything: A One-stop Strategy for Improving...\\\\n\\\\nJianwen Tian (Academy of Military Sciences), Wei Kong (Zhejiang Sci-Tech University), Debin Gao (Singapore...\\\\n\\\\nMore Details\\\\n\\\\n### Detecting IMSI-Catchers by Characterizing Identity Exposing Messages in... [...] More Details\\\\n\\\\n### Delay-allowed Differentially Private Data Stream Release\\\\n\\\\nXiaochen Li (University of Virginia), Zhan Qin (Zhejiang University), Kui Ren (Zhejiang University), Chen...\\\\n\\\\nMore Details\\\\n\\\\n### Diffence: Fencing Membership Privacy With Diffusion Models\\\\n\\\\nYuefeng Peng (University of Massachusetts Amherst), Ali Naseh (University of Massachusetts Amherst), Amir Houmansadr...\\\\n\\\\nMore Details\\\\n\\\\n### Dissecting Payload-based Transaction Phishing on Ethereum\", \"score\": 0.26754224}, {\"title\": \"Molecular pathogenesis of acetaminophen-induced liver injury and ...\", \"url\": \"https://pubmed.ncbi.nlm.nih.gov/35403383/\", \"content\": \"### Add to Collections\\\\n\\\\n### Add to My Bibliography\\\\n\\\\n## Your saved search\\\\n\\\\n## Create a file for external citation management software\\\\n\\\\n## Your RSS Feed\\\\n\\\\n### Full text links\\\\n\\\\nZhejiang University Press full text link\\\\n\\\\n### Actions\\\\n\\\\n### Page navigation\\\\n\\\\n# Molecular pathogenesis of acetaminophen-induced liver injury and its treatment options\\\\n\\\\n### Affiliations\\\\n\\\\n# Molecular pathogenesis of acetaminophen-induced liver injury and its treatment options\\\\n\\\\n### Authors\\\\n\\\\n### Affiliations\\\\n\\\\n## Abstract [...] Fig. 5. HPCs regenerated under the action of signal mediators and immune cells. Immune cells…\\\\n\\\\n## References\\\\n\\\\n## Publication types\\\\n\\\\n## MeSH terms\\\\n\\\\n## Substances\\\\n\\\\n## Grants and funding\\\\n\\\\n## LinkOut - more resources\\\\n\\\\n### Full Text Sources\\\\n\\\\n### Medical\\\\n\\\\nZhejiang University Press full text link\\\\n\\\\nNCBI Literature Resources\\\\n\\\\nMeSH\\\\nPMC\\\\nBookshelf\\\\nDisclaimer [...] pathogenesis of AILI: hepatocyte necrosis, sterile inflammation, and hepatocyte regeneration. The relevant factors are elucidated and discussed. For instance, N-acetyl-p-benzoquinone imine (NAPQI) protein adducts trigger mitochondrial oxidative/nitrosative stress during hepatocyte necrosis, danger-associated molecular patterns (DAMPs) are released to elicit sterile inflammation, and certain growth factors contribute to liver regeneration. Finally, we describe the current potential treatment\", \"score\": 0.17754011}]', name='tavily_search_results_json', id='50d00eeb-5e9a-496a-b6d1-84407a0d1f53', tool_call_id='call_s4Zf7SSnS4eTNxtfsRcO1IZK', artifact={'query': 'Jingwen Peng Zhejiang University', 'follow_up_questions': None, 'answer': None, 'images': [], 'results': [{'url': 'https://www.researchgate.net/profile/Jingyu-Peng-6', 'title': 'Jingyu PENG - Zhejiang University, Hangzhou - ResearchGate', 'content': 'Jingyu Peng. Verified. Jingyu verified their affiliation via an institutional email. Learn more. Verified. Jingyu verified their affiliation via an', 'score': 0.5065188, 'raw_content': None}, {'url': 'https://arxiv.org/abs/2506.12594', 'title': '[2506.12594] A Comprehensive Survey of Deep Research - arXiv', 'content': 'We gratefully acknowledge support from the Simons Foundation, member institutions, and all contributors. Donate\\n\\n> cs > arXiv:2506.12594\\n\\n# Computer Science > Artificial Intelligence\\n\\narXiv:2506.12594 (cs)\\n\\n[Submitted on 14 Jun 2025]\\n\\n# Title:A Comprehensive Survey of Deep Research: Systems, Methodologies, and Applications\\n\\nAuthors:Renjun Xu, Jingwen Peng [...] View a PDF of the paper titled A Comprehensive Survey of Deep Research: Systems, Methodologies, and Applications, by Renjun Xu and 1 other authors\\n\\n View PDF\\n HTML (experimental)\\n TeX Source\\n Other Formats\\n\\nview license\\n\\nCurrent browse context:\\n\\ncs.AI\\n\\n< prev\")    |    next >\")\\n\\nnew  |  recent  | 2025-06\\n\\nChange to browse by:\\n\\ncs cs.MA\\n\\n### References & Citations\\n\\n NASA ADS\\n Google Scholar\\n Semantic Scholar\\n\\na export BibTeX citation Loading...\\n\\n## BibTeX formatted citation\\n\\n× [...] |  |  |\\n --- |\\n| Comments: | 95 pages, 11 figures |\\n| Subjects: | Artificial Intelligence (cs.AI); Multiagent Systems (cs.MA) |\\n| ACM classes: | I.2.8 |\\n| Cite as: | arXiv:2506.12594 [cs.AI] |\\n|  | (or  arXiv:2506.12594v1 [cs.AI] for this version) |\\n|  |  arXiv-issued DOI via DataCite |\\n\\n## Submission history\\n\\nFrom: Renjun Xu [view email] [v1] Sat, 14 Jun 2025 18:19:05 UTC (652 KB)\\n\\nFull-text links:\\n\\n## Access Paper:', 'score': 0.48030865, 'raw_content': None}, {'url': 'https://pengsida.net/', 'title': 'Sida Peng', 'content': '\\\\[2025-04\\\\] Received the 2025 China3DV Outstanding Young Researcher Award.\\n    \\n   \\\\[2025-04\\\\] One paper selected as CVPR 2025 Oral.\\n    \\n   \\\\[2025-02\\\\] Six papers accepted to CVPR 2025.\\n    \\n   \\\\[2025-01\\\\] Three papers accepted to ICLR 2025.\\n    \\n   \\\\[2024-12\\\\] Received the 2024 CCF Outstanding Doctoral Dissertation Award.\\n    \\n   \\\\[2024-11\\\\] Received the Outstanding Doctoral Dissertation Award of Zhejiang Province. [...] \\\\[2023-08\\\\] Invited talk at Shanghai Jiao Tong University on learning research (slides).\\n    \\n   \\\\[2023-08\\\\] One paper accepted to SIGGRAPH Asia 2023.\\n    \\n   \\\\[2023-07\\\\] Joined the School of Software Technology at Zhejiang University as an assistant professor.\\n    \\n   \\\\[2023-07\\\\] Three papers accepted to ICCV 2023.\\n    \\n   \\\\[2023-06\\\\] Honored to be selected as the 2023 WAIC Rising Star. [...] I am an assistant professor (ZJU-100 Young Professor) at Zhejiang University. I received my Ph.D. degree from College of Computer Science and Technology at Zhejiang University in 2023, supervised by Prof. Xiaowei Zhou and Prof. Hujun Bao, and obtained my bachelor degree in Information Engineering from Zhejiang University in 2018. I received the 2024 CCF Outstanding Doctoral Dissertation Award and was selected as the 2022 Apple Scholar in AI/ML. I have been maintaining a handbook on learning', 'score': 0.36080483, 'raw_content': None}, {'url': 'https://www.ndss-symposium.org/ndss2025/accepted-papers/', 'title': 'NDSS Symposium 2025 Accepted Papers', 'content': 'More Details\\n\\n### Secure IP Address Allocation at Cloud Scale\\n\\nEric Pauley (University of Wisconsin–Madison), Kyle Domico (University of Wisconsin–Madison), Blaine Hoak (University of...\\n\\nMore Details\\n\\n### Secure Transformer Inference Made Non-interactive\\n\\nJiawen Zhang (Zhejiang University), Xinpeng Yang (Zhejiang University), Lipeng He (University of Waterloo), Kejia...\\n\\nMore Details\\n\\n### Silence False Alarms: Identifying Anti-Reentrancy Patterns on Ethereum... [...] Jing Shang (Beijing Jiaotong University), Jian Wang (Beijing Jiaotong University), Kailun Wang (Beijing Jiaotong...\\n\\nMore Details\\n\\n### Density Boosts Everything: A One-stop Strategy for Improving...\\n\\nJianwen Tian (Academy of Military Sciences), Wei Kong (Zhejiang Sci-Tech University), Debin Gao (Singapore...\\n\\nMore Details\\n\\n### Detecting IMSI-Catchers by Characterizing Identity Exposing Messages in... [...] More Details\\n\\n### Delay-allowed Differentially Private Data Stream Release\\n\\nXiaochen Li (University of Virginia), Zhan Qin (Zhejiang University), Kui Ren (Zhejiang University), Chen...\\n\\nMore Details\\n\\n### Diffence: Fencing Membership Privacy With Diffusion Models\\n\\nYuefeng Peng (University of Massachusetts Amherst), Ali Naseh (University of Massachusetts Amherst), Amir Houmansadr...\\n\\nMore Details\\n\\n### Dissecting Payload-based Transaction Phishing on Ethereum', 'score': 0.26754224, 'raw_content': None}, {'url': 'https://pubmed.ncbi.nlm.nih.gov/35403383/', 'title': 'Molecular pathogenesis of acetaminophen-induced liver injury and ...', 'content': '### Add to Collections\\n\\n### Add to My Bibliography\\n\\n## Your saved search\\n\\n## Create a file for external citation management software\\n\\n## Your RSS Feed\\n\\n### Full text links\\n\\nZhejiang University Press full text link\\n\\n### Actions\\n\\n### Page navigation\\n\\n# Molecular pathogenesis of acetaminophen-induced liver injury and its treatment options\\n\\n### Affiliations\\n\\n# Molecular pathogenesis of acetaminophen-induced liver injury and its treatment options\\n\\n### Authors\\n\\n### Affiliations\\n\\n## Abstract [...] Fig. 5. HPCs regenerated under the action of signal mediators and immune cells. Immune cells…\\n\\n## References\\n\\n## Publication types\\n\\n## MeSH terms\\n\\n## Substances\\n\\n## Grants and funding\\n\\n## LinkOut - more resources\\n\\n### Full Text Sources\\n\\n### Medical\\n\\nZhejiang University Press full text link\\n\\nNCBI Literature Resources\\n\\nMeSH\\nPMC\\nBookshelf\\nDisclaimer [...] pathogenesis of AILI: hepatocyte necrosis, sterile inflammation, and hepatocyte regeneration. The relevant factors are elucidated and discussed. For instance, N-acetyl-p-benzoquinone imine (NAPQI) protein adducts trigger mitochondrial oxidative/nitrosative stress during hepatocyte necrosis, danger-associated molecular patterns (DAMPs) are released to elicit sterile inflammation, and certain growth factors contribute to liver regeneration. Finally, we describe the current potential treatment', 'score': 0.17754011, 'raw_content': None}], 'response_time': 2.78, 'request_id': '8c28b5cf-21a0-4717-8358-42f80e8dac7c'})]\n",
            "\n",
            "\n",
            "\n",
            "In Agent step\n",
            "\n",
            "\n",
            "\n",
            "State\n",
            "\n",
            "\n",
            "{'messages': [HumanMessage(content='Search Arxiv for the A Comprehensive Survey of Deep Research paper, then search each of the authors to find out where they work now using Tavily!', additional_kwargs={}, response_metadata={}, id='3089174f-23da-4cf1-9f68-7cb7c15a7fb5'), AIMessage(content='', additional_kwargs={'tool_calls': [{'id': 'call_bWSGUmTDg2z0Sp2avWLnwrHF', 'function': {'arguments': '{\"query\": \"A Comprehensive Survey of Deep Research\"}', 'name': 'arxiv'}, 'type': 'function'}, {'id': 'call_7bOhd1ESeii5rLo2Wa1LFJ1H', 'function': {'arguments': '{\"query\": \"author of A Comprehensive Survey of Deep Research\"}', 'name': 'tavily_search_results_json'}, 'type': 'function'}], 'refusal': None}, response_metadata={'token_usage': {'completion_tokens': 60, 'prompt_tokens': 182, 'total_tokens': 242, 'completion_tokens_details': {'accepted_prediction_tokens': 0, 'audio_tokens': 0, 'reasoning_tokens': 0, 'rejected_prediction_tokens': 0}, 'prompt_tokens_details': {'audio_tokens': 0, 'cached_tokens': 0}}, 'model_name': 'gpt-4.1-nano-2025-04-14', 'system_fingerprint': 'fp_7c233bf9d1', 'id': 'chatcmpl-CLd2C2wTGv11aaFOvRPrnmGgHVfUZ', 'service_tier': 'default', 'finish_reason': 'tool_calls', 'logprobs': None}, id='run--b1efbd38-5b25-487c-95f3-cbcd7ba5e26e-0', tool_calls=[{'name': 'arxiv', 'args': {'query': 'A Comprehensive Survey of Deep Research'}, 'id': 'call_bWSGUmTDg2z0Sp2avWLnwrHF', 'type': 'tool_call'}, {'name': 'tavily_search_results_json', 'args': {'query': 'author of A Comprehensive Survey of Deep Research'}, 'id': 'call_7bOhd1ESeii5rLo2Wa1LFJ1H', 'type': 'tool_call'}], usage_metadata={'input_tokens': 182, 'output_tokens': 60, 'total_tokens': 242, 'input_token_details': {'audio': 0, 'cache_read': 0}, 'output_token_details': {'audio': 0, 'reasoning': 0}}), ToolMessage(content='Published: 2025-06-14\\nTitle: A Comprehensive Survey of Deep Research: Systems, Methodologies, and Applications\\nAuthors: Renjun Xu, Jingwen Peng\\nSummary: This survey examines the rapidly evolving field of Deep Research systems --\\nAI-powered applications that automate complex research workflows through the\\nintegration of large language models, advanced information retrieval, and\\nautonomous reasoning capabilities. We analyze more than 80 commercial and\\nnon-commercial implementations that have emerged since 2023, including\\nOpenAI/Deep Research, Gemini/Deep Research, Perplexity/Deep Research, and\\nnumerous open-source alternatives. Through comprehensive examination, we\\npropose a novel hierarchical taxonomy that categorizes systems according to\\nfour fundamental technical dimensions: foundation models and reasoning engines,\\ntool utilization and environmental interaction, task planning and execution\\ncontrol, and knowledge synthesis and output generation. We explore the\\narchitectural patterns, implementation approaches, and domain-specific\\nadaptations that characterize these systems across academic, scientific,\\nbusiness, and educational applications. Our analysis reveals both the\\nsignificant capabilities of current implementations and the technical and\\nethical challenges they present regarding information accuracy, privacy,\\nintellectual property, and accessibility. The survey concludes by identifying\\npromising research directions in advanced reasoning architectures, multimodal\\nintegration, domain specialization, human-AI collaboration, and ecosystem\\nstandardization that will likely shape the future evolution of this\\ntransformative technology. By providing a comprehensive framework for\\nunderstanding Deep Research systems, this survey contributes to both the\\ntheoretical understanding of AI-augmented knowledge work and the practical\\ndevelopment of more capable, responsible, and accessible research technologies.\\nThe paper resources can be viewed at\\nhttps://github.com/scienceaix/deepresearch.\\n\\nPublished: 2021-03-05\\nTitle: A comprehensive survey on point cloud registration\\nAuthors: Xiaoshui Huang, Guofeng Mei, Jian Zhang, Rana Abbas\\nSummary: Registration is a transformation estimation problem between two point clouds,\\nwhich has a unique and critical role in numerous computer vision applications.\\nThe developments of optimization-based methods and deep learning methods have\\nimproved registration robustness and efficiency. Recently, the combinations of\\noptimization-based and deep learning methods have further improved performance.\\nHowever, the connections between optimization-based and deep learning methods\\nare still unclear. Moreover, with the recent development of 3D sensors and 3D\\nreconstruction techniques, a new research direction emerges to align\\ncross-source point clouds. This survey conducts a comprehensive survey,\\nincluding both same-source and cross-source registration methods, and summarize\\nthe connections between optimization-based and deep learning methods, to\\nprovide further research insight. This survey also builds a new benchmark to\\nevaluate the state-of-the-art registration algorithms in solving cross-source\\nchallenges. Besides, this survey summarizes the benchmark data sets and\\ndiscusses point cloud registration applications across various domains.\\nFinally, this survey proposes potential research directions in this rapidly\\ngrowing field.\\n\\nPublished: 2023-07-07\\nTitle: A Survey of Deep Learning in Sports Applications: Perception, Comprehension, and Decision\\nAuthors: Zhonghan Zhao, Wenhao Chai, Shengyu Hao, Wenhao Hu, Guanhong Wang, Shidong Cao, Mingli Song, Jenq-Neng Hwang, Gaoang Wang\\nSummary: Deep learning has the potential to revolutionize sports performance, with\\napplications ranging from perception and comprehension to decision. This paper\\npresents a comprehensive survey of deep learning in sports performance,\\nfocusing on three main aspects: algorithms, datasets and virtual environments,\\nand challenges. Firstly, we discuss th', name='arxiv', id='c8452642-27e4-4de2-a365-0d5f2ecc576a', tool_call_id='call_bWSGUmTDg2z0Sp2avWLnwrHF'), ToolMessage(content='[{\"title\": \"[2506.12594] A Comprehensive Survey of Deep Research - arXiv\", \"url\": \"https://arxiv.org/abs/2506.12594\", \"content\": \"We gratefully acknowledge support from the Simons Foundation, member institutions, and all contributors. Donate\\\\n\\\\n> cs > arXiv:2506.12594\\\\n\\\\n# Computer Science > Artificial Intelligence\\\\n\\\\narXiv:2506.12594 (cs)\\\\n\\\\n[Submitted on 14 Jun 2025]\\\\n\\\\n# Title:A Comprehensive Survey of Deep Research: Systems, Methodologies, and Applications\\\\n\\\\nAuthors:Renjun Xu, Jingwen Peng [...] View a PDF of the paper titled A Comprehensive Survey of Deep Research: Systems, Methodologies, and Applications, by Renjun Xu and 1 other authors [...] View a PDF of the paper titled A Comprehensive Survey of Deep Research: Systems, Methodologies, and Applications, by Renjun Xu and 1 other authors\\\\n\\\\n View PDF\\\\n HTML (experimental)\\\\n TeX Source\\\\n Other Formats\\\\n\\\\nview license\\\\n\\\\nCurrent browse context:\\\\n\\\\ncs.AI\\\\n\\\\n< prev\\\\\")    |    next >\\\\\")\\\\n\\\\nnew  |  recent  | 2025-06\\\\n\\\\nChange to browse by:\\\\n\\\\ncs cs.MA\\\\n\\\\n### References & Citations\\\\n\\\\n NASA ADS\\\\n Google Scholar\\\\n Semantic Scholar\\\\n\\\\na export BibTeX citation Loading...\\\\n\\\\n## BibTeX formatted citation\\\\n\\\\n×\", \"score\": 0.90289277}, {\"title\": \"A Comprehensive Survey of Deep Research: Systems ... - alphaXiv\", \"url\": \"https://www.alphaxiv.org/overview/2506.12594\", \"content\": \"This comprehensive survey by Renjun Xu and Jingwen Peng from Zhejiang University addresses the rapidly emerging field of Deep Research systems—AI-powered applications that integrate large language models, advanced information retrieval, and autonomous reasoning to automate complex research workflows. The paper establishes the first systematic framework for understanding this domain, which has evolved dramatically since 2023, encompassing over 80 commercial and open-source implementations. [...] This paper is cited in the introduction to establish the high-level significance and transformative potential of the survey\\'s topic. It argues that human-aware AI can accelerate science by augmenting researchers\\' capabilities, providing a foundational conceptual motivation for the development of Deep Research systems.\\\\n\\\\nJamshid Sourati and James Evans. 2023. Accelerating science with human-aware artificial intelligence. arXiv:2306.01495 [cs.AI] [...] Yujia Qin, Shihao Liang, Yining Ye, Kunlun Zhu, Lan Yan, Yaxi Lu, Yankai Lin, Xin Cong, Xiangru Tang, Bill Qian, Sihan Zhao, Lauren Hong, Runchu Tian, Ruobing Xie, Jie Zhou, Mark Gerstein, Dahai Li, Zhiyuan Liu, and Maosong Sun. 2023. ToolLLM: Facilitating Large Language Models to Master 16000+ Real-world APIs. arXiv:2307.16789 [cs.AI] \\\\n\\\\nHumanity’s Last Exam\", \"score\": 0.838376}, {\"title\": \"A Comprehensive Survey on Deep Clustering - ACM Digital Library\", \"url\": \"https://dl.acm.org/doi/10.1145/3689036\", \"content\": \"You can change or withdraw your consent from the Cookie Declaration on our website at any time by visiting the Cookie Declaration page. If contacting us regarding your consent, please state your consent ID and date from that page.\\\\n\\\\nskip to main content\\\\n\\\\n# A Comprehensive Survey on Deep Clustering: Taxonomy, Challenges, and Future Directions\\\\n\\\\nAuthors: Sheng Zhou\\\\n\\\\nSheng Zhou\\\\n\\\\nZhejiang University, Hangzhou, China\\\\n\\\\nView Profile\\\\n\\\\n, Hongjia Xu\\\\n\\\\nHongjia Xu\\\\n\\\\nZhejiang University, Hangzhou, China [...] Wenwu Zhu\\\\n\\\\nTsinghua University, Beijing, China\\\\n\\\\nView Profile\\\\n\\\\n, Martin Ester\\\\n\\\\nMartin Ester\\\\n\\\\nSimon Fraser University, Burnaby, Canada\\\\n\\\\nView Profile\\\\n\\\\n (Less)Authors Info & Claims\\\\n\\\\nACM Computing Surveys, Volume 57, Issue 3\\\\n\\\\nArticle No.: 69, Pages 1 - 38\\\\n\\\\nPublished: 11 November 2024 Publication History\\\\n\\\\nMetrics\\\\n\\\\nTotal Citations23Total Downloads3,013\\\\n\\\\nLast 12 Months3,013\\\\n\\\\nLast 6 weeks205\\\\n\\\\nGet Access\\\\n\\\\n## Abstract [...] View Profile\\\\n\\\\n, Zhuonan Zheng\\\\n\\\\nZhuonan Zheng\\\\n\\\\nZhejiang University, Hangzhou, China\\\\n\\\\nView Profile\\\\n\\\\n, Jiawei Chen\\\\n\\\\nJiawei Chen\\\\n\\\\nZhejiang University, Hangzhou, China\\\\n\\\\nView Profile\\\\n\\\\n, + 6, Zhao Li\\\\n\\\\nZhao Li\\\\n\\\\nZhejiang University, Hangzhou, China\\\\n\\\\nView Profile\\\\n\\\\n, Jiajun Bu\\\\n\\\\nJiajun Bu\\\\n\\\\nZhejiang University, Hangzhou, China\\\\n\\\\nView Profile\\\\n\\\\n, + 4, Jia Wu\\\\n\\\\nJia Wu\\\\n\\\\nMacquarie University, Sydney, Australia\\\\n\\\\nView Profile\\\\n\\\\n, Xin Wang\\\\n\\\\nXin Wang\\\\n\\\\nTsinghua University, Beijing, China\\\\n\\\\nView Profile\\\\n\\\\n, Wenwu Zhu\", \"score\": 0.7166357}, {\"title\": \"A comprehensive survey of deep learning research on medical ...\", \"url\": \"https://pubmed.ncbi.nlm.nih.gov/36462229/\", \"content\": \"PMID: 36462229\\\\n    DOI: 10.1016/j.clinimag.2022.11.003\\\\n\\\\n Item in Clipboard \\\\n\\\\nReview\\\\n\\\\nA comprehensive survey of deep learning research on medical image analysis with focus on transfer learning\\\\n\\\\nSema Atasever et al. Clin Imaging.2023 Feb.\\\\n\\\\nShow details\\\\n\\\\nDisplay options\\\\n\\\\n Display options \\\\n\\\\n Format \\\\n\\\\n Clin Imaging \\\\n\\\\nActions\\\\n\\\\n   Search in PubMed\\\\n   Search in NLM Catalog\\\\n   Add to Search\\\\n\\\\n. 2023 Feb:94:18-41.\\\\n\\\\n doi: 10.1016/j.clinimag.2022.11.003.  Epub 2022 Nov 12. \\\\n\\\\n### Authors [...] A comprehensive survey of deep learning research on medical image analysis with focus on transfer learning\\\\n\\\\nSema Atasever1,Nuh Azginoglu2,Duygu Sinanc Terzi3,Ramazan Terzi4\\\\n\\\\n Affiliations  Expand \\\\n\\\\n### Affiliations [...] 4 Computer Engineering Department, Amasya University, Amasya, Turkey. Electronic address: ramazan.terzi@amasya.edu.tr.\", \"score\": 0.71425}, {\"title\": \"a-comprehensive-survey-of-deep-research-systems-methodologies ...\", \"url\": \"https://warwick.ac.uk/fac/cross_fac/eduport/edufund/projects/yang/projects/a-comprehensive-survey-of-deep-research-systems-methodologies-and-applications/\", \"content\": \"### Project Team\\\\n\\\\n#### Renjun Xu\\\\n\\\\nResearcher\\\\n\\\\n#### Jingwen Peng\\\\n\\\\nResearcher\\\\n\\\\n### Contact Information\\\\n\\\\nFor information about the paper, please contact the authors.\\\\n\\\\nAuthors: Renjun Xu, Jingwen Peng\\\\n\\\\nSource Publication: View Original PaperLink opens in a new window\\\\n\\\\nProject Contact: Dr. Jianhua Yang\\\\n\\\\nLLM Model Version: gpt-4o-mini-2024-07-18\\\\n\\\\nAnalysis Provider: Openai\\\\n\\\\n← Back to Projects\", \"score\": 0.7125728}]', name='tavily_search_results_json', id='fe76da4a-1f31-4cf2-b3a3-42ebe32e1b74', tool_call_id='call_7bOhd1ESeii5rLo2Wa1LFJ1H', artifact={'query': 'author of A Comprehensive Survey of Deep Research', 'follow_up_questions': None, 'answer': None, 'images': [], 'results': [{'url': 'https://arxiv.org/abs/2506.12594', 'title': '[2506.12594] A Comprehensive Survey of Deep Research - arXiv', 'content': 'We gratefully acknowledge support from the Simons Foundation, member institutions, and all contributors. Donate\\n\\n> cs > arXiv:2506.12594\\n\\n# Computer Science > Artificial Intelligence\\n\\narXiv:2506.12594 (cs)\\n\\n[Submitted on 14 Jun 2025]\\n\\n# Title:A Comprehensive Survey of Deep Research: Systems, Methodologies, and Applications\\n\\nAuthors:Renjun Xu, Jingwen Peng [...] View a PDF of the paper titled A Comprehensive Survey of Deep Research: Systems, Methodologies, and Applications, by Renjun Xu and 1 other authors [...] View a PDF of the paper titled A Comprehensive Survey of Deep Research: Systems, Methodologies, and Applications, by Renjun Xu and 1 other authors\\n\\n View PDF\\n HTML (experimental)\\n TeX Source\\n Other Formats\\n\\nview license\\n\\nCurrent browse context:\\n\\ncs.AI\\n\\n< prev\")    |    next >\")\\n\\nnew  |  recent  | 2025-06\\n\\nChange to browse by:\\n\\ncs cs.MA\\n\\n### References & Citations\\n\\n NASA ADS\\n Google Scholar\\n Semantic Scholar\\n\\na export BibTeX citation Loading...\\n\\n## BibTeX formatted citation\\n\\n×', 'score': 0.90289277, 'raw_content': None}, {'url': 'https://www.alphaxiv.org/overview/2506.12594', 'title': 'A Comprehensive Survey of Deep Research: Systems ... - alphaXiv', 'content': \"This comprehensive survey by Renjun Xu and Jingwen Peng from Zhejiang University addresses the rapidly emerging field of Deep Research systems—AI-powered applications that integrate large language models, advanced information retrieval, and autonomous reasoning to automate complex research workflows. The paper establishes the first systematic framework for understanding this domain, which has evolved dramatically since 2023, encompassing over 80 commercial and open-source implementations. [...] This paper is cited in the introduction to establish the high-level significance and transformative potential of the survey's topic. It argues that human-aware AI can accelerate science by augmenting researchers' capabilities, providing a foundational conceptual motivation for the development of Deep Research systems.\\n\\nJamshid Sourati and James Evans. 2023. Accelerating science with human-aware artificial intelligence. arXiv:2306.01495 [cs.AI] [...] Yujia Qin, Shihao Liang, Yining Ye, Kunlun Zhu, Lan Yan, Yaxi Lu, Yankai Lin, Xin Cong, Xiangru Tang, Bill Qian, Sihan Zhao, Lauren Hong, Runchu Tian, Ruobing Xie, Jie Zhou, Mark Gerstein, Dahai Li, Zhiyuan Liu, and Maosong Sun. 2023. ToolLLM: Facilitating Large Language Models to Master 16000+ Real-world APIs. arXiv:2307.16789 [cs.AI] \\n\\nHumanity’s Last Exam\", 'score': 0.838376, 'raw_content': None}, {'url': 'https://dl.acm.org/doi/10.1145/3689036', 'title': 'A Comprehensive Survey on Deep Clustering - ACM Digital Library', 'content': 'You can change or withdraw your consent from the Cookie Declaration on our website at any time by visiting the Cookie Declaration page. If contacting us regarding your consent, please state your consent ID and date from that page.\\n\\nskip to main content\\n\\n# A Comprehensive Survey on Deep Clustering: Taxonomy, Challenges, and Future Directions\\n\\nAuthors: Sheng Zhou\\n\\nSheng Zhou\\n\\nZhejiang University, Hangzhou, China\\n\\nView Profile\\n\\n, Hongjia Xu\\n\\nHongjia Xu\\n\\nZhejiang University, Hangzhou, China [...] Wenwu Zhu\\n\\nTsinghua University, Beijing, China\\n\\nView Profile\\n\\n, Martin Ester\\n\\nMartin Ester\\n\\nSimon Fraser University, Burnaby, Canada\\n\\nView Profile\\n\\n (Less)Authors Info & Claims\\n\\nACM Computing Surveys, Volume 57, Issue 3\\n\\nArticle No.: 69, Pages 1 - 38\\n\\nPublished: 11 November 2024 Publication History\\n\\nMetrics\\n\\nTotal Citations23Total Downloads3,013\\n\\nLast 12 Months3,013\\n\\nLast 6 weeks205\\n\\nGet Access\\n\\n## Abstract [...] View Profile\\n\\n, Zhuonan Zheng\\n\\nZhuonan Zheng\\n\\nZhejiang University, Hangzhou, China\\n\\nView Profile\\n\\n, Jiawei Chen\\n\\nJiawei Chen\\n\\nZhejiang University, Hangzhou, China\\n\\nView Profile\\n\\n, + 6, Zhao Li\\n\\nZhao Li\\n\\nZhejiang University, Hangzhou, China\\n\\nView Profile\\n\\n, Jiajun Bu\\n\\nJiajun Bu\\n\\nZhejiang University, Hangzhou, China\\n\\nView Profile\\n\\n, + 4, Jia Wu\\n\\nJia Wu\\n\\nMacquarie University, Sydney, Australia\\n\\nView Profile\\n\\n, Xin Wang\\n\\nXin Wang\\n\\nTsinghua University, Beijing, China\\n\\nView Profile\\n\\n, Wenwu Zhu', 'score': 0.7166357, 'raw_content': None}, {'url': 'https://pubmed.ncbi.nlm.nih.gov/36462229/', 'title': 'A comprehensive survey of deep learning research on medical ...', 'content': 'PMID: 36462229\\n    DOI: 10.1016/j.clinimag.2022.11.003\\n\\n Item in Clipboard \\n\\nReview\\n\\nA comprehensive survey of deep learning research on medical image analysis with focus on transfer learning\\n\\nSema Atasever et al. Clin Imaging.2023 Feb.\\n\\nShow details\\n\\nDisplay options\\n\\n Display options \\n\\n Format \\n\\n Clin Imaging \\n\\nActions\\n\\n   Search in PubMed\\n   Search in NLM Catalog\\n   Add to Search\\n\\n. 2023 Feb:94:18-41.\\n\\n doi: 10.1016/j.clinimag.2022.11.003.  Epub 2022 Nov 12. \\n\\n### Authors [...] A comprehensive survey of deep learning research on medical image analysis with focus on transfer learning\\n\\nSema Atasever1,Nuh Azginoglu2,Duygu Sinanc Terzi3,Ramazan Terzi4\\n\\n Affiliations  Expand \\n\\n### Affiliations [...] 4 Computer Engineering Department, Amasya University, Amasya, Turkey. Electronic address: ramazan.terzi@amasya.edu.tr.', 'score': 0.71425, 'raw_content': None}, {'url': 'https://warwick.ac.uk/fac/cross_fac/eduport/edufund/projects/yang/projects/a-comprehensive-survey-of-deep-research-systems-methodologies-and-applications/', 'title': 'a-comprehensive-survey-of-deep-research-systems-methodologies ...', 'content': '### Project Team\\n\\n#### Renjun Xu\\n\\nResearcher\\n\\n#### Jingwen Peng\\n\\nResearcher\\n\\n### Contact Information\\n\\nFor information about the paper, please contact the authors.\\n\\nAuthors: Renjun Xu, Jingwen Peng\\n\\nSource Publication: View Original PaperLink opens in a new window\\n\\nProject Contact: Dr. Jianhua Yang\\n\\nLLM Model Version: gpt-4o-mini-2024-07-18\\n\\nAnalysis Provider: Openai\\n\\n← Back to Projects', 'score': 0.7125728, 'raw_content': None}], 'response_time': 0.91, 'request_id': 'b5c99d5e-5352-440b-9e9f-437a791fe60b'}), AIMessage(content='The research paper titled \"A Comprehensive Survey of Deep Research: Systems, Methodologies, and Applications\" was authored by Renjun Xu and Jingwen Peng. \\n\\nI will now proceed to find out where each of these authors currently work.', additional_kwargs={'tool_calls': [{'id': 'call_ebgSVbPVt51SRfT9FbSpLDWW', 'function': {'arguments': '{\"query\": \"Renjun Xu Zhejiang University\"}', 'name': 'tavily_search_results_json'}, 'type': 'function'}, {'id': 'call_s4Zf7SSnS4eTNxtfsRcO1IZK', 'function': {'arguments': '{\"query\": \"Jingwen Peng Zhejiang University\"}', 'name': 'tavily_search_results_json'}, 'type': 'function'}], 'refusal': None}, response_metadata={'token_usage': {'completion_tokens': 109, 'prompt_tokens': 2645, 'total_tokens': 2754, 'completion_tokens_details': {'accepted_prediction_tokens': 0, 'audio_tokens': 0, 'reasoning_tokens': 0, 'rejected_prediction_tokens': 0}, 'prompt_tokens_details': {'audio_tokens': 0, 'cached_tokens': 0}}, 'model_name': 'gpt-4.1-nano-2025-04-14', 'system_fingerprint': 'fp_7c233bf9d1', 'id': 'chatcmpl-CLd2IRGoclOoVVkzAlNnHXdVGZ1T5', 'service_tier': 'default', 'finish_reason': 'tool_calls', 'logprobs': None}, id='run--e00cbd0e-0807-4b3f-974a-719407ca5294-0', tool_calls=[{'name': 'tavily_search_results_json', 'args': {'query': 'Renjun Xu Zhejiang University'}, 'id': 'call_ebgSVbPVt51SRfT9FbSpLDWW', 'type': 'tool_call'}, {'name': 'tavily_search_results_json', 'args': {'query': 'Jingwen Peng Zhejiang University'}, 'id': 'call_s4Zf7SSnS4eTNxtfsRcO1IZK', 'type': 'tool_call'}], usage_metadata={'input_tokens': 2645, 'output_tokens': 109, 'total_tokens': 2754, 'input_token_details': {'audio': 0, 'cache_read': 0}, 'output_token_details': {'audio': 0, 'reasoning': 0}}), ToolMessage(content='[{\"title\": \"Renjun Xu - Researcher, Zhejiang University\", \"url\": \"https://openreview.net/profile?id=~Renjun_Xu1\", \"content\": \"# Renjun Xu\\\\n\\\\n### Principal Researcher, Zhejiang University\\\\n\\\\n Joined September 2021\\\\n\\\\n#### Names\\\\n\\\\nRenjun Xu (Preferred)\\\\n\\\\n Suggest Name\\\\n\\\\n#### Emails\\\\n\\\\n\\\\\\\\\\\\\\\\\\\\\\\\\\\\\\\\@zju.edu.cn (Confirmed)\\\\n\\\\n Suggest Email\\\\n\\\\n#### Personal Links\\\\n\\\\nHomepage\\\\n\\\\nDBLP\\\\n\\\\nORCID\\\\n\\\\nSemantic Scholar\\\\n\\\\n Suggest URL\\\\n\\\\n#### Career & Education History\\\\n\\\\nPrincipal Researcher\\\\n\\\\nZhejiang University(zju.edu.cn)\\\\n\\\\n2018 – Present\\\\n\\\\n Suggest Position\\\\n\\\\n#### Advisors, Relations & Conflicts\\\\n\\\\nNo relations added\\\\n\\\\n Suggest Relation\\\\n\\\\n#### Expertise [...] equivariant neural network, domain adaptation, domain generalization, molecular, physics, contrastive learning, symmetry, crystal, phase transition\\\\n\\\\nPresent\\\\n\\\\n Suggest Expertise\", \"score\": 0.7992077}, {\"title\": \"Renjun Xu | IEEE Xplore Author Details\", \"url\": \"https://ieeexplore.ieee.org/author/37089181301\", \"content\": \"Affiliations: [Center for Data Science, Zhejiang University, Hangzhou, China]. Author Bio: Renjun Xu received the PhD degree from UC Davis, ZJU100 Young\", \"score\": 0.725824}, {\"title\": \"zhuan@zju.edu.cn\", \"url\": \"https://person.zju.edu.cn/en/0094094\", \"content\": \"XU ZHUAN Ph.D. \\\\n\\\\nProfessor\\\\n| Doctoral supervisor\\\\n\\\\nSchool Of Physics\\\\n\\\\n 0571 87953255\\\\n zhuan@zju.edu.cn\\\\n + Condensed Matter Physics\\\\n\\\\n Biography\\\\n Courses\\\\n Publications\\\\n\\\\n正在加载中，请稍后... [...] 中文\\\\n|\\\\nEnglish\\\\n\\\\nWelcome !\\u2003\\\\n\\\\n Main\\\\n Logout)\\\\n\\\\nLogin\\\\n\\\\n### Related People\\\\n\\\\nAnother batch\\\\n\\\\n ##### ZHENG YI\\\\n\\\\n  School Of Physics\\\\n ##### Liu, Yang\\\\n\\\\n  School Of Physics\\\\n ##### CHENSHUIQIAO\\\\n\\\\n  School Of Physics\\\\n ##### Fang Minghu\\\\n\\\\n  School Of Physics\\\\n ##### ZHU SHIYAO\\\\n\\\\n  School Of Physics\\\\n ##### WANGHUA\\\\n\\\\n  School Of Physics\\\\n ##### SONGYU\\\\n\\\\n  School Of Physics\\\\n ##### Zhentao Wang\\\\n\\\\n  School Of Physics\\\\n ##### Jingyuan LI\\\\n\\\\n  School Of Physics\\\\n ##### LVLIHUA\\\\n\\\\n  School Of Physics\\\\n\\\\n2023-06-09\\\\n\\\\n:5892\", \"score\": 0.22387761}, {\"title\": \"Applied theory of planned behavior to explore associated ...\", \"url\": \"https://pubmed.ncbi.nlm.nih.gov/40011414/\", \"content\": \"Among the 1350 eligible participants, ultimately 964 of them submitted valid questionnaires. According to the leisure time index (LSI) scores, 59.34% of Chinese CCS reached the recommendation level of moderate-vigorous physical activity (MVPA) (LSI ≥ 24). Attending school, diagnosis, time since discharge, behavioral intention, and self-efficacy were associated with MVPA levels in CCS. Path analysis showed that intention and self-efficacy exerted a direct effect on CCS\\' PA, whereas the direct [...] ### Add to Collections\\\\n\\\\n### Add to My Bibliography\\\\n\\\\n## Your saved search\\\\n\\\\n## Create a file for external citation management software\\\\n\\\\n## Your RSS Feed\\\\n\\\\n### Full text links\\\\n\\\\nSpringer full text link\\\\n\\\\n### Actions\\\\n\\\\n### Page navigation\\\\n\\\\n# Applied theory of planned behavior to explore associated factor of physical activity level among Chinese childhood cancer survivors\\\\n\\\\n### Affiliations [...] This study highlights the critical need to address low physical activity levels among childhood cancer survivors (CCS), as insufficient engagement in moderate-vigorous physical activity (MVPA) may hinder their recovery and longterm health outcomes. The findings underscore the pivotal role of self-efficacy in promoting MVPA participation, with both direct and indirect effects on activity behaviors. Interventions targeting CCS should prioritize strategies to enhance self-efficacy-such as\", \"score\": 0.10421286}, {\"title\": \"Juntao Jiang - OpenReview\", \"url\": \"https://openreview.net/profile?id=~Juntao_Jiang1\", \"content\": \"# Juntao Jiang\\\\n\\\\n### PhD student, College of Control Science and Engineering, Zhejiang University\\\\n\\\\n Joined July 2022\\\\n\\\\n#### Names\\\\n\\\\nJuntao Jiang (Preferred)\\\\n\\\\n Suggest Name\\\\n\\\\n#### Emails\\\\n\\\\n\\\\\\\\\\\\\\\\\\\\\\\\\\\\\\\\@nyu.edu (Confirmed)\\\\n\\\\n, \\\\n\\\\n\\\\\\\\\\\\\\\\\\\\\\\\\\\\\\\\@zju.edu.cn (Confirmed)\\\\n\\\\n Suggest Email\\\\n\\\\n#### Personal Links\\\\n\\\\nORCID\\\\n\\\\n Suggest URL\\\\n\\\\n#### Career & Education History\\\\n\\\\nPhD student\\\\n\\\\nCollege of Control Science and Engineering, Zhejiang University (zju.edu.cn)\\\\n\\\\n2023 – Present\\\\n\\\\nMS student\\\\n\\\\nNew York University(nyu.edu)\\\\n\\\\n2019 – 2021 [...] Suggest Position\\\\n\\\\n#### Advisors, Relations & Conflicts\\\\n\\\\nPhD Advisor\\\\n\\\\nYong Liu\\\\n\\\\n2023 – Present\\\\n\\\\n Suggest Relation\\\\n\\\\n#### Expertise\\\\n\\\\nMedical Image Analysis\\\\n\\\\n2021 – Present\\\\n\\\\nComputer Vision\\\\n\\\\n2021 – Present\\\\n\\\\n Suggest Expertise\", \"score\": 0.074722916}]', name='tavily_search_results_json', id='8d1f5e2c-bacf-4fbe-92d2-3a29aa1acacc', tool_call_id='call_ebgSVbPVt51SRfT9FbSpLDWW', artifact={'query': 'Renjun Xu Zhejiang University', 'follow_up_questions': None, 'answer': None, 'images': [], 'results': [{'url': 'https://openreview.net/profile?id=~Renjun_Xu1', 'title': 'Renjun Xu - Researcher, Zhejiang University', 'content': '# Renjun Xu\\n\\n### Principal Researcher, Zhejiang University\\n\\n Joined September 2021\\n\\n#### Names\\n\\nRenjun Xu (Preferred)\\n\\n Suggest Name\\n\\n#### Emails\\n\\n\\\\\\\\\\\\\\\\@zju.edu.cn (Confirmed)\\n\\n Suggest Email\\n\\n#### Personal Links\\n\\nHomepage\\n\\nDBLP\\n\\nORCID\\n\\nSemantic Scholar\\n\\n Suggest URL\\n\\n#### Career & Education History\\n\\nPrincipal Researcher\\n\\nZhejiang University(zju.edu.cn)\\n\\n2018 – Present\\n\\n Suggest Position\\n\\n#### Advisors, Relations & Conflicts\\n\\nNo relations added\\n\\n Suggest Relation\\n\\n#### Expertise [...] equivariant neural network, domain adaptation, domain generalization, molecular, physics, contrastive learning, symmetry, crystal, phase transition\\n\\nPresent\\n\\n Suggest Expertise', 'score': 0.7992077, 'raw_content': None}, {'url': 'https://ieeexplore.ieee.org/author/37089181301', 'title': 'Renjun Xu | IEEE Xplore Author Details', 'content': 'Affiliations: [Center for Data Science, Zhejiang University, Hangzhou, China]. Author Bio: Renjun Xu received the PhD degree from UC Davis, ZJU100 Young', 'score': 0.725824, 'raw_content': None}, {'url': 'https://person.zju.edu.cn/en/0094094', 'title': 'zhuan@zju.edu.cn', 'content': 'XU ZHUAN Ph.D. \\n\\nProfessor\\n| Doctoral supervisor\\n\\nSchool Of Physics\\n\\n 0571 87953255\\n zhuan@zju.edu.cn\\n + Condensed Matter Physics\\n\\n Biography\\n Courses\\n Publications\\n\\n正在加载中，请稍后... [...] 中文\\n|\\nEnglish\\n\\nWelcome !\\u2003\\n\\n Main\\n Logout)\\n\\nLogin\\n\\n### Related People\\n\\nAnother batch\\n\\n ##### ZHENG YI\\n\\n  School Of Physics\\n ##### Liu, Yang\\n\\n  School Of Physics\\n ##### CHENSHUIQIAO\\n\\n  School Of Physics\\n ##### Fang Minghu\\n\\n  School Of Physics\\n ##### ZHU SHIYAO\\n\\n  School Of Physics\\n ##### WANGHUA\\n\\n  School Of Physics\\n ##### SONGYU\\n\\n  School Of Physics\\n ##### Zhentao Wang\\n\\n  School Of Physics\\n ##### Jingyuan LI\\n\\n  School Of Physics\\n ##### LVLIHUA\\n\\n  School Of Physics\\n\\n2023-06-09\\n\\n:5892', 'score': 0.22387761, 'raw_content': None}, {'url': 'https://pubmed.ncbi.nlm.nih.gov/40011414/', 'title': 'Applied theory of planned behavior to explore associated ...', 'content': \"Among the 1350 eligible participants, ultimately 964 of them submitted valid questionnaires. According to the leisure time index (LSI) scores, 59.34% of Chinese CCS reached the recommendation level of moderate-vigorous physical activity (MVPA) (LSI ≥ 24). Attending school, diagnosis, time since discharge, behavioral intention, and self-efficacy were associated with MVPA levels in CCS. Path analysis showed that intention and self-efficacy exerted a direct effect on CCS' PA, whereas the direct [...] ### Add to Collections\\n\\n### Add to My Bibliography\\n\\n## Your saved search\\n\\n## Create a file for external citation management software\\n\\n## Your RSS Feed\\n\\n### Full text links\\n\\nSpringer full text link\\n\\n### Actions\\n\\n### Page navigation\\n\\n# Applied theory of planned behavior to explore associated factor of physical activity level among Chinese childhood cancer survivors\\n\\n### Affiliations [...] This study highlights the critical need to address low physical activity levels among childhood cancer survivors (CCS), as insufficient engagement in moderate-vigorous physical activity (MVPA) may hinder their recovery and longterm health outcomes. The findings underscore the pivotal role of self-efficacy in promoting MVPA participation, with both direct and indirect effects on activity behaviors. Interventions targeting CCS should prioritize strategies to enhance self-efficacy-such as\", 'score': 0.10421286, 'raw_content': None}, {'url': 'https://openreview.net/profile?id=~Juntao_Jiang1', 'title': 'Juntao Jiang - OpenReview', 'content': '# Juntao Jiang\\n\\n### PhD student, College of Control Science and Engineering, Zhejiang University\\n\\n Joined July 2022\\n\\n#### Names\\n\\nJuntao Jiang (Preferred)\\n\\n Suggest Name\\n\\n#### Emails\\n\\n\\\\\\\\\\\\\\\\@nyu.edu (Confirmed)\\n\\n, \\n\\n\\\\\\\\\\\\\\\\@zju.edu.cn (Confirmed)\\n\\n Suggest Email\\n\\n#### Personal Links\\n\\nORCID\\n\\n Suggest URL\\n\\n#### Career & Education History\\n\\nPhD student\\n\\nCollege of Control Science and Engineering, Zhejiang University (zju.edu.cn)\\n\\n2023 – Present\\n\\nMS student\\n\\nNew York University(nyu.edu)\\n\\n2019 – 2021 [...] Suggest Position\\n\\n#### Advisors, Relations & Conflicts\\n\\nPhD Advisor\\n\\nYong Liu\\n\\n2023 – Present\\n\\n Suggest Relation\\n\\n#### Expertise\\n\\nMedical Image Analysis\\n\\n2021 – Present\\n\\nComputer Vision\\n\\n2021 – Present\\n\\n Suggest Expertise', 'score': 0.074722916, 'raw_content': None}], 'response_time': 3.78, 'request_id': 'fb745c68-5d6b-4443-b61e-378efc249497'}), ToolMessage(content='[{\"title\": \"Jingyu PENG - Zhejiang University, Hangzhou - ResearchGate\", \"url\": \"https://www.researchgate.net/profile/Jingyu-Peng-6\", \"content\": \"Jingyu Peng. Verified. Jingyu verified their affiliation via an institutional email. Learn more. Verified. Jingyu verified their affiliation via an\", \"score\": 0.5065188}, {\"title\": \"[2506.12594] A Comprehensive Survey of Deep Research - arXiv\", \"url\": \"https://arxiv.org/abs/2506.12594\", \"content\": \"We gratefully acknowledge support from the Simons Foundation, member institutions, and all contributors. Donate\\\\n\\\\n> cs > arXiv:2506.12594\\\\n\\\\n# Computer Science > Artificial Intelligence\\\\n\\\\narXiv:2506.12594 (cs)\\\\n\\\\n[Submitted on 14 Jun 2025]\\\\n\\\\n# Title:A Comprehensive Survey of Deep Research: Systems, Methodologies, and Applications\\\\n\\\\nAuthors:Renjun Xu, Jingwen Peng [...] View a PDF of the paper titled A Comprehensive Survey of Deep Research: Systems, Methodologies, and Applications, by Renjun Xu and 1 other authors\\\\n\\\\n View PDF\\\\n HTML (experimental)\\\\n TeX Source\\\\n Other Formats\\\\n\\\\nview license\\\\n\\\\nCurrent browse context:\\\\n\\\\ncs.AI\\\\n\\\\n< prev\\\\\")    |    next >\\\\\")\\\\n\\\\nnew  |  recent  | 2025-06\\\\n\\\\nChange to browse by:\\\\n\\\\ncs cs.MA\\\\n\\\\n### References & Citations\\\\n\\\\n NASA ADS\\\\n Google Scholar\\\\n Semantic Scholar\\\\n\\\\na export BibTeX citation Loading...\\\\n\\\\n## BibTeX formatted citation\\\\n\\\\n× [...] |  |  |\\\\n --- |\\\\n| Comments: | 95 pages, 11 figures |\\\\n| Subjects: | Artificial Intelligence (cs.AI); Multiagent Systems (cs.MA) |\\\\n| ACM classes: | I.2.8 |\\\\n| Cite as: | arXiv:2506.12594 [cs.AI] |\\\\n|  | (or  arXiv:2506.12594v1 [cs.AI] for this version) |\\\\n|  |  arXiv-issued DOI via DataCite |\\\\n\\\\n## Submission history\\\\n\\\\nFrom: Renjun Xu [view email] [v1] Sat, 14 Jun 2025 18:19:05 UTC (652 KB)\\\\n\\\\nFull-text links:\\\\n\\\\n## Access Paper:\", \"score\": 0.48030865}, {\"title\": \"Sida Peng\", \"url\": \"https://pengsida.net/\", \"content\": \"\\\\\\\\[2025-04\\\\\\\\] Received the 2025 China3DV Outstanding Young Researcher Award.\\\\n    \\\\n   \\\\\\\\[2025-04\\\\\\\\] One paper selected as CVPR 2025 Oral.\\\\n    \\\\n   \\\\\\\\[2025-02\\\\\\\\] Six papers accepted to CVPR 2025.\\\\n    \\\\n   \\\\\\\\[2025-01\\\\\\\\] Three papers accepted to ICLR 2025.\\\\n    \\\\n   \\\\\\\\[2024-12\\\\\\\\] Received the 2024 CCF Outstanding Doctoral Dissertation Award.\\\\n    \\\\n   \\\\\\\\[2024-11\\\\\\\\] Received the Outstanding Doctoral Dissertation Award of Zhejiang Province. [...] \\\\\\\\[2023-08\\\\\\\\] Invited talk at Shanghai Jiao Tong University on learning research (slides).\\\\n    \\\\n   \\\\\\\\[2023-08\\\\\\\\] One paper accepted to SIGGRAPH Asia 2023.\\\\n    \\\\n   \\\\\\\\[2023-07\\\\\\\\] Joined the School of Software Technology at Zhejiang University as an assistant professor.\\\\n    \\\\n   \\\\\\\\[2023-07\\\\\\\\] Three papers accepted to ICCV 2023.\\\\n    \\\\n   \\\\\\\\[2023-06\\\\\\\\] Honored to be selected as the 2023 WAIC Rising Star. [...] I am an assistant professor (ZJU-100 Young Professor) at Zhejiang University. I received my Ph.D. degree from College of Computer Science and Technology at Zhejiang University in 2023, supervised by Prof. Xiaowei Zhou and Prof. Hujun Bao, and obtained my bachelor degree in Information Engineering from Zhejiang University in 2018. I received the 2024 CCF Outstanding Doctoral Dissertation Award and was selected as the 2022 Apple Scholar in AI/ML. I have been maintaining a handbook on learning\", \"score\": 0.36080483}, {\"title\": \"NDSS Symposium 2025 Accepted Papers\", \"url\": \"https://www.ndss-symposium.org/ndss2025/accepted-papers/\", \"content\": \"More Details\\\\n\\\\n### Secure IP Address Allocation at Cloud Scale\\\\n\\\\nEric Pauley (University of Wisconsin–Madison), Kyle Domico (University of Wisconsin–Madison), Blaine Hoak (University of...\\\\n\\\\nMore Details\\\\n\\\\n### Secure Transformer Inference Made Non-interactive\\\\n\\\\nJiawen Zhang (Zhejiang University), Xinpeng Yang (Zhejiang University), Lipeng He (University of Waterloo), Kejia...\\\\n\\\\nMore Details\\\\n\\\\n### Silence False Alarms: Identifying Anti-Reentrancy Patterns on Ethereum... [...] Jing Shang (Beijing Jiaotong University), Jian Wang (Beijing Jiaotong University), Kailun Wang (Beijing Jiaotong...\\\\n\\\\nMore Details\\\\n\\\\n### Density Boosts Everything: A One-stop Strategy for Improving...\\\\n\\\\nJianwen Tian (Academy of Military Sciences), Wei Kong (Zhejiang Sci-Tech University), Debin Gao (Singapore...\\\\n\\\\nMore Details\\\\n\\\\n### Detecting IMSI-Catchers by Characterizing Identity Exposing Messages in... [...] More Details\\\\n\\\\n### Delay-allowed Differentially Private Data Stream Release\\\\n\\\\nXiaochen Li (University of Virginia), Zhan Qin (Zhejiang University), Kui Ren (Zhejiang University), Chen...\\\\n\\\\nMore Details\\\\n\\\\n### Diffence: Fencing Membership Privacy With Diffusion Models\\\\n\\\\nYuefeng Peng (University of Massachusetts Amherst), Ali Naseh (University of Massachusetts Amherst), Amir Houmansadr...\\\\n\\\\nMore Details\\\\n\\\\n### Dissecting Payload-based Transaction Phishing on Ethereum\", \"score\": 0.26754224}, {\"title\": \"Molecular pathogenesis of acetaminophen-induced liver injury and ...\", \"url\": \"https://pubmed.ncbi.nlm.nih.gov/35403383/\", \"content\": \"### Add to Collections\\\\n\\\\n### Add to My Bibliography\\\\n\\\\n## Your saved search\\\\n\\\\n## Create a file for external citation management software\\\\n\\\\n## Your RSS Feed\\\\n\\\\n### Full text links\\\\n\\\\nZhejiang University Press full text link\\\\n\\\\n### Actions\\\\n\\\\n### Page navigation\\\\n\\\\n# Molecular pathogenesis of acetaminophen-induced liver injury and its treatment options\\\\n\\\\n### Affiliations\\\\n\\\\n# Molecular pathogenesis of acetaminophen-induced liver injury and its treatment options\\\\n\\\\n### Authors\\\\n\\\\n### Affiliations\\\\n\\\\n## Abstract [...] Fig. 5. HPCs regenerated under the action of signal mediators and immune cells. Immune cells…\\\\n\\\\n## References\\\\n\\\\n## Publication types\\\\n\\\\n## MeSH terms\\\\n\\\\n## Substances\\\\n\\\\n## Grants and funding\\\\n\\\\n## LinkOut - more resources\\\\n\\\\n### Full Text Sources\\\\n\\\\n### Medical\\\\n\\\\nZhejiang University Press full text link\\\\n\\\\nNCBI Literature Resources\\\\n\\\\nMeSH\\\\nPMC\\\\nBookshelf\\\\nDisclaimer [...] pathogenesis of AILI: hepatocyte necrosis, sterile inflammation, and hepatocyte regeneration. The relevant factors are elucidated and discussed. For instance, N-acetyl-p-benzoquinone imine (NAPQI) protein adducts trigger mitochondrial oxidative/nitrosative stress during hepatocyte necrosis, danger-associated molecular patterns (DAMPs) are released to elicit sterile inflammation, and certain growth factors contribute to liver regeneration. Finally, we describe the current potential treatment\", \"score\": 0.17754011}]', name='tavily_search_results_json', id='50d00eeb-5e9a-496a-b6d1-84407a0d1f53', tool_call_id='call_s4Zf7SSnS4eTNxtfsRcO1IZK', artifact={'query': 'Jingwen Peng Zhejiang University', 'follow_up_questions': None, 'answer': None, 'images': [], 'results': [{'url': 'https://www.researchgate.net/profile/Jingyu-Peng-6', 'title': 'Jingyu PENG - Zhejiang University, Hangzhou - ResearchGate', 'content': 'Jingyu Peng. Verified. Jingyu verified their affiliation via an institutional email. Learn more. Verified. Jingyu verified their affiliation via an', 'score': 0.5065188, 'raw_content': None}, {'url': 'https://arxiv.org/abs/2506.12594', 'title': '[2506.12594] A Comprehensive Survey of Deep Research - arXiv', 'content': 'We gratefully acknowledge support from the Simons Foundation, member institutions, and all contributors. Donate\\n\\n> cs > arXiv:2506.12594\\n\\n# Computer Science > Artificial Intelligence\\n\\narXiv:2506.12594 (cs)\\n\\n[Submitted on 14 Jun 2025]\\n\\n# Title:A Comprehensive Survey of Deep Research: Systems, Methodologies, and Applications\\n\\nAuthors:Renjun Xu, Jingwen Peng [...] View a PDF of the paper titled A Comprehensive Survey of Deep Research: Systems, Methodologies, and Applications, by Renjun Xu and 1 other authors\\n\\n View PDF\\n HTML (experimental)\\n TeX Source\\n Other Formats\\n\\nview license\\n\\nCurrent browse context:\\n\\ncs.AI\\n\\n< prev\")    |    next >\")\\n\\nnew  |  recent  | 2025-06\\n\\nChange to browse by:\\n\\ncs cs.MA\\n\\n### References & Citations\\n\\n NASA ADS\\n Google Scholar\\n Semantic Scholar\\n\\na export BibTeX citation Loading...\\n\\n## BibTeX formatted citation\\n\\n× [...] |  |  |\\n --- |\\n| Comments: | 95 pages, 11 figures |\\n| Subjects: | Artificial Intelligence (cs.AI); Multiagent Systems (cs.MA) |\\n| ACM classes: | I.2.8 |\\n| Cite as: | arXiv:2506.12594 [cs.AI] |\\n|  | (or  arXiv:2506.12594v1 [cs.AI] for this version) |\\n|  |  arXiv-issued DOI via DataCite |\\n\\n## Submission history\\n\\nFrom: Renjun Xu [view email] [v1] Sat, 14 Jun 2025 18:19:05 UTC (652 KB)\\n\\nFull-text links:\\n\\n## Access Paper:', 'score': 0.48030865, 'raw_content': None}, {'url': 'https://pengsida.net/', 'title': 'Sida Peng', 'content': '\\\\[2025-04\\\\] Received the 2025 China3DV Outstanding Young Researcher Award.\\n    \\n   \\\\[2025-04\\\\] One paper selected as CVPR 2025 Oral.\\n    \\n   \\\\[2025-02\\\\] Six papers accepted to CVPR 2025.\\n    \\n   \\\\[2025-01\\\\] Three papers accepted to ICLR 2025.\\n    \\n   \\\\[2024-12\\\\] Received the 2024 CCF Outstanding Doctoral Dissertation Award.\\n    \\n   \\\\[2024-11\\\\] Received the Outstanding Doctoral Dissertation Award of Zhejiang Province. [...] \\\\[2023-08\\\\] Invited talk at Shanghai Jiao Tong University on learning research (slides).\\n    \\n   \\\\[2023-08\\\\] One paper accepted to SIGGRAPH Asia 2023.\\n    \\n   \\\\[2023-07\\\\] Joined the School of Software Technology at Zhejiang University as an assistant professor.\\n    \\n   \\\\[2023-07\\\\] Three papers accepted to ICCV 2023.\\n    \\n   \\\\[2023-06\\\\] Honored to be selected as the 2023 WAIC Rising Star. [...] I am an assistant professor (ZJU-100 Young Professor) at Zhejiang University. I received my Ph.D. degree from College of Computer Science and Technology at Zhejiang University in 2023, supervised by Prof. Xiaowei Zhou and Prof. Hujun Bao, and obtained my bachelor degree in Information Engineering from Zhejiang University in 2018. I received the 2024 CCF Outstanding Doctoral Dissertation Award and was selected as the 2022 Apple Scholar in AI/ML. I have been maintaining a handbook on learning', 'score': 0.36080483, 'raw_content': None}, {'url': 'https://www.ndss-symposium.org/ndss2025/accepted-papers/', 'title': 'NDSS Symposium 2025 Accepted Papers', 'content': 'More Details\\n\\n### Secure IP Address Allocation at Cloud Scale\\n\\nEric Pauley (University of Wisconsin–Madison), Kyle Domico (University of Wisconsin–Madison), Blaine Hoak (University of...\\n\\nMore Details\\n\\n### Secure Transformer Inference Made Non-interactive\\n\\nJiawen Zhang (Zhejiang University), Xinpeng Yang (Zhejiang University), Lipeng He (University of Waterloo), Kejia...\\n\\nMore Details\\n\\n### Silence False Alarms: Identifying Anti-Reentrancy Patterns on Ethereum... [...] Jing Shang (Beijing Jiaotong University), Jian Wang (Beijing Jiaotong University), Kailun Wang (Beijing Jiaotong...\\n\\nMore Details\\n\\n### Density Boosts Everything: A One-stop Strategy for Improving...\\n\\nJianwen Tian (Academy of Military Sciences), Wei Kong (Zhejiang Sci-Tech University), Debin Gao (Singapore...\\n\\nMore Details\\n\\n### Detecting IMSI-Catchers by Characterizing Identity Exposing Messages in... [...] More Details\\n\\n### Delay-allowed Differentially Private Data Stream Release\\n\\nXiaochen Li (University of Virginia), Zhan Qin (Zhejiang University), Kui Ren (Zhejiang University), Chen...\\n\\nMore Details\\n\\n### Diffence: Fencing Membership Privacy With Diffusion Models\\n\\nYuefeng Peng (University of Massachusetts Amherst), Ali Naseh (University of Massachusetts Amherst), Amir Houmansadr...\\n\\nMore Details\\n\\n### Dissecting Payload-based Transaction Phishing on Ethereum', 'score': 0.26754224, 'raw_content': None}, {'url': 'https://pubmed.ncbi.nlm.nih.gov/35403383/', 'title': 'Molecular pathogenesis of acetaminophen-induced liver injury and ...', 'content': '### Add to Collections\\n\\n### Add to My Bibliography\\n\\n## Your saved search\\n\\n## Create a file for external citation management software\\n\\n## Your RSS Feed\\n\\n### Full text links\\n\\nZhejiang University Press full text link\\n\\n### Actions\\n\\n### Page navigation\\n\\n# Molecular pathogenesis of acetaminophen-induced liver injury and its treatment options\\n\\n### Affiliations\\n\\n# Molecular pathogenesis of acetaminophen-induced liver injury and its treatment options\\n\\n### Authors\\n\\n### Affiliations\\n\\n## Abstract [...] Fig. 5. HPCs regenerated under the action of signal mediators and immune cells. Immune cells…\\n\\n## References\\n\\n## Publication types\\n\\n## MeSH terms\\n\\n## Substances\\n\\n## Grants and funding\\n\\n## LinkOut - more resources\\n\\n### Full Text Sources\\n\\n### Medical\\n\\nZhejiang University Press full text link\\n\\nNCBI Literature Resources\\n\\nMeSH\\nPMC\\nBookshelf\\nDisclaimer [...] pathogenesis of AILI: hepatocyte necrosis, sterile inflammation, and hepatocyte regeneration. The relevant factors are elucidated and discussed. For instance, N-acetyl-p-benzoquinone imine (NAPQI) protein adducts trigger mitochondrial oxidative/nitrosative stress during hepatocyte necrosis, danger-associated molecular patterns (DAMPs) are released to elicit sterile inflammation, and certain growth factors contribute to liver regeneration. Finally, we describe the current potential treatment', 'score': 0.17754011, 'raw_content': None}], 'response_time': 2.78, 'request_id': '8c28b5cf-21a0-4717-8358-42f80e8dac7c'})]}\n",
            "In condition step\n",
            "\n",
            "\n",
            "\n",
            "State\n",
            "\n",
            "\n",
            "{'messages': [HumanMessage(content='Search Arxiv for the A Comprehensive Survey of Deep Research paper, then search each of the authors to find out where they work now using Tavily!', additional_kwargs={}, response_metadata={}, id='3089174f-23da-4cf1-9f68-7cb7c15a7fb5'), AIMessage(content='', additional_kwargs={'tool_calls': [{'id': 'call_bWSGUmTDg2z0Sp2avWLnwrHF', 'function': {'arguments': '{\"query\": \"A Comprehensive Survey of Deep Research\"}', 'name': 'arxiv'}, 'type': 'function'}, {'id': 'call_7bOhd1ESeii5rLo2Wa1LFJ1H', 'function': {'arguments': '{\"query\": \"author of A Comprehensive Survey of Deep Research\"}', 'name': 'tavily_search_results_json'}, 'type': 'function'}], 'refusal': None}, response_metadata={'token_usage': {'completion_tokens': 60, 'prompt_tokens': 182, 'total_tokens': 242, 'completion_tokens_details': {'accepted_prediction_tokens': 0, 'audio_tokens': 0, 'reasoning_tokens': 0, 'rejected_prediction_tokens': 0}, 'prompt_tokens_details': {'audio_tokens': 0, 'cached_tokens': 0}}, 'model_name': 'gpt-4.1-nano-2025-04-14', 'system_fingerprint': 'fp_7c233bf9d1', 'id': 'chatcmpl-CLd2C2wTGv11aaFOvRPrnmGgHVfUZ', 'service_tier': 'default', 'finish_reason': 'tool_calls', 'logprobs': None}, id='run--b1efbd38-5b25-487c-95f3-cbcd7ba5e26e-0', tool_calls=[{'name': 'arxiv', 'args': {'query': 'A Comprehensive Survey of Deep Research'}, 'id': 'call_bWSGUmTDg2z0Sp2avWLnwrHF', 'type': 'tool_call'}, {'name': 'tavily_search_results_json', 'args': {'query': 'author of A Comprehensive Survey of Deep Research'}, 'id': 'call_7bOhd1ESeii5rLo2Wa1LFJ1H', 'type': 'tool_call'}], usage_metadata={'input_tokens': 182, 'output_tokens': 60, 'total_tokens': 242, 'input_token_details': {'audio': 0, 'cache_read': 0}, 'output_token_details': {'audio': 0, 'reasoning': 0}}), ToolMessage(content='Published: 2025-06-14\\nTitle: A Comprehensive Survey of Deep Research: Systems, Methodologies, and Applications\\nAuthors: Renjun Xu, Jingwen Peng\\nSummary: This survey examines the rapidly evolving field of Deep Research systems --\\nAI-powered applications that automate complex research workflows through the\\nintegration of large language models, advanced information retrieval, and\\nautonomous reasoning capabilities. We analyze more than 80 commercial and\\nnon-commercial implementations that have emerged since 2023, including\\nOpenAI/Deep Research, Gemini/Deep Research, Perplexity/Deep Research, and\\nnumerous open-source alternatives. Through comprehensive examination, we\\npropose a novel hierarchical taxonomy that categorizes systems according to\\nfour fundamental technical dimensions: foundation models and reasoning engines,\\ntool utilization and environmental interaction, task planning and execution\\ncontrol, and knowledge synthesis and output generation. We explore the\\narchitectural patterns, implementation approaches, and domain-specific\\nadaptations that characterize these systems across academic, scientific,\\nbusiness, and educational applications. Our analysis reveals both the\\nsignificant capabilities of current implementations and the technical and\\nethical challenges they present regarding information accuracy, privacy,\\nintellectual property, and accessibility. The survey concludes by identifying\\npromising research directions in advanced reasoning architectures, multimodal\\nintegration, domain specialization, human-AI collaboration, and ecosystem\\nstandardization that will likely shape the future evolution of this\\ntransformative technology. By providing a comprehensive framework for\\nunderstanding Deep Research systems, this survey contributes to both the\\ntheoretical understanding of AI-augmented knowledge work and the practical\\ndevelopment of more capable, responsible, and accessible research technologies.\\nThe paper resources can be viewed at\\nhttps://github.com/scienceaix/deepresearch.\\n\\nPublished: 2021-03-05\\nTitle: A comprehensive survey on point cloud registration\\nAuthors: Xiaoshui Huang, Guofeng Mei, Jian Zhang, Rana Abbas\\nSummary: Registration is a transformation estimation problem between two point clouds,\\nwhich has a unique and critical role in numerous computer vision applications.\\nThe developments of optimization-based methods and deep learning methods have\\nimproved registration robustness and efficiency. Recently, the combinations of\\noptimization-based and deep learning methods have further improved performance.\\nHowever, the connections between optimization-based and deep learning methods\\nare still unclear. Moreover, with the recent development of 3D sensors and 3D\\nreconstruction techniques, a new research direction emerges to align\\ncross-source point clouds. This survey conducts a comprehensive survey,\\nincluding both same-source and cross-source registration methods, and summarize\\nthe connections between optimization-based and deep learning methods, to\\nprovide further research insight. This survey also builds a new benchmark to\\nevaluate the state-of-the-art registration algorithms in solving cross-source\\nchallenges. Besides, this survey summarizes the benchmark data sets and\\ndiscusses point cloud registration applications across various domains.\\nFinally, this survey proposes potential research directions in this rapidly\\ngrowing field.\\n\\nPublished: 2023-07-07\\nTitle: A Survey of Deep Learning in Sports Applications: Perception, Comprehension, and Decision\\nAuthors: Zhonghan Zhao, Wenhao Chai, Shengyu Hao, Wenhao Hu, Guanhong Wang, Shidong Cao, Mingli Song, Jenq-Neng Hwang, Gaoang Wang\\nSummary: Deep learning has the potential to revolutionize sports performance, with\\napplications ranging from perception and comprehension to decision. This paper\\npresents a comprehensive survey of deep learning in sports performance,\\nfocusing on three main aspects: algorithms, datasets and virtual environments,\\nand challenges. Firstly, we discuss th', name='arxiv', id='c8452642-27e4-4de2-a365-0d5f2ecc576a', tool_call_id='call_bWSGUmTDg2z0Sp2avWLnwrHF'), ToolMessage(content='[{\"title\": \"[2506.12594] A Comprehensive Survey of Deep Research - arXiv\", \"url\": \"https://arxiv.org/abs/2506.12594\", \"content\": \"We gratefully acknowledge support from the Simons Foundation, member institutions, and all contributors. Donate\\\\n\\\\n> cs > arXiv:2506.12594\\\\n\\\\n# Computer Science > Artificial Intelligence\\\\n\\\\narXiv:2506.12594 (cs)\\\\n\\\\n[Submitted on 14 Jun 2025]\\\\n\\\\n# Title:A Comprehensive Survey of Deep Research: Systems, Methodologies, and Applications\\\\n\\\\nAuthors:Renjun Xu, Jingwen Peng [...] View a PDF of the paper titled A Comprehensive Survey of Deep Research: Systems, Methodologies, and Applications, by Renjun Xu and 1 other authors [...] View a PDF of the paper titled A Comprehensive Survey of Deep Research: Systems, Methodologies, and Applications, by Renjun Xu and 1 other authors\\\\n\\\\n View PDF\\\\n HTML (experimental)\\\\n TeX Source\\\\n Other Formats\\\\n\\\\nview license\\\\n\\\\nCurrent browse context:\\\\n\\\\ncs.AI\\\\n\\\\n< prev\\\\\")    |    next >\\\\\")\\\\n\\\\nnew  |  recent  | 2025-06\\\\n\\\\nChange to browse by:\\\\n\\\\ncs cs.MA\\\\n\\\\n### References & Citations\\\\n\\\\n NASA ADS\\\\n Google Scholar\\\\n Semantic Scholar\\\\n\\\\na export BibTeX citation Loading...\\\\n\\\\n## BibTeX formatted citation\\\\n\\\\n×\", \"score\": 0.90289277}, {\"title\": \"A Comprehensive Survey of Deep Research: Systems ... - alphaXiv\", \"url\": \"https://www.alphaxiv.org/overview/2506.12594\", \"content\": \"This comprehensive survey by Renjun Xu and Jingwen Peng from Zhejiang University addresses the rapidly emerging field of Deep Research systems—AI-powered applications that integrate large language models, advanced information retrieval, and autonomous reasoning to automate complex research workflows. The paper establishes the first systematic framework for understanding this domain, which has evolved dramatically since 2023, encompassing over 80 commercial and open-source implementations. [...] This paper is cited in the introduction to establish the high-level significance and transformative potential of the survey\\'s topic. It argues that human-aware AI can accelerate science by augmenting researchers\\' capabilities, providing a foundational conceptual motivation for the development of Deep Research systems.\\\\n\\\\nJamshid Sourati and James Evans. 2023. Accelerating science with human-aware artificial intelligence. arXiv:2306.01495 [cs.AI] [...] Yujia Qin, Shihao Liang, Yining Ye, Kunlun Zhu, Lan Yan, Yaxi Lu, Yankai Lin, Xin Cong, Xiangru Tang, Bill Qian, Sihan Zhao, Lauren Hong, Runchu Tian, Ruobing Xie, Jie Zhou, Mark Gerstein, Dahai Li, Zhiyuan Liu, and Maosong Sun. 2023. ToolLLM: Facilitating Large Language Models to Master 16000+ Real-world APIs. arXiv:2307.16789 [cs.AI] \\\\n\\\\nHumanity’s Last Exam\", \"score\": 0.838376}, {\"title\": \"A Comprehensive Survey on Deep Clustering - ACM Digital Library\", \"url\": \"https://dl.acm.org/doi/10.1145/3689036\", \"content\": \"You can change or withdraw your consent from the Cookie Declaration on our website at any time by visiting the Cookie Declaration page. If contacting us regarding your consent, please state your consent ID and date from that page.\\\\n\\\\nskip to main content\\\\n\\\\n# A Comprehensive Survey on Deep Clustering: Taxonomy, Challenges, and Future Directions\\\\n\\\\nAuthors: Sheng Zhou\\\\n\\\\nSheng Zhou\\\\n\\\\nZhejiang University, Hangzhou, China\\\\n\\\\nView Profile\\\\n\\\\n, Hongjia Xu\\\\n\\\\nHongjia Xu\\\\n\\\\nZhejiang University, Hangzhou, China [...] Wenwu Zhu\\\\n\\\\nTsinghua University, Beijing, China\\\\n\\\\nView Profile\\\\n\\\\n, Martin Ester\\\\n\\\\nMartin Ester\\\\n\\\\nSimon Fraser University, Burnaby, Canada\\\\n\\\\nView Profile\\\\n\\\\n (Less)Authors Info & Claims\\\\n\\\\nACM Computing Surveys, Volume 57, Issue 3\\\\n\\\\nArticle No.: 69, Pages 1 - 38\\\\n\\\\nPublished: 11 November 2024 Publication History\\\\n\\\\nMetrics\\\\n\\\\nTotal Citations23Total Downloads3,013\\\\n\\\\nLast 12 Months3,013\\\\n\\\\nLast 6 weeks205\\\\n\\\\nGet Access\\\\n\\\\n## Abstract [...] View Profile\\\\n\\\\n, Zhuonan Zheng\\\\n\\\\nZhuonan Zheng\\\\n\\\\nZhejiang University, Hangzhou, China\\\\n\\\\nView Profile\\\\n\\\\n, Jiawei Chen\\\\n\\\\nJiawei Chen\\\\n\\\\nZhejiang University, Hangzhou, China\\\\n\\\\nView Profile\\\\n\\\\n, + 6, Zhao Li\\\\n\\\\nZhao Li\\\\n\\\\nZhejiang University, Hangzhou, China\\\\n\\\\nView Profile\\\\n\\\\n, Jiajun Bu\\\\n\\\\nJiajun Bu\\\\n\\\\nZhejiang University, Hangzhou, China\\\\n\\\\nView Profile\\\\n\\\\n, + 4, Jia Wu\\\\n\\\\nJia Wu\\\\n\\\\nMacquarie University, Sydney, Australia\\\\n\\\\nView Profile\\\\n\\\\n, Xin Wang\\\\n\\\\nXin Wang\\\\n\\\\nTsinghua University, Beijing, China\\\\n\\\\nView Profile\\\\n\\\\n, Wenwu Zhu\", \"score\": 0.7166357}, {\"title\": \"A comprehensive survey of deep learning research on medical ...\", \"url\": \"https://pubmed.ncbi.nlm.nih.gov/36462229/\", \"content\": \"PMID: 36462229\\\\n    DOI: 10.1016/j.clinimag.2022.11.003\\\\n\\\\n Item in Clipboard \\\\n\\\\nReview\\\\n\\\\nA comprehensive survey of deep learning research on medical image analysis with focus on transfer learning\\\\n\\\\nSema Atasever et al. Clin Imaging.2023 Feb.\\\\n\\\\nShow details\\\\n\\\\nDisplay options\\\\n\\\\n Display options \\\\n\\\\n Format \\\\n\\\\n Clin Imaging \\\\n\\\\nActions\\\\n\\\\n   Search in PubMed\\\\n   Search in NLM Catalog\\\\n   Add to Search\\\\n\\\\n. 2023 Feb:94:18-41.\\\\n\\\\n doi: 10.1016/j.clinimag.2022.11.003.  Epub 2022 Nov 12. \\\\n\\\\n### Authors [...] A comprehensive survey of deep learning research on medical image analysis with focus on transfer learning\\\\n\\\\nSema Atasever1,Nuh Azginoglu2,Duygu Sinanc Terzi3,Ramazan Terzi4\\\\n\\\\n Affiliations  Expand \\\\n\\\\n### Affiliations [...] 4 Computer Engineering Department, Amasya University, Amasya, Turkey. Electronic address: ramazan.terzi@amasya.edu.tr.\", \"score\": 0.71425}, {\"title\": \"a-comprehensive-survey-of-deep-research-systems-methodologies ...\", \"url\": \"https://warwick.ac.uk/fac/cross_fac/eduport/edufund/projects/yang/projects/a-comprehensive-survey-of-deep-research-systems-methodologies-and-applications/\", \"content\": \"### Project Team\\\\n\\\\n#### Renjun Xu\\\\n\\\\nResearcher\\\\n\\\\n#### Jingwen Peng\\\\n\\\\nResearcher\\\\n\\\\n### Contact Information\\\\n\\\\nFor information about the paper, please contact the authors.\\\\n\\\\nAuthors: Renjun Xu, Jingwen Peng\\\\n\\\\nSource Publication: View Original PaperLink opens in a new window\\\\n\\\\nProject Contact: Dr. Jianhua Yang\\\\n\\\\nLLM Model Version: gpt-4o-mini-2024-07-18\\\\n\\\\nAnalysis Provider: Openai\\\\n\\\\n← Back to Projects\", \"score\": 0.7125728}]', name='tavily_search_results_json', id='fe76da4a-1f31-4cf2-b3a3-42ebe32e1b74', tool_call_id='call_7bOhd1ESeii5rLo2Wa1LFJ1H', artifact={'query': 'author of A Comprehensive Survey of Deep Research', 'follow_up_questions': None, 'answer': None, 'images': [], 'results': [{'url': 'https://arxiv.org/abs/2506.12594', 'title': '[2506.12594] A Comprehensive Survey of Deep Research - arXiv', 'content': 'We gratefully acknowledge support from the Simons Foundation, member institutions, and all contributors. Donate\\n\\n> cs > arXiv:2506.12594\\n\\n# Computer Science > Artificial Intelligence\\n\\narXiv:2506.12594 (cs)\\n\\n[Submitted on 14 Jun 2025]\\n\\n# Title:A Comprehensive Survey of Deep Research: Systems, Methodologies, and Applications\\n\\nAuthors:Renjun Xu, Jingwen Peng [...] View a PDF of the paper titled A Comprehensive Survey of Deep Research: Systems, Methodologies, and Applications, by Renjun Xu and 1 other authors [...] View a PDF of the paper titled A Comprehensive Survey of Deep Research: Systems, Methodologies, and Applications, by Renjun Xu and 1 other authors\\n\\n View PDF\\n HTML (experimental)\\n TeX Source\\n Other Formats\\n\\nview license\\n\\nCurrent browse context:\\n\\ncs.AI\\n\\n< prev\")    |    next >\")\\n\\nnew  |  recent  | 2025-06\\n\\nChange to browse by:\\n\\ncs cs.MA\\n\\n### References & Citations\\n\\n NASA ADS\\n Google Scholar\\n Semantic Scholar\\n\\na export BibTeX citation Loading...\\n\\n## BibTeX formatted citation\\n\\n×', 'score': 0.90289277, 'raw_content': None}, {'url': 'https://www.alphaxiv.org/overview/2506.12594', 'title': 'A Comprehensive Survey of Deep Research: Systems ... - alphaXiv', 'content': \"This comprehensive survey by Renjun Xu and Jingwen Peng from Zhejiang University addresses the rapidly emerging field of Deep Research systems—AI-powered applications that integrate large language models, advanced information retrieval, and autonomous reasoning to automate complex research workflows. The paper establishes the first systematic framework for understanding this domain, which has evolved dramatically since 2023, encompassing over 80 commercial and open-source implementations. [...] This paper is cited in the introduction to establish the high-level significance and transformative potential of the survey's topic. It argues that human-aware AI can accelerate science by augmenting researchers' capabilities, providing a foundational conceptual motivation for the development of Deep Research systems.\\n\\nJamshid Sourati and James Evans. 2023. Accelerating science with human-aware artificial intelligence. arXiv:2306.01495 [cs.AI] [...] Yujia Qin, Shihao Liang, Yining Ye, Kunlun Zhu, Lan Yan, Yaxi Lu, Yankai Lin, Xin Cong, Xiangru Tang, Bill Qian, Sihan Zhao, Lauren Hong, Runchu Tian, Ruobing Xie, Jie Zhou, Mark Gerstein, Dahai Li, Zhiyuan Liu, and Maosong Sun. 2023. ToolLLM: Facilitating Large Language Models to Master 16000+ Real-world APIs. arXiv:2307.16789 [cs.AI] \\n\\nHumanity’s Last Exam\", 'score': 0.838376, 'raw_content': None}, {'url': 'https://dl.acm.org/doi/10.1145/3689036', 'title': 'A Comprehensive Survey on Deep Clustering - ACM Digital Library', 'content': 'You can change or withdraw your consent from the Cookie Declaration on our website at any time by visiting the Cookie Declaration page. If contacting us regarding your consent, please state your consent ID and date from that page.\\n\\nskip to main content\\n\\n# A Comprehensive Survey on Deep Clustering: Taxonomy, Challenges, and Future Directions\\n\\nAuthors: Sheng Zhou\\n\\nSheng Zhou\\n\\nZhejiang University, Hangzhou, China\\n\\nView Profile\\n\\n, Hongjia Xu\\n\\nHongjia Xu\\n\\nZhejiang University, Hangzhou, China [...] Wenwu Zhu\\n\\nTsinghua University, Beijing, China\\n\\nView Profile\\n\\n, Martin Ester\\n\\nMartin Ester\\n\\nSimon Fraser University, Burnaby, Canada\\n\\nView Profile\\n\\n (Less)Authors Info & Claims\\n\\nACM Computing Surveys, Volume 57, Issue 3\\n\\nArticle No.: 69, Pages 1 - 38\\n\\nPublished: 11 November 2024 Publication History\\n\\nMetrics\\n\\nTotal Citations23Total Downloads3,013\\n\\nLast 12 Months3,013\\n\\nLast 6 weeks205\\n\\nGet Access\\n\\n## Abstract [...] View Profile\\n\\n, Zhuonan Zheng\\n\\nZhuonan Zheng\\n\\nZhejiang University, Hangzhou, China\\n\\nView Profile\\n\\n, Jiawei Chen\\n\\nJiawei Chen\\n\\nZhejiang University, Hangzhou, China\\n\\nView Profile\\n\\n, + 6, Zhao Li\\n\\nZhao Li\\n\\nZhejiang University, Hangzhou, China\\n\\nView Profile\\n\\n, Jiajun Bu\\n\\nJiajun Bu\\n\\nZhejiang University, Hangzhou, China\\n\\nView Profile\\n\\n, + 4, Jia Wu\\n\\nJia Wu\\n\\nMacquarie University, Sydney, Australia\\n\\nView Profile\\n\\n, Xin Wang\\n\\nXin Wang\\n\\nTsinghua University, Beijing, China\\n\\nView Profile\\n\\n, Wenwu Zhu', 'score': 0.7166357, 'raw_content': None}, {'url': 'https://pubmed.ncbi.nlm.nih.gov/36462229/', 'title': 'A comprehensive survey of deep learning research on medical ...', 'content': 'PMID: 36462229\\n    DOI: 10.1016/j.clinimag.2022.11.003\\n\\n Item in Clipboard \\n\\nReview\\n\\nA comprehensive survey of deep learning research on medical image analysis with focus on transfer learning\\n\\nSema Atasever et al. Clin Imaging.2023 Feb.\\n\\nShow details\\n\\nDisplay options\\n\\n Display options \\n\\n Format \\n\\n Clin Imaging \\n\\nActions\\n\\n   Search in PubMed\\n   Search in NLM Catalog\\n   Add to Search\\n\\n. 2023 Feb:94:18-41.\\n\\n doi: 10.1016/j.clinimag.2022.11.003.  Epub 2022 Nov 12. \\n\\n### Authors [...] A comprehensive survey of deep learning research on medical image analysis with focus on transfer learning\\n\\nSema Atasever1,Nuh Azginoglu2,Duygu Sinanc Terzi3,Ramazan Terzi4\\n\\n Affiliations  Expand \\n\\n### Affiliations [...] 4 Computer Engineering Department, Amasya University, Amasya, Turkey. Electronic address: ramazan.terzi@amasya.edu.tr.', 'score': 0.71425, 'raw_content': None}, {'url': 'https://warwick.ac.uk/fac/cross_fac/eduport/edufund/projects/yang/projects/a-comprehensive-survey-of-deep-research-systems-methodologies-and-applications/', 'title': 'a-comprehensive-survey-of-deep-research-systems-methodologies ...', 'content': '### Project Team\\n\\n#### Renjun Xu\\n\\nResearcher\\n\\n#### Jingwen Peng\\n\\nResearcher\\n\\n### Contact Information\\n\\nFor information about the paper, please contact the authors.\\n\\nAuthors: Renjun Xu, Jingwen Peng\\n\\nSource Publication: View Original PaperLink opens in a new window\\n\\nProject Contact: Dr. Jianhua Yang\\n\\nLLM Model Version: gpt-4o-mini-2024-07-18\\n\\nAnalysis Provider: Openai\\n\\n← Back to Projects', 'score': 0.7125728, 'raw_content': None}], 'response_time': 0.91, 'request_id': 'b5c99d5e-5352-440b-9e9f-437a791fe60b'}), AIMessage(content='The research paper titled \"A Comprehensive Survey of Deep Research: Systems, Methodologies, and Applications\" was authored by Renjun Xu and Jingwen Peng. \\n\\nI will now proceed to find out where each of these authors currently work.', additional_kwargs={'tool_calls': [{'id': 'call_ebgSVbPVt51SRfT9FbSpLDWW', 'function': {'arguments': '{\"query\": \"Renjun Xu Zhejiang University\"}', 'name': 'tavily_search_results_json'}, 'type': 'function'}, {'id': 'call_s4Zf7SSnS4eTNxtfsRcO1IZK', 'function': {'arguments': '{\"query\": \"Jingwen Peng Zhejiang University\"}', 'name': 'tavily_search_results_json'}, 'type': 'function'}], 'refusal': None}, response_metadata={'token_usage': {'completion_tokens': 109, 'prompt_tokens': 2645, 'total_tokens': 2754, 'completion_tokens_details': {'accepted_prediction_tokens': 0, 'audio_tokens': 0, 'reasoning_tokens': 0, 'rejected_prediction_tokens': 0}, 'prompt_tokens_details': {'audio_tokens': 0, 'cached_tokens': 0}}, 'model_name': 'gpt-4.1-nano-2025-04-14', 'system_fingerprint': 'fp_7c233bf9d1', 'id': 'chatcmpl-CLd2IRGoclOoVVkzAlNnHXdVGZ1T5', 'service_tier': 'default', 'finish_reason': 'tool_calls', 'logprobs': None}, id='run--e00cbd0e-0807-4b3f-974a-719407ca5294-0', tool_calls=[{'name': 'tavily_search_results_json', 'args': {'query': 'Renjun Xu Zhejiang University'}, 'id': 'call_ebgSVbPVt51SRfT9FbSpLDWW', 'type': 'tool_call'}, {'name': 'tavily_search_results_json', 'args': {'query': 'Jingwen Peng Zhejiang University'}, 'id': 'call_s4Zf7SSnS4eTNxtfsRcO1IZK', 'type': 'tool_call'}], usage_metadata={'input_tokens': 2645, 'output_tokens': 109, 'total_tokens': 2754, 'input_token_details': {'audio': 0, 'cache_read': 0}, 'output_token_details': {'audio': 0, 'reasoning': 0}}), ToolMessage(content='[{\"title\": \"Renjun Xu - Researcher, Zhejiang University\", \"url\": \"https://openreview.net/profile?id=~Renjun_Xu1\", \"content\": \"# Renjun Xu\\\\n\\\\n### Principal Researcher, Zhejiang University\\\\n\\\\n Joined September 2021\\\\n\\\\n#### Names\\\\n\\\\nRenjun Xu (Preferred)\\\\n\\\\n Suggest Name\\\\n\\\\n#### Emails\\\\n\\\\n\\\\\\\\\\\\\\\\\\\\\\\\\\\\\\\\@zju.edu.cn (Confirmed)\\\\n\\\\n Suggest Email\\\\n\\\\n#### Personal Links\\\\n\\\\nHomepage\\\\n\\\\nDBLP\\\\n\\\\nORCID\\\\n\\\\nSemantic Scholar\\\\n\\\\n Suggest URL\\\\n\\\\n#### Career & Education History\\\\n\\\\nPrincipal Researcher\\\\n\\\\nZhejiang University(zju.edu.cn)\\\\n\\\\n2018 – Present\\\\n\\\\n Suggest Position\\\\n\\\\n#### Advisors, Relations & Conflicts\\\\n\\\\nNo relations added\\\\n\\\\n Suggest Relation\\\\n\\\\n#### Expertise [...] equivariant neural network, domain adaptation, domain generalization, molecular, physics, contrastive learning, symmetry, crystal, phase transition\\\\n\\\\nPresent\\\\n\\\\n Suggest Expertise\", \"score\": 0.7992077}, {\"title\": \"Renjun Xu | IEEE Xplore Author Details\", \"url\": \"https://ieeexplore.ieee.org/author/37089181301\", \"content\": \"Affiliations: [Center for Data Science, Zhejiang University, Hangzhou, China]. Author Bio: Renjun Xu received the PhD degree from UC Davis, ZJU100 Young\", \"score\": 0.725824}, {\"title\": \"zhuan@zju.edu.cn\", \"url\": \"https://person.zju.edu.cn/en/0094094\", \"content\": \"XU ZHUAN Ph.D. \\\\n\\\\nProfessor\\\\n| Doctoral supervisor\\\\n\\\\nSchool Of Physics\\\\n\\\\n 0571 87953255\\\\n zhuan@zju.edu.cn\\\\n + Condensed Matter Physics\\\\n\\\\n Biography\\\\n Courses\\\\n Publications\\\\n\\\\n正在加载中，请稍后... [...] 中文\\\\n|\\\\nEnglish\\\\n\\\\nWelcome !\\u2003\\\\n\\\\n Main\\\\n Logout)\\\\n\\\\nLogin\\\\n\\\\n### Related People\\\\n\\\\nAnother batch\\\\n\\\\n ##### ZHENG YI\\\\n\\\\n  School Of Physics\\\\n ##### Liu, Yang\\\\n\\\\n  School Of Physics\\\\n ##### CHENSHUIQIAO\\\\n\\\\n  School Of Physics\\\\n ##### Fang Minghu\\\\n\\\\n  School Of Physics\\\\n ##### ZHU SHIYAO\\\\n\\\\n  School Of Physics\\\\n ##### WANGHUA\\\\n\\\\n  School Of Physics\\\\n ##### SONGYU\\\\n\\\\n  School Of Physics\\\\n ##### Zhentao Wang\\\\n\\\\n  School Of Physics\\\\n ##### Jingyuan LI\\\\n\\\\n  School Of Physics\\\\n ##### LVLIHUA\\\\n\\\\n  School Of Physics\\\\n\\\\n2023-06-09\\\\n\\\\n:5892\", \"score\": 0.22387761}, {\"title\": \"Applied theory of planned behavior to explore associated ...\", \"url\": \"https://pubmed.ncbi.nlm.nih.gov/40011414/\", \"content\": \"Among the 1350 eligible participants, ultimately 964 of them submitted valid questionnaires. According to the leisure time index (LSI) scores, 59.34% of Chinese CCS reached the recommendation level of moderate-vigorous physical activity (MVPA) (LSI ≥ 24). Attending school, diagnosis, time since discharge, behavioral intention, and self-efficacy were associated with MVPA levels in CCS. Path analysis showed that intention and self-efficacy exerted a direct effect on CCS\\' PA, whereas the direct [...] ### Add to Collections\\\\n\\\\n### Add to My Bibliography\\\\n\\\\n## Your saved search\\\\n\\\\n## Create a file for external citation management software\\\\n\\\\n## Your RSS Feed\\\\n\\\\n### Full text links\\\\n\\\\nSpringer full text link\\\\n\\\\n### Actions\\\\n\\\\n### Page navigation\\\\n\\\\n# Applied theory of planned behavior to explore associated factor of physical activity level among Chinese childhood cancer survivors\\\\n\\\\n### Affiliations [...] This study highlights the critical need to address low physical activity levels among childhood cancer survivors (CCS), as insufficient engagement in moderate-vigorous physical activity (MVPA) may hinder their recovery and longterm health outcomes. The findings underscore the pivotal role of self-efficacy in promoting MVPA participation, with both direct and indirect effects on activity behaviors. Interventions targeting CCS should prioritize strategies to enhance self-efficacy-such as\", \"score\": 0.10421286}, {\"title\": \"Juntao Jiang - OpenReview\", \"url\": \"https://openreview.net/profile?id=~Juntao_Jiang1\", \"content\": \"# Juntao Jiang\\\\n\\\\n### PhD student, College of Control Science and Engineering, Zhejiang University\\\\n\\\\n Joined July 2022\\\\n\\\\n#### Names\\\\n\\\\nJuntao Jiang (Preferred)\\\\n\\\\n Suggest Name\\\\n\\\\n#### Emails\\\\n\\\\n\\\\\\\\\\\\\\\\\\\\\\\\\\\\\\\\@nyu.edu (Confirmed)\\\\n\\\\n, \\\\n\\\\n\\\\\\\\\\\\\\\\\\\\\\\\\\\\\\\\@zju.edu.cn (Confirmed)\\\\n\\\\n Suggest Email\\\\n\\\\n#### Personal Links\\\\n\\\\nORCID\\\\n\\\\n Suggest URL\\\\n\\\\n#### Career & Education History\\\\n\\\\nPhD student\\\\n\\\\nCollege of Control Science and Engineering, Zhejiang University (zju.edu.cn)\\\\n\\\\n2023 – Present\\\\n\\\\nMS student\\\\n\\\\nNew York University(nyu.edu)\\\\n\\\\n2019 – 2021 [...] Suggest Position\\\\n\\\\n#### Advisors, Relations & Conflicts\\\\n\\\\nPhD Advisor\\\\n\\\\nYong Liu\\\\n\\\\n2023 – Present\\\\n\\\\n Suggest Relation\\\\n\\\\n#### Expertise\\\\n\\\\nMedical Image Analysis\\\\n\\\\n2021 – Present\\\\n\\\\nComputer Vision\\\\n\\\\n2021 – Present\\\\n\\\\n Suggest Expertise\", \"score\": 0.074722916}]', name='tavily_search_results_json', id='8d1f5e2c-bacf-4fbe-92d2-3a29aa1acacc', tool_call_id='call_ebgSVbPVt51SRfT9FbSpLDWW', artifact={'query': 'Renjun Xu Zhejiang University', 'follow_up_questions': None, 'answer': None, 'images': [], 'results': [{'url': 'https://openreview.net/profile?id=~Renjun_Xu1', 'title': 'Renjun Xu - Researcher, Zhejiang University', 'content': '# Renjun Xu\\n\\n### Principal Researcher, Zhejiang University\\n\\n Joined September 2021\\n\\n#### Names\\n\\nRenjun Xu (Preferred)\\n\\n Suggest Name\\n\\n#### Emails\\n\\n\\\\\\\\\\\\\\\\@zju.edu.cn (Confirmed)\\n\\n Suggest Email\\n\\n#### Personal Links\\n\\nHomepage\\n\\nDBLP\\n\\nORCID\\n\\nSemantic Scholar\\n\\n Suggest URL\\n\\n#### Career & Education History\\n\\nPrincipal Researcher\\n\\nZhejiang University(zju.edu.cn)\\n\\n2018 – Present\\n\\n Suggest Position\\n\\n#### Advisors, Relations & Conflicts\\n\\nNo relations added\\n\\n Suggest Relation\\n\\n#### Expertise [...] equivariant neural network, domain adaptation, domain generalization, molecular, physics, contrastive learning, symmetry, crystal, phase transition\\n\\nPresent\\n\\n Suggest Expertise', 'score': 0.7992077, 'raw_content': None}, {'url': 'https://ieeexplore.ieee.org/author/37089181301', 'title': 'Renjun Xu | IEEE Xplore Author Details', 'content': 'Affiliations: [Center for Data Science, Zhejiang University, Hangzhou, China]. Author Bio: Renjun Xu received the PhD degree from UC Davis, ZJU100 Young', 'score': 0.725824, 'raw_content': None}, {'url': 'https://person.zju.edu.cn/en/0094094', 'title': 'zhuan@zju.edu.cn', 'content': 'XU ZHUAN Ph.D. \\n\\nProfessor\\n| Doctoral supervisor\\n\\nSchool Of Physics\\n\\n 0571 87953255\\n zhuan@zju.edu.cn\\n + Condensed Matter Physics\\n\\n Biography\\n Courses\\n Publications\\n\\n正在加载中，请稍后... [...] 中文\\n|\\nEnglish\\n\\nWelcome !\\u2003\\n\\n Main\\n Logout)\\n\\nLogin\\n\\n### Related People\\n\\nAnother batch\\n\\n ##### ZHENG YI\\n\\n  School Of Physics\\n ##### Liu, Yang\\n\\n  School Of Physics\\n ##### CHENSHUIQIAO\\n\\n  School Of Physics\\n ##### Fang Minghu\\n\\n  School Of Physics\\n ##### ZHU SHIYAO\\n\\n  School Of Physics\\n ##### WANGHUA\\n\\n  School Of Physics\\n ##### SONGYU\\n\\n  School Of Physics\\n ##### Zhentao Wang\\n\\n  School Of Physics\\n ##### Jingyuan LI\\n\\n  School Of Physics\\n ##### LVLIHUA\\n\\n  School Of Physics\\n\\n2023-06-09\\n\\n:5892', 'score': 0.22387761, 'raw_content': None}, {'url': 'https://pubmed.ncbi.nlm.nih.gov/40011414/', 'title': 'Applied theory of planned behavior to explore associated ...', 'content': \"Among the 1350 eligible participants, ultimately 964 of them submitted valid questionnaires. According to the leisure time index (LSI) scores, 59.34% of Chinese CCS reached the recommendation level of moderate-vigorous physical activity (MVPA) (LSI ≥ 24). Attending school, diagnosis, time since discharge, behavioral intention, and self-efficacy were associated with MVPA levels in CCS. Path analysis showed that intention and self-efficacy exerted a direct effect on CCS' PA, whereas the direct [...] ### Add to Collections\\n\\n### Add to My Bibliography\\n\\n## Your saved search\\n\\n## Create a file for external citation management software\\n\\n## Your RSS Feed\\n\\n### Full text links\\n\\nSpringer full text link\\n\\n### Actions\\n\\n### Page navigation\\n\\n# Applied theory of planned behavior to explore associated factor of physical activity level among Chinese childhood cancer survivors\\n\\n### Affiliations [...] This study highlights the critical need to address low physical activity levels among childhood cancer survivors (CCS), as insufficient engagement in moderate-vigorous physical activity (MVPA) may hinder their recovery and longterm health outcomes. The findings underscore the pivotal role of self-efficacy in promoting MVPA participation, with both direct and indirect effects on activity behaviors. Interventions targeting CCS should prioritize strategies to enhance self-efficacy-such as\", 'score': 0.10421286, 'raw_content': None}, {'url': 'https://openreview.net/profile?id=~Juntao_Jiang1', 'title': 'Juntao Jiang - OpenReview', 'content': '# Juntao Jiang\\n\\n### PhD student, College of Control Science and Engineering, Zhejiang University\\n\\n Joined July 2022\\n\\n#### Names\\n\\nJuntao Jiang (Preferred)\\n\\n Suggest Name\\n\\n#### Emails\\n\\n\\\\\\\\\\\\\\\\@nyu.edu (Confirmed)\\n\\n, \\n\\n\\\\\\\\\\\\\\\\@zju.edu.cn (Confirmed)\\n\\n Suggest Email\\n\\n#### Personal Links\\n\\nORCID\\n\\n Suggest URL\\n\\n#### Career & Education History\\n\\nPhD student\\n\\nCollege of Control Science and Engineering, Zhejiang University (zju.edu.cn)\\n\\n2023 – Present\\n\\nMS student\\n\\nNew York University(nyu.edu)\\n\\n2019 – 2021 [...] Suggest Position\\n\\n#### Advisors, Relations & Conflicts\\n\\nPhD Advisor\\n\\nYong Liu\\n\\n2023 – Present\\n\\n Suggest Relation\\n\\n#### Expertise\\n\\nMedical Image Analysis\\n\\n2021 – Present\\n\\nComputer Vision\\n\\n2021 – Present\\n\\n Suggest Expertise', 'score': 0.074722916, 'raw_content': None}], 'response_time': 3.78, 'request_id': 'fb745c68-5d6b-4443-b61e-378efc249497'}), ToolMessage(content='[{\"title\": \"Jingyu PENG - Zhejiang University, Hangzhou - ResearchGate\", \"url\": \"https://www.researchgate.net/profile/Jingyu-Peng-6\", \"content\": \"Jingyu Peng. Verified. Jingyu verified their affiliation via an institutional email. Learn more. Verified. Jingyu verified their affiliation via an\", \"score\": 0.5065188}, {\"title\": \"[2506.12594] A Comprehensive Survey of Deep Research - arXiv\", \"url\": \"https://arxiv.org/abs/2506.12594\", \"content\": \"We gratefully acknowledge support from the Simons Foundation, member institutions, and all contributors. Donate\\\\n\\\\n> cs > arXiv:2506.12594\\\\n\\\\n# Computer Science > Artificial Intelligence\\\\n\\\\narXiv:2506.12594 (cs)\\\\n\\\\n[Submitted on 14 Jun 2025]\\\\n\\\\n# Title:A Comprehensive Survey of Deep Research: Systems, Methodologies, and Applications\\\\n\\\\nAuthors:Renjun Xu, Jingwen Peng [...] View a PDF of the paper titled A Comprehensive Survey of Deep Research: Systems, Methodologies, and Applications, by Renjun Xu and 1 other authors\\\\n\\\\n View PDF\\\\n HTML (experimental)\\\\n TeX Source\\\\n Other Formats\\\\n\\\\nview license\\\\n\\\\nCurrent browse context:\\\\n\\\\ncs.AI\\\\n\\\\n< prev\\\\\")    |    next >\\\\\")\\\\n\\\\nnew  |  recent  | 2025-06\\\\n\\\\nChange to browse by:\\\\n\\\\ncs cs.MA\\\\n\\\\n### References & Citations\\\\n\\\\n NASA ADS\\\\n Google Scholar\\\\n Semantic Scholar\\\\n\\\\na export BibTeX citation Loading...\\\\n\\\\n## BibTeX formatted citation\\\\n\\\\n× [...] |  |  |\\\\n --- |\\\\n| Comments: | 95 pages, 11 figures |\\\\n| Subjects: | Artificial Intelligence (cs.AI); Multiagent Systems (cs.MA) |\\\\n| ACM classes: | I.2.8 |\\\\n| Cite as: | arXiv:2506.12594 [cs.AI] |\\\\n|  | (or  arXiv:2506.12594v1 [cs.AI] for this version) |\\\\n|  |  arXiv-issued DOI via DataCite |\\\\n\\\\n## Submission history\\\\n\\\\nFrom: Renjun Xu [view email] [v1] Sat, 14 Jun 2025 18:19:05 UTC (652 KB)\\\\n\\\\nFull-text links:\\\\n\\\\n## Access Paper:\", \"score\": 0.48030865}, {\"title\": \"Sida Peng\", \"url\": \"https://pengsida.net/\", \"content\": \"\\\\\\\\[2025-04\\\\\\\\] Received the 2025 China3DV Outstanding Young Researcher Award.\\\\n    \\\\n   \\\\\\\\[2025-04\\\\\\\\] One paper selected as CVPR 2025 Oral.\\\\n    \\\\n   \\\\\\\\[2025-02\\\\\\\\] Six papers accepted to CVPR 2025.\\\\n    \\\\n   \\\\\\\\[2025-01\\\\\\\\] Three papers accepted to ICLR 2025.\\\\n    \\\\n   \\\\\\\\[2024-12\\\\\\\\] Received the 2024 CCF Outstanding Doctoral Dissertation Award.\\\\n    \\\\n   \\\\\\\\[2024-11\\\\\\\\] Received the Outstanding Doctoral Dissertation Award of Zhejiang Province. [...] \\\\\\\\[2023-08\\\\\\\\] Invited talk at Shanghai Jiao Tong University on learning research (slides).\\\\n    \\\\n   \\\\\\\\[2023-08\\\\\\\\] One paper accepted to SIGGRAPH Asia 2023.\\\\n    \\\\n   \\\\\\\\[2023-07\\\\\\\\] Joined the School of Software Technology at Zhejiang University as an assistant professor.\\\\n    \\\\n   \\\\\\\\[2023-07\\\\\\\\] Three papers accepted to ICCV 2023.\\\\n    \\\\n   \\\\\\\\[2023-06\\\\\\\\] Honored to be selected as the 2023 WAIC Rising Star. [...] I am an assistant professor (ZJU-100 Young Professor) at Zhejiang University. I received my Ph.D. degree from College of Computer Science and Technology at Zhejiang University in 2023, supervised by Prof. Xiaowei Zhou and Prof. Hujun Bao, and obtained my bachelor degree in Information Engineering from Zhejiang University in 2018. I received the 2024 CCF Outstanding Doctoral Dissertation Award and was selected as the 2022 Apple Scholar in AI/ML. I have been maintaining a handbook on learning\", \"score\": 0.36080483}, {\"title\": \"NDSS Symposium 2025 Accepted Papers\", \"url\": \"https://www.ndss-symposium.org/ndss2025/accepted-papers/\", \"content\": \"More Details\\\\n\\\\n### Secure IP Address Allocation at Cloud Scale\\\\n\\\\nEric Pauley (University of Wisconsin–Madison), Kyle Domico (University of Wisconsin–Madison), Blaine Hoak (University of...\\\\n\\\\nMore Details\\\\n\\\\n### Secure Transformer Inference Made Non-interactive\\\\n\\\\nJiawen Zhang (Zhejiang University), Xinpeng Yang (Zhejiang University), Lipeng He (University of Waterloo), Kejia...\\\\n\\\\nMore Details\\\\n\\\\n### Silence False Alarms: Identifying Anti-Reentrancy Patterns on Ethereum... [...] Jing Shang (Beijing Jiaotong University), Jian Wang (Beijing Jiaotong University), Kailun Wang (Beijing Jiaotong...\\\\n\\\\nMore Details\\\\n\\\\n### Density Boosts Everything: A One-stop Strategy for Improving...\\\\n\\\\nJianwen Tian (Academy of Military Sciences), Wei Kong (Zhejiang Sci-Tech University), Debin Gao (Singapore...\\\\n\\\\nMore Details\\\\n\\\\n### Detecting IMSI-Catchers by Characterizing Identity Exposing Messages in... [...] More Details\\\\n\\\\n### Delay-allowed Differentially Private Data Stream Release\\\\n\\\\nXiaochen Li (University of Virginia), Zhan Qin (Zhejiang University), Kui Ren (Zhejiang University), Chen...\\\\n\\\\nMore Details\\\\n\\\\n### Diffence: Fencing Membership Privacy With Diffusion Models\\\\n\\\\nYuefeng Peng (University of Massachusetts Amherst), Ali Naseh (University of Massachusetts Amherst), Amir Houmansadr...\\\\n\\\\nMore Details\\\\n\\\\n### Dissecting Payload-based Transaction Phishing on Ethereum\", \"score\": 0.26754224}, {\"title\": \"Molecular pathogenesis of acetaminophen-induced liver injury and ...\", \"url\": \"https://pubmed.ncbi.nlm.nih.gov/35403383/\", \"content\": \"### Add to Collections\\\\n\\\\n### Add to My Bibliography\\\\n\\\\n## Your saved search\\\\n\\\\n## Create a file for external citation management software\\\\n\\\\n## Your RSS Feed\\\\n\\\\n### Full text links\\\\n\\\\nZhejiang University Press full text link\\\\n\\\\n### Actions\\\\n\\\\n### Page navigation\\\\n\\\\n# Molecular pathogenesis of acetaminophen-induced liver injury and its treatment options\\\\n\\\\n### Affiliations\\\\n\\\\n# Molecular pathogenesis of acetaminophen-induced liver injury and its treatment options\\\\n\\\\n### Authors\\\\n\\\\n### Affiliations\\\\n\\\\n## Abstract [...] Fig. 5. HPCs regenerated under the action of signal mediators and immune cells. Immune cells…\\\\n\\\\n## References\\\\n\\\\n## Publication types\\\\n\\\\n## MeSH terms\\\\n\\\\n## Substances\\\\n\\\\n## Grants and funding\\\\n\\\\n## LinkOut - more resources\\\\n\\\\n### Full Text Sources\\\\n\\\\n### Medical\\\\n\\\\nZhejiang University Press full text link\\\\n\\\\nNCBI Literature Resources\\\\n\\\\nMeSH\\\\nPMC\\\\nBookshelf\\\\nDisclaimer [...] pathogenesis of AILI: hepatocyte necrosis, sterile inflammation, and hepatocyte regeneration. The relevant factors are elucidated and discussed. For instance, N-acetyl-p-benzoquinone imine (NAPQI) protein adducts trigger mitochondrial oxidative/nitrosative stress during hepatocyte necrosis, danger-associated molecular patterns (DAMPs) are released to elicit sterile inflammation, and certain growth factors contribute to liver regeneration. Finally, we describe the current potential treatment\", \"score\": 0.17754011}]', name='tavily_search_results_json', id='50d00eeb-5e9a-496a-b6d1-84407a0d1f53', tool_call_id='call_s4Zf7SSnS4eTNxtfsRcO1IZK', artifact={'query': 'Jingwen Peng Zhejiang University', 'follow_up_questions': None, 'answer': None, 'images': [], 'results': [{'url': 'https://www.researchgate.net/profile/Jingyu-Peng-6', 'title': 'Jingyu PENG - Zhejiang University, Hangzhou - ResearchGate', 'content': 'Jingyu Peng. Verified. Jingyu verified their affiliation via an institutional email. Learn more. Verified. Jingyu verified their affiliation via an', 'score': 0.5065188, 'raw_content': None}, {'url': 'https://arxiv.org/abs/2506.12594', 'title': '[2506.12594] A Comprehensive Survey of Deep Research - arXiv', 'content': 'We gratefully acknowledge support from the Simons Foundation, member institutions, and all contributors. Donate\\n\\n> cs > arXiv:2506.12594\\n\\n# Computer Science > Artificial Intelligence\\n\\narXiv:2506.12594 (cs)\\n\\n[Submitted on 14 Jun 2025]\\n\\n# Title:A Comprehensive Survey of Deep Research: Systems, Methodologies, and Applications\\n\\nAuthors:Renjun Xu, Jingwen Peng [...] View a PDF of the paper titled A Comprehensive Survey of Deep Research: Systems, Methodologies, and Applications, by Renjun Xu and 1 other authors\\n\\n View PDF\\n HTML (experimental)\\n TeX Source\\n Other Formats\\n\\nview license\\n\\nCurrent browse context:\\n\\ncs.AI\\n\\n< prev\")    |    next >\")\\n\\nnew  |  recent  | 2025-06\\n\\nChange to browse by:\\n\\ncs cs.MA\\n\\n### References & Citations\\n\\n NASA ADS\\n Google Scholar\\n Semantic Scholar\\n\\na export BibTeX citation Loading...\\n\\n## BibTeX formatted citation\\n\\n× [...] |  |  |\\n --- |\\n| Comments: | 95 pages, 11 figures |\\n| Subjects: | Artificial Intelligence (cs.AI); Multiagent Systems (cs.MA) |\\n| ACM classes: | I.2.8 |\\n| Cite as: | arXiv:2506.12594 [cs.AI] |\\n|  | (or  arXiv:2506.12594v1 [cs.AI] for this version) |\\n|  |  arXiv-issued DOI via DataCite |\\n\\n## Submission history\\n\\nFrom: Renjun Xu [view email] [v1] Sat, 14 Jun 2025 18:19:05 UTC (652 KB)\\n\\nFull-text links:\\n\\n## Access Paper:', 'score': 0.48030865, 'raw_content': None}, {'url': 'https://pengsida.net/', 'title': 'Sida Peng', 'content': '\\\\[2025-04\\\\] Received the 2025 China3DV Outstanding Young Researcher Award.\\n    \\n   \\\\[2025-04\\\\] One paper selected as CVPR 2025 Oral.\\n    \\n   \\\\[2025-02\\\\] Six papers accepted to CVPR 2025.\\n    \\n   \\\\[2025-01\\\\] Three papers accepted to ICLR 2025.\\n    \\n   \\\\[2024-12\\\\] Received the 2024 CCF Outstanding Doctoral Dissertation Award.\\n    \\n   \\\\[2024-11\\\\] Received the Outstanding Doctoral Dissertation Award of Zhejiang Province. [...] \\\\[2023-08\\\\] Invited talk at Shanghai Jiao Tong University on learning research (slides).\\n    \\n   \\\\[2023-08\\\\] One paper accepted to SIGGRAPH Asia 2023.\\n    \\n   \\\\[2023-07\\\\] Joined the School of Software Technology at Zhejiang University as an assistant professor.\\n    \\n   \\\\[2023-07\\\\] Three papers accepted to ICCV 2023.\\n    \\n   \\\\[2023-06\\\\] Honored to be selected as the 2023 WAIC Rising Star. [...] I am an assistant professor (ZJU-100 Young Professor) at Zhejiang University. I received my Ph.D. degree from College of Computer Science and Technology at Zhejiang University in 2023, supervised by Prof. Xiaowei Zhou and Prof. Hujun Bao, and obtained my bachelor degree in Information Engineering from Zhejiang University in 2018. I received the 2024 CCF Outstanding Doctoral Dissertation Award and was selected as the 2022 Apple Scholar in AI/ML. I have been maintaining a handbook on learning', 'score': 0.36080483, 'raw_content': None}, {'url': 'https://www.ndss-symposium.org/ndss2025/accepted-papers/', 'title': 'NDSS Symposium 2025 Accepted Papers', 'content': 'More Details\\n\\n### Secure IP Address Allocation at Cloud Scale\\n\\nEric Pauley (University of Wisconsin–Madison), Kyle Domico (University of Wisconsin–Madison), Blaine Hoak (University of...\\n\\nMore Details\\n\\n### Secure Transformer Inference Made Non-interactive\\n\\nJiawen Zhang (Zhejiang University), Xinpeng Yang (Zhejiang University), Lipeng He (University of Waterloo), Kejia...\\n\\nMore Details\\n\\n### Silence False Alarms: Identifying Anti-Reentrancy Patterns on Ethereum... [...] Jing Shang (Beijing Jiaotong University), Jian Wang (Beijing Jiaotong University), Kailun Wang (Beijing Jiaotong...\\n\\nMore Details\\n\\n### Density Boosts Everything: A One-stop Strategy for Improving...\\n\\nJianwen Tian (Academy of Military Sciences), Wei Kong (Zhejiang Sci-Tech University), Debin Gao (Singapore...\\n\\nMore Details\\n\\n### Detecting IMSI-Catchers by Characterizing Identity Exposing Messages in... [...] More Details\\n\\n### Delay-allowed Differentially Private Data Stream Release\\n\\nXiaochen Li (University of Virginia), Zhan Qin (Zhejiang University), Kui Ren (Zhejiang University), Chen...\\n\\nMore Details\\n\\n### Diffence: Fencing Membership Privacy With Diffusion Models\\n\\nYuefeng Peng (University of Massachusetts Amherst), Ali Naseh (University of Massachusetts Amherst), Amir Houmansadr...\\n\\nMore Details\\n\\n### Dissecting Payload-based Transaction Phishing on Ethereum', 'score': 0.26754224, 'raw_content': None}, {'url': 'https://pubmed.ncbi.nlm.nih.gov/35403383/', 'title': 'Molecular pathogenesis of acetaminophen-induced liver injury and ...', 'content': '### Add to Collections\\n\\n### Add to My Bibliography\\n\\n## Your saved search\\n\\n## Create a file for external citation management software\\n\\n## Your RSS Feed\\n\\n### Full text links\\n\\nZhejiang University Press full text link\\n\\n### Actions\\n\\n### Page navigation\\n\\n# Molecular pathogenesis of acetaminophen-induced liver injury and its treatment options\\n\\n### Affiliations\\n\\n# Molecular pathogenesis of acetaminophen-induced liver injury and its treatment options\\n\\n### Authors\\n\\n### Affiliations\\n\\n## Abstract [...] Fig. 5. HPCs regenerated under the action of signal mediators and immune cells. Immune cells…\\n\\n## References\\n\\n## Publication types\\n\\n## MeSH terms\\n\\n## Substances\\n\\n## Grants and funding\\n\\n## LinkOut - more resources\\n\\n### Full Text Sources\\n\\n### Medical\\n\\nZhejiang University Press full text link\\n\\nNCBI Literature Resources\\n\\nMeSH\\nPMC\\nBookshelf\\nDisclaimer [...] pathogenesis of AILI: hepatocyte necrosis, sterile inflammation, and hepatocyte regeneration. The relevant factors are elucidated and discussed. For instance, N-acetyl-p-benzoquinone imine (NAPQI) protein adducts trigger mitochondrial oxidative/nitrosative stress during hepatocyte necrosis, danger-associated molecular patterns (DAMPs) are released to elicit sterile inflammation, and certain growth factors contribute to liver regeneration. Finally, we describe the current potential treatment', 'score': 0.17754011, 'raw_content': None}], 'response_time': 2.78, 'request_id': '8c28b5cf-21a0-4717-8358-42f80e8dac7c'}), AIMessage(content=\"Renjun Xu is currently a Principal Researcher at Zhejiang University. Jingwen Peng's current affiliation is not explicitly confirmed in the search results, but given the context, it is likely that Jingwen Peng is also affiliated with Zhejiang University. Would you like me to verify Jingwen Peng's current position further or assist you with anything else?\", additional_kwargs={'refusal': None}, response_metadata={'token_usage': {'completion_tokens': 68, 'prompt_tokens': 5671, 'total_tokens': 5739, 'completion_tokens_details': {'accepted_prediction_tokens': 0, 'audio_tokens': 0, 'reasoning_tokens': 0, 'rejected_prediction_tokens': 0}, 'prompt_tokens_details': {'audio_tokens': 0, 'cached_tokens': 2688}}, 'model_name': 'gpt-4.1-nano-2025-04-14', 'system_fingerprint': 'fp_7c233bf9d1', 'id': 'chatcmpl-CLd2Pru2eu0VwVXNdpUvvzcjgLtvg', 'service_tier': 'default', 'finish_reason': 'stop', 'logprobs': None}, id='run--405f795f-803b-4946-a969-f24f7b900991-0', usage_metadata={'input_tokens': 5671, 'output_tokens': 68, 'total_tokens': 5739, 'input_token_details': {'audio': 0, 'cache_read': 2688}, 'output_token_details': {'audio': 0, 'reasoning': 0}})]}\n",
            "Receiving update from node: 'agent'\n",
            "[AIMessage(content=\"Renjun Xu is currently a Principal Researcher at Zhejiang University. Jingwen Peng's current affiliation is not explicitly confirmed in the search results, but given the context, it is likely that Jingwen Peng is also affiliated with Zhejiang University. Would you like me to verify Jingwen Peng's current position further or assist you with anything else?\", additional_kwargs={'refusal': None}, response_metadata={'token_usage': {'completion_tokens': 68, 'prompt_tokens': 5671, 'total_tokens': 5739, 'completion_tokens_details': {'accepted_prediction_tokens': 0, 'audio_tokens': 0, 'reasoning_tokens': 0, 'rejected_prediction_tokens': 0}, 'prompt_tokens_details': {'audio_tokens': 0, 'cached_tokens': 2688}}, 'model_name': 'gpt-4.1-nano-2025-04-14', 'system_fingerprint': 'fp_7c233bf9d1', 'id': 'chatcmpl-CLd2Pru2eu0VwVXNdpUvvzcjgLtvg', 'service_tier': 'default', 'finish_reason': 'stop', 'logprobs': None}, id='run--405f795f-803b-4946-a969-f24f7b900991-0', usage_metadata={'input_tokens': 5671, 'output_tokens': 68, 'total_tokens': 5739, 'input_token_details': {'audio': 0, 'cache_read': 2688}, 'output_token_details': {'audio': 0, 'reasoning': 0}})]\n",
            "\n",
            "\n",
            "\n"
          ]
        }
      ],
      "source": [
        "inputs = {\"messages\" : [HumanMessage(content=\"Search Arxiv for the A Comprehensive Survey of Deep Research paper, then search each of the authors to find out where they work now using Tavily!\")]}\n",
        "\n",
        "async for chunk in simple_agent_graph.astream(inputs, stream_mode=\"updates\"):\n",
        "    for node, values in chunk.items():\n",
        "        print(f\"Receiving update from node: '{node}'\")\n",
        "        if node == \"action\":\n",
        "          print(f\"Tool Used: {values['messages'][0].name}\")\n",
        "        print(values[\"messages\"])\n",
        "\n",
        "        print(\"\\n\\n\")"
      ]
    },
    {
      "cell_type": "markdown",
      "metadata": {
        "id": "CXzDlZVz1Hnf"
      },
      "source": [
        "#### 🏗️ Activity #2:\n",
        "\n",
        "Please write out the steps the agent took to arrive at the correct answer.\n",
        "\n",
        "Agent is the entry point. It looks at the human message\n",
        "\n",
        "From agent it looks through the conditional node, where we look if tool call exists\n",
        "\n",
        "if it does it goes to the Action node. where the LLM determines to call ArXiv tool instead based on the prompt\n",
        "\n",
        "The response goes back to the agent and it goes to the conditional node again where the flow ends as tool call is not present"
      ]
    },
    {
      "cell_type": "markdown",
      "metadata": {},
      "source": [
        "# 🤝 Breakout Room #2"
      ]
    },
    {
      "cell_type": "markdown",
      "metadata": {
        "id": "v7c8-Uyarh1v"
      },
      "source": [
        "## Part 1: LangSmith Evaluator"
      ]
    },
    {
      "cell_type": "markdown",
      "metadata": {
        "id": "pV3XeFOT1Sar"
      },
      "source": [
        "### Pre-processing for LangSmith"
      ]
    },
    {
      "cell_type": "markdown",
      "metadata": {
        "id": "wruQCuzewUuO"
      },
      "source": [
        "To do a little bit more preprocessing, let's wrap our LangGraph agent in a simple chain."
      ]
    },
    {
      "cell_type": "code",
      "execution_count": 53,
      "metadata": {
        "colab": {
          "base_uri": "https://localhost:8080/",
          "height": 105
        },
        "id": "orYxBZXSxJjZ",
        "outputId": "76be837b-6424-4516-8f63-07fbd8c25bf5"
      },
      "outputs": [
        {
          "name": "stdout",
          "output_type": "stream",
          "text": [
            "In Agent step\n",
            "\n",
            "\n",
            "\n",
            "State\n",
            "\n",
            "\n",
            "{'messages': [HumanMessage(content='What is Deep Research?', additional_kwargs={}, response_metadata={}, id='d7fef70e-93d0-4e08-b0bd-ab40fd6357c8')]}\n",
            "In condition step\n",
            "\n",
            "\n",
            "\n",
            "State\n",
            "\n",
            "\n",
            "{'messages': [HumanMessage(content='What is Deep Research?', additional_kwargs={}, response_metadata={}, id='d7fef70e-93d0-4e08-b0bd-ab40fd6357c8'), AIMessage(content='Deep Research typically refers to an in-depth and comprehensive investigation or analysis into a specific topic, subject, or field. It involves thorough examination of available data, literature, and resources to uncover detailed insights, understand complex issues, and generate well-informed conclusions. Deep Research is often used in academic, scientific, technological, and business contexts to develop a profound understanding of a subject beyond surface-level information. \\n\\nIf you are referring to a specific organization, product, or platform named \"Deep Research,\" please provide more context so I can give a more precise answer.', additional_kwargs={'refusal': None}, response_metadata={'token_usage': {'completion_tokens': 111, 'prompt_tokens': 157, 'total_tokens': 268, 'completion_tokens_details': {'accepted_prediction_tokens': 0, 'audio_tokens': 0, 'reasoning_tokens': 0, 'rejected_prediction_tokens': 0}, 'prompt_tokens_details': {'audio_tokens': 0, 'cached_tokens': 0}}, 'model_name': 'gpt-4.1-nano-2025-04-14', 'system_fingerprint': 'fp_7c233bf9d1', 'id': 'chatcmpl-CLd2qjWImM8YBxSKDjBrLlBcObtXW', 'service_tier': 'default', 'finish_reason': 'stop', 'logprobs': None}, id='run--1c7dcaf6-3cba-42ed-8466-869af4ac677c-0', usage_metadata={'input_tokens': 157, 'output_tokens': 111, 'total_tokens': 268, 'input_token_details': {'audio': 0, 'cache_read': 0}, 'output_token_details': {'audio': 0, 'reasoning': 0}})]}\n"
          ]
        },
        {
          "data": {
            "text/plain": [
              "{'answer': 'Deep Research typically refers to an in-depth and comprehensive investigation or analysis into a specific topic, subject, or field. It involves thorough examination of available data, literature, and resources to uncover detailed insights, understand complex issues, and generate well-informed conclusions. Deep Research is often used in academic, scientific, technological, and business contexts to develop a profound understanding of a subject beyond surface-level information. \\n\\nIf you are referring to a specific organization, product, or platform named \"Deep Research,\" please provide more context so I can give a more precise answer.'}"
            ]
          },
          "execution_count": 53,
          "metadata": {},
          "output_type": "execute_result"
        }
      ],
      "source": [
        "def convert_inputs(input_object):\n",
        "  return {\"messages\" : [HumanMessage(content=input_object[\"text\"])]}\n",
        "\n",
        "def parse_output(input_state):\n",
        "  return {\"answer\" : input_state[\"messages\"][-1].content}\n",
        "\n",
        "agent_chain_with_formatting = convert_inputs | simple_agent_graph | parse_output\n",
        "\n",
        "agent_chain_with_formatting.invoke({\"text\" : \"What is Deep Research?\"})"
      ]
    },
    {
      "cell_type": "markdown",
      "metadata": {
        "id": "f9UkCIqkpyZu"
      },
      "source": [
        "### Task 1: Creating An Evaluation Dataset\n",
        "\n",
        "Just as we saw last week, we'll want to create a dataset to test our Agent's ability to answer questions.\n",
        "\n",
        "In order to do this - we'll want to provide some questions and some answers. Let's look at how we can create such a dataset below.\n",
        "\n",
        "```python\n",
        "questions = [\n",
        "    {\n",
        "        \"inputs\" : {\"text\" : \"Who were the main authors on the 'A Comprehensive Survey of Deep Research: Systems, Methodologies, and Applications' paper?\"},\n",
        "        \"outputs\" : {\"must_mention\" : [\"Peng\", \"Xu\"]}   \n",
        "    },\n",
        "    ...,\n",
        "    {\n",
        "        \"inputs\" : {\"text\" : \"Where do the authors of the 'A Comprehensive Survey of Deep Research: Systems, Methodologies, and Applications' work now?\"},\n",
        "        \"outputs\" : {\"must_mention\" : [\"Zhejiang\", \"Liberty Mutual\"]}\n",
        "    }\n",
        "]\n",
        "```"
      ]
    },
    {
      "cell_type": "markdown",
      "metadata": {
        "id": "VfMXF2KAsQxs"
      },
      "source": [
        "#### 🏗️ Activity #3:\n",
        "\n",
        "Please create a dataset in the above format with at least 5 questions that pertain to the cohort use-case (more information [here](https://www.notion.so/Session-4-RAG-with-LangGraph-OSS-Local-Models-Eval-w-LangSmith-26acd547af3d80838d5beba464d7e701#26acd547af3d81d08809c9c82a462bdd)), or the use-case you're hoping to tackle in your Demo Day project."
      ]
    },
    {
      "cell_type": "code",
      "execution_count": null,
      "metadata": {
        "id": "CbagRuJop83E"
      },
      "outputs": [],
      "source": [
        "questions = [\n",
        "     {\n",
        "        \"inputs\" : {\"text\" : \"How do people use AI in their daily work?\"},\n",
        "        \"outputs\" : {\"must_mention\" : [\"Automation\", \"Productivity\"]}   \n",
        "    },\n",
        "    {\n",
        "        \"inputs\" : {\"text\" : \"What are the most common ways people use AI in their work?\"},\n",
        "        \"outputs\" : {\"must_mention\" : [\"Automation\", \"Insights\",\"Chatbots\"]}\n",
        "    },\n",
        "    {\n",
        "        \"inputs\" : {\"text\" : \"Do people use AI for their personal lives?\"},\n",
        "        \"outputs\" : {\"must_mention\" : [\"Yes\"]}\n",
        "    },\n",
        "    {\n",
        "        \"inputs\" : {\"text\" : \"What concerns or challenges do people have when using AI?\"},\n",
        "        \"outputs\" : {\"must_mention\" : [\"Ethical\", \"Hallucination\"]}\n",
        "    },\n",
        "    {\n",
        "        \"inputs\" : {\"text\" : \"What should I build to add value to the local communities I’m engaged in?\"},\n",
        "        \"outputs\" : {\"must_mention\" : [\"Chatbot\", \"Tutor\"]}\n",
        "    }\n",
        "]"
      ]
    },
    {
      "cell_type": "markdown",
      "metadata": {
        "id": "z7QVFuAmsh7L"
      },
      "source": [
        "Now we can add our dataset to our LangSmith project using the following code which we saw last Thursday!"
      ]
    },
    {
      "cell_type": "code",
      "execution_count": 60,
      "metadata": {
        "id": "RLfrZrgSsn85"
      },
      "outputs": [
        {
          "data": {
            "text/plain": [
              "{'example_ids': ['c3a5d3fb-43d1-4208-80e8-9635766cfdff',\n",
              "  'aab53109-aebe-4b56-a7f4-613e9da5b924',\n",
              "  '929d897d-b47b-45bf-8d83-a31d3cbaf529',\n",
              "  '5cf093c9-1f80-4b0b-a9fb-ab1ff4ac5c7a',\n",
              "  'b530c2f0-8cf8-47fa-a37d-23461ae1b255'],\n",
              " 'count': 5}"
            ]
          },
          "execution_count": 60,
          "metadata": {},
          "output_type": "execute_result"
        }
      ],
      "source": [
        "from langsmith import Client\n",
        "\n",
        "client = Client()\n",
        "\n",
        "dataset_name = f\"Simple Search Agent - Evaluation Dataset - {uuid4().hex[0:8]}\"\n",
        "\n",
        "dataset = client.create_dataset(\n",
        "    dataset_name=dataset_name,\n",
        "    description=\"Questions about the cohort use-case to evaluate the Simple Search Agent.\"\n",
        ")\n",
        "\n",
        "client.create_examples(\n",
        "    dataset_id=dataset.id,\n",
        "    examples=questions\n",
        ")"
      ]
    },
    {
      "cell_type": "markdown",
      "metadata": {
        "id": "-lRTXUrTtP9Y"
      },
      "source": [
        "### Task 2: Adding Evaluators\n",
        "\n",
        "Let's use the OpenEvals library to product an evaluator that we can then pass into LangSmith!\n",
        "\n",
        "> NOTE: Examine the `CORRECTNESS_PROMPT` below!"
      ]
    },
    {
      "cell_type": "code",
      "execution_count": 61,
      "metadata": {},
      "outputs": [
        {
          "name": "stdout",
          "output_type": "stream",
          "text": [
            "You are an expert data labeler evaluating model outputs for correctness. Your task is to assign a score based on the following rubric:\n",
            "\n",
            "<Rubric>\n",
            "  A correct answer:\n",
            "  - Provides accurate and complete information\n",
            "  - Contains no factual errors\n",
            "  - Addresses all parts of the question\n",
            "  - Is logically consistent\n",
            "  - Uses precise and accurate terminology\n",
            "\n",
            "  When scoring, you should penalize:\n",
            "  - Factual errors or inaccuracies\n",
            "  - Incomplete or partial answers\n",
            "  - Misleading or ambiguous statements\n",
            "  - Incorrect terminology\n",
            "  - Logical inconsistencies\n",
            "  - Missing key information\n",
            "</Rubric>\n",
            "\n",
            "<Instructions>\n",
            "  - Carefully read the input and output\n",
            "  - Check for factual accuracy and completeness\n",
            "  - Focus on correctness of information rather than style or verbosity\n",
            "</Instructions>\n",
            "\n",
            "<Reminder>\n",
            "  The goal is to evaluate factual correctness and completeness of the response.\n",
            "</Reminder>\n",
            "\n",
            "<input>\n",
            "{inputs}\n",
            "</input>\n",
            "\n",
            "<output>\n",
            "{outputs}\n",
            "</output>\n",
            "\n",
            "Use the reference outputs below to help you evaluate the correctness of the response:\n",
            "\n",
            "<reference_outputs>\n",
            "{reference_outputs}\n",
            "</reference_outputs>\n",
            "\n"
          ]
        }
      ],
      "source": [
        "from openevals.prompts import CORRECTNESS_PROMPT\n",
        "print(CORRECTNESS_PROMPT)"
      ]
    },
    {
      "cell_type": "code",
      "execution_count": 62,
      "metadata": {
        "id": "QrAUXMFftlAY"
      },
      "outputs": [],
      "source": [
        "from openevals.llm import create_llm_as_judge\n",
        "\n",
        "correctness_evaluator = create_llm_as_judge(\n",
        "        prompt=CORRECTNESS_PROMPT,\n",
        "        model=\"openai:o3-mini\", # very impactful to the final score\n",
        "        feedback_key=\"correctness\",\n",
        "    )"
      ]
    },
    {
      "cell_type": "markdown",
      "metadata": {},
      "source": [
        "Let's also create a custom Evaluator for our created dataset above - we do this by first making a simple Python function!"
      ]
    },
    {
      "cell_type": "code",
      "execution_count": 63,
      "metadata": {},
      "outputs": [],
      "source": [
        "def must_mention(inputs: dict, outputs: dict, reference_outputs: dict) -> float:\n",
        "  # determine if the phrases in the reference_outputs are in the outputs\n",
        "  required = reference_outputs.get(\"must_mention\") or []\n",
        "  score = all(phrase in outputs[\"answer\"] for phrase in required)\n",
        "  return score"
      ]
    },
    {
      "cell_type": "markdown",
      "metadata": {
        "id": "PNtHORUh0jZY"
      },
      "source": [
        "#### ❓ Question #4:\n",
        "\n",
        "What are some ways you could improve this metric as-is?\n",
        "\n",
        "> NOTE: Alternatively you can suggest where gaps exist in this method.\n",
        "\n",
        "Adding more test cases in our test beds will help us increase our score. If there are significant gaps we should revisit our prompts to see if we can improve the score. However, LLMs may generate ouput in any format, having a rubric to cover them all may not be possible"
      ]
    },
    {
      "cell_type": "markdown",
      "metadata": {
        "id": "r1RJr349zhv7"
      },
      "source": [
        "Task 3: Evaluating\n",
        "\n",
        "All that is left to do is evaluate our agent's response!"
      ]
    },
    {
      "cell_type": "code",
      "execution_count": 64,
      "metadata": {
        "colab": {
          "base_uri": "https://localhost:8080/",
          "height": 118,
          "referenced_widgets": [
            "efcf57067cf743d8b4ce059a61cbe02e",
            "53e33aae3b97490c82aec7bbb0d6ebba",
            "ad84e0e971d3455db2efe7dd0d1f803e",
            "72adef9b70dd48198b7322b6c5b113cf",
            "8a61d045ffd44ac58f3f13eb10044836",
            "041e22a9b5514e36bd4d1dac01d5d398",
            "886d762f2a7c421382efb5502c6d42a1",
            "ab91fd625bbd43afbf8c6398193a88d0",
            "716557ad09874dcb989d75f7c74424cd",
            "77d4c0ebaae045b58efc4f789c9a2360",
            "0d622ccc56264fac8fd7508dbdbe6e29"
          ]
        },
        "id": "p5TeCUUkuGld",
        "outputId": "2f7d62a2-e78d-447a-d07b-f9e4d500fb79"
      },
      "outputs": [
        {
          "name": "stdout",
          "output_type": "stream",
          "text": [
            "View the evaluation results for experiment: 'simple_agent, baseline-44c80c0e' at:\n",
            "https://smith.langchain.com/o/57b6b3f2-a3af-4e79-a658-01991901c637/datasets/fd911821-0199-4219-ad79-1cddd457227c/compare?selectedSessions=4d5ca51c-c3dc-40e8-a68d-b57d34eea85a\n",
            "\n",
            "\n"
          ]
        },
        {
          "data": {
            "application/vnd.jupyter.widget-view+json": {
              "model_id": "4650c5d17855484ba2d91c5e9977ff73",
              "version_major": 2,
              "version_minor": 0
            },
            "text/plain": [
              "0it [00:00, ?it/s]"
            ]
          },
          "metadata": {},
          "output_type": "display_data"
        },
        {
          "name": "stdout",
          "output_type": "stream",
          "text": [
            "In Agent stepIn Agent step\n",
            "\n",
            "\n",
            "\n",
            "State\n",
            "\n",
            "\n",
            "{'messages': [HumanMessage(content='What should I build to add value to the local communities I’m engaged in?', additional_kwargs={}, response_metadata={}, id='afc259e5-efdf-4726-acc0-577ba5ef2485')]}\n",
            "\n",
            "\n",
            "\n",
            "\n",
            "State\n",
            "\n",
            "\n",
            "{'messages': [HumanMessage(content='What concerns or challenges do people have when using AI?', additional_kwargs={}, response_metadata={}, id='88e251a8-0325-4392-bc53-84598957df2b')]}\n",
            "In Agent step\n",
            "\n",
            "\n",
            "\n",
            "State\n",
            "\n",
            "\n",
            "{'messages': [HumanMessage(content='How do people use AI in their daily work?', additional_kwargs={}, response_metadata={}, id='41bdf790-bc8c-422b-bbd2-aa36b4aeade9')]}\n",
            "In Agent step\n",
            "\n",
            "\n",
            "\n",
            "State\n",
            "\n",
            "\n",
            "{'messages': [HumanMessage(content='Do people use AI for their personal lives?', additional_kwargs={}, response_metadata={}, id='c0a27775-3cbb-4fb0-b563-e5d38563d958')]}\n",
            "In condition step\n",
            "\n",
            "\n",
            "\n",
            "State\n",
            "\n",
            "\n",
            "{'messages': [HumanMessage(content='What should I build to add value to the local communities I’m engaged in?', additional_kwargs={}, response_metadata={}, id='afc259e5-efdf-4726-acc0-577ba5ef2485'), AIMessage(content=\"To provide tailored suggestions, could you tell me more about the specific communities you're engaged with? For example, are they based on a geographic location, a particular interest or industry, or a demographic group?\", additional_kwargs={'refusal': None}, response_metadata={'token_usage': {'completion_tokens': 41, 'prompt_tokens': 168, 'total_tokens': 209, 'completion_tokens_details': {'accepted_prediction_tokens': 0, 'audio_tokens': 0, 'reasoning_tokens': 0, 'rejected_prediction_tokens': 0}, 'prompt_tokens_details': {'audio_tokens': 0, 'cached_tokens': 0}}, 'model_name': 'gpt-4.1-nano-2025-04-14', 'system_fingerprint': 'fp_7c233bf9d1', 'id': 'chatcmpl-CLdHQBFi9ZoKFz7bnvnv4Fr2iaM5d', 'service_tier': 'default', 'finish_reason': 'stop', 'logprobs': None}, id='run--8adbb6f3-7510-4ebf-80fa-61a1d10712c0-0', usage_metadata={'input_tokens': 168, 'output_tokens': 41, 'total_tokens': 209, 'input_token_details': {'audio': 0, 'cache_read': 0}, 'output_token_details': {'audio': 0, 'reasoning': 0}})]}\n",
            "In Agent step\n",
            "\n",
            "\n",
            "\n",
            "State\n",
            "\n",
            "\n",
            "{'messages': [HumanMessage(content='What are the most common ways people use AI in their work?', additional_kwargs={}, response_metadata={}, id='e0c70204-9e8f-49b3-83f6-7c7df249821a')]}\n",
            "In condition step\n",
            "\n",
            "\n",
            "\n",
            "State\n",
            "\n",
            "\n",
            "{'messages': [HumanMessage(content='Do people use AI for their personal lives?', additional_kwargs={}, response_metadata={}, id='c0a27775-3cbb-4fb0-b563-e5d38563d958'), AIMessage(content='Yes, many people use AI for various aspects of their personal lives. AI technologies are integrated into everyday activities and tools, such as virtual assistants (like Siri, Alexa, and Google Assistant), personalized recommendations on streaming services, smart home devices, health and fitness apps, language translation, and even personal finance management. These AI applications help improve convenience, productivity, entertainment, and health management. Would you like to know more about specific uses or examples?', additional_kwargs={'refusal': None}, response_metadata={'token_usage': {'completion_tokens': 90, 'prompt_tokens': 161, 'total_tokens': 251, 'completion_tokens_details': {'accepted_prediction_tokens': 0, 'audio_tokens': 0, 'reasoning_tokens': 0, 'rejected_prediction_tokens': 0}, 'prompt_tokens_details': {'audio_tokens': 0, 'cached_tokens': 0}}, 'model_name': 'gpt-4.1-nano-2025-04-14', 'system_fingerprint': 'fp_7c233bf9d1', 'id': 'chatcmpl-CLdHQ2ukQUfS5e8Ti3QLVm1NaKtqQ', 'service_tier': 'default', 'finish_reason': 'stop', 'logprobs': None}, id='run--319275a6-cf93-42f0-8497-c622851a625e-0', usage_metadata={'input_tokens': 161, 'output_tokens': 90, 'total_tokens': 251, 'input_token_details': {'audio': 0, 'cache_read': 0}, 'output_token_details': {'audio': 0, 'reasoning': 0}})]}\n",
            "In condition step\n",
            "\n",
            "\n",
            "\n",
            "State\n",
            "\n",
            "\n",
            "{'messages': [HumanMessage(content='How do people use AI in their daily work?', additional_kwargs={}, response_metadata={}, id='41bdf790-bc8c-422b-bbd2-aa36b4aeade9'), AIMessage(content='People use AI in their daily work in a variety of ways across different industries and roles. Some common applications include:\\n\\n1. Automation of Repetitive Tasks: AI automates routine tasks such as data entry, scheduling, and email filtering, freeing up time for more complex activities.\\n2. Data Analysis and Insights: AI tools analyze large datasets to identify patterns, trends, and insights that inform decision-making.\\n3. Customer Support: AI-powered chatbots and virtual assistants handle customer inquiries, provide support, and improve service efficiency.\\n4. Personalization: AI personalizes marketing, product recommendations, and content delivery based on user preferences and behavior.\\n5. Content Creation: AI assists in generating reports, writing articles, creating graphics, and producing multimedia content.\\n6. Predictive Maintenance: In manufacturing and logistics, AI predicts equipment failures and schedules maintenance proactively.\\n7. Financial Services: AI is used for fraud detection, risk assessment, algorithmic trading, and personalized financial advice.\\n8. Human Resources: AI streamlines recruitment by screening resumes, scheduling interviews, and onboarding new employees.\\n9. Healthcare: AI supports diagnostics, treatment planning, and patient monitoring.\\n10. Software Development: AI helps in coding, testing, and debugging software.\\n\\nWould you like to know how specific industries or roles use AI in more detail?', additional_kwargs={'refusal': None}, response_metadata={'token_usage': {'completion_tokens': 263, 'prompt_tokens': 162, 'total_tokens': 425, 'completion_tokens_details': {'accepted_prediction_tokens': 0, 'audio_tokens': 0, 'reasoning_tokens': 0, 'rejected_prediction_tokens': 0}, 'prompt_tokens_details': {'audio_tokens': 0, 'cached_tokens': 0}}, 'model_name': 'gpt-4.1-nano-2025-04-14', 'system_fingerprint': 'fp_7c233bf9d1', 'id': 'chatcmpl-CLdHQCfuWc8cIVD3ufjiTGL0gIqzI', 'service_tier': 'default', 'finish_reason': 'stop', 'logprobs': None}, id='run--92424d5f-1934-45ba-a054-aa7b0960b827-0', usage_metadata={'input_tokens': 162, 'output_tokens': 263, 'total_tokens': 425, 'input_token_details': {'audio': 0, 'cache_read': 0}, 'output_token_details': {'audio': 0, 'reasoning': 0}})]}\n",
            "In condition step\n",
            "\n",
            "\n",
            "\n",
            "State\n",
            "\n",
            "\n",
            "{'messages': [HumanMessage(content='What concerns or challenges do people have when using AI?', additional_kwargs={}, response_metadata={}, id='88e251a8-0325-4392-bc53-84598957df2b'), AIMessage(content='People have a variety of concerns and challenges when using AI, including:\\n\\n1. Privacy and Data Security: Worries about how personal data is collected, stored, and used by AI systems.\\n2. Bias and Fairness: AI models may perpetuate or amplify biases present in training data, leading to unfair outcomes.\\n3. Transparency and Explainability: Difficulty understanding how AI systems make decisions, which can affect trust and accountability.\\n4. Job Displacement: Fears that AI automation will lead to unemployment and economic inequality.\\n5. Ethical Considerations: Concerns about the moral implications of AI decisions, especially in sensitive areas like healthcare, law enforcement, and military applications.\\n6. Safety and Reliability: Risks of AI systems malfunctioning or making incorrect decisions, especially in critical applications.\\n7. Control and Autonomy: Worries about losing control over AI systems and their actions.\\n8. Regulation and Governance: The challenge of creating effective policies and standards to oversee AI development and deployment.\\n9. Social Impact: Potential for AI to influence social dynamics, misinformation, and manipulation.\\n10. Accessibility and Inequality: Ensuring equitable access to AI technologies across different populations and regions.\\n\\nWould you like me to explore recent discussions or research on this topic?', additional_kwargs={'refusal': None}, response_metadata={'token_usage': {'completion_tokens': 249, 'prompt_tokens': 163, 'total_tokens': 412, 'completion_tokens_details': {'accepted_prediction_tokens': 0, 'audio_tokens': 0, 'reasoning_tokens': 0, 'rejected_prediction_tokens': 0}, 'prompt_tokens_details': {'audio_tokens': 0, 'cached_tokens': 0}}, 'model_name': 'gpt-4.1-nano-2025-04-14', 'system_fingerprint': 'fp_7c233bf9d1', 'id': 'chatcmpl-CLdHQVPMdoniCVfnV5ILoEHlVdTGT', 'service_tier': 'default', 'finish_reason': 'stop', 'logprobs': None}, id='run--daa670d5-e11d-4c6a-bca6-5bbfdf5867a8-0', usage_metadata={'input_tokens': 163, 'output_tokens': 249, 'total_tokens': 412, 'input_token_details': {'audio': 0, 'cache_read': 0}, 'output_token_details': {'audio': 0, 'reasoning': 0}})]}\n",
            "In condition step\n",
            "\n",
            "\n",
            "\n",
            "State\n",
            "\n",
            "\n",
            "{'messages': [HumanMessage(content='What are the most common ways people use AI in their work?', additional_kwargs={}, response_metadata={}, id='e0c70204-9e8f-49b3-83f6-7c7df249821a'), AIMessage(content='People use AI in their work in a variety of common ways, including:\\n\\n1. Automating Repetitive Tasks: AI automates routine tasks such as data entry, scheduling, and customer service inquiries, increasing efficiency and reducing human error.\\n\\n2. Data Analysis and Insights: AI analyzes large datasets to identify patterns, trends, and insights that inform decision-making in fields like finance, marketing, and healthcare.\\n\\n3. Personalization: AI enables personalized experiences in marketing, e-commerce, and content delivery by analyzing user behavior and preferences.\\n\\n4. Natural Language Processing (NLP): AI-powered NLP tools facilitate language translation, sentiment analysis, chatbots, and virtual assistants.\\n\\n5. Image and Video Recognition: AI is used for facial recognition, medical imaging diagnostics, quality control in manufacturing, and security surveillance.\\n\\n6. Predictive Analytics: AI models forecast future trends, customer behavior, and maintenance needs, helping organizations proactively address challenges.\\n\\n7. Creative Work: AI assists in generating content such as articles, music, art, and design, augmenting human creativity.\\n\\n8. Autonomous Systems: AI powers autonomous vehicles, drones, and robots for delivery, inspection, and other operational tasks.\\n\\nWould you like more detailed examples in a specific industry or application?', additional_kwargs={'refusal': None}, response_metadata={'token_usage': {'completion_tokens': 249, 'prompt_tokens': 165, 'total_tokens': 414, 'completion_tokens_details': {'accepted_prediction_tokens': 0, 'audio_tokens': 0, 'reasoning_tokens': 0, 'rejected_prediction_tokens': 0}, 'prompt_tokens_details': {'audio_tokens': 0, 'cached_tokens': 0}}, 'model_name': 'gpt-4.1-nano-2025-04-14', 'system_fingerprint': 'fp_7c233bf9d1', 'id': 'chatcmpl-CLdHRq5yvYrLAE4cfdAW43z6oQ0Nn', 'service_tier': 'default', 'finish_reason': 'stop', 'logprobs': None}, id='run--b341dcf8-7c65-4c2a-ade5-f5e3b5317417-0', usage_metadata={'input_tokens': 165, 'output_tokens': 249, 'total_tokens': 414, 'input_token_details': {'audio': 0, 'cache_read': 0}, 'output_token_details': {'audio': 0, 'reasoning': 0}})]}\n"
          ]
        }
      ],
      "source": [
        "results = client.evaluate(\n",
        "    agent_chain_with_formatting,\n",
        "    data=dataset.name,\n",
        "    evaluators=[correctness_evaluator, must_mention],\n",
        "    experiment_prefix=\"simple_agent, baseline\",  # optional, experiment name prefix\n",
        "    description=\"Testing the baseline system.\",  # optional, experiment description\n",
        "    max_concurrency=4, # optional, add concurrency\n",
        ")"
      ]
    },
    {
      "cell_type": "markdown",
      "metadata": {
        "id": "jhTNe4kWrplB"
      },
      "source": [
        "## Part 2: LangGraph with Helpfulness:"
      ]
    },
    {
      "cell_type": "markdown",
      "metadata": {
        "id": "w1wKRddbIY_S"
      },
      "source": [
        "### Task 3: Adding Helpfulness Check and \"Loop\" Limits\n",
        "\n",
        "Now that we've done evaluation - let's see if we can add an extra step where we review the content we've generated to confirm if it fully answers the user's query!\n",
        "\n",
        "We're going to make a few key adjustments to account for this:\n",
        "\n",
        "1. We're going to add an artificial limit on how many \"loops\" the agent can go through - this will help us to avoid the potential situation where we never exit the loop.\n",
        "2. We'll add to our existing conditional edge to obtain the behaviour we desire."
      ]
    },
    {
      "cell_type": "markdown",
      "metadata": {
        "id": "npTYJ8ayR5B3"
      },
      "source": [
        "First, let's define our state again - we can check the length of the state object, so we don't need additional state for this."
      ]
    },
    {
      "cell_type": "code",
      "execution_count": 65,
      "metadata": {
        "id": "-LQ84YhyJG0w"
      },
      "outputs": [],
      "source": [
        "class AgentState(TypedDict):\n",
        "  messages: Annotated[list, add_messages]"
      ]
    },
    {
      "cell_type": "markdown",
      "metadata": {
        "id": "sD7EV0HqSQcb"
      },
      "source": [
        "Now we can set our graph up! This process will be almost entirely the same - with the inclusion of one additional node/conditional edge!"
      ]
    },
    {
      "cell_type": "markdown",
      "metadata": {
        "id": "oajBwLkFVi1N"
      },
      "source": [
        "#### 🏗️ Activity #4:\n",
        "\n",
        "Please write markdown for the following cells to explain what each is doing."
      ]
    },
    {
      "cell_type": "markdown",
      "metadata": {
        "id": "M6rN7feNVn9f"
      },
      "source": [
        "##### YOUR MARKDOWN HERE"
      ]
    },
    {
      "cell_type": "code",
      "execution_count": 66,
      "metadata": {
        "colab": {
          "base_uri": "https://localhost:8080/"
        },
        "id": "6r6XXA5FJbVf",
        "outputId": "ff713041-e498-4f0f-a875-a03502b87729"
      },
      "outputs": [
        {
          "data": {
            "text/plain": [
              "<langgraph.graph.state.StateGraph at 0x148705350>"
            ]
          },
          "execution_count": 66,
          "metadata": {},
          "output_type": "execute_result"
        }
      ],
      "source": [
        "graph_with_helpfulness_check = StateGraph(AgentState)\n",
        "\n",
        "graph_with_helpfulness_check.add_node(\"agent\", call_model)\n",
        "graph_with_helpfulness_check.add_node(\"action\", tool_node)"
      ]
    },
    {
      "cell_type": "markdown",
      "metadata": {
        "id": "XZ22o2mWVrfp"
      },
      "source": [
        "##### YOUR MARKDOWN HERE"
      ]
    },
    {
      "cell_type": "code",
      "execution_count": 67,
      "metadata": {
        "colab": {
          "base_uri": "https://localhost:8080/"
        },
        "id": "HNWHwWxuRiLY",
        "outputId": "295f5a35-ceff-452a-ffb8-c52eada6a816"
      },
      "outputs": [
        {
          "data": {
            "text/plain": [
              "<langgraph.graph.state.StateGraph at 0x148705350>"
            ]
          },
          "execution_count": 67,
          "metadata": {},
          "output_type": "execute_result"
        }
      ],
      "source": [
        "graph_with_helpfulness_check.set_entry_point(\"agent\")"
      ]
    },
    {
      "cell_type": "markdown",
      "metadata": {
        "id": "rsXeF6xlaXOZ"
      },
      "source": [
        "##### YOUR MARKDOWN HERE"
      ]
    },
    {
      "cell_type": "code",
      "execution_count": 68,
      "metadata": {
        "id": "z_Sq3A9SaV1O"
      },
      "outputs": [],
      "source": [
        "from langchain_core.prompts import PromptTemplate\n",
        "from langchain_core.output_parsers import StrOutputParser\n",
        "\n",
        "def tool_call_or_helpful(state):\n",
        "  last_message = state[\"messages\"][-1]\n",
        "\n",
        "  if last_message.tool_calls:\n",
        "    return \"action\"\n",
        "\n",
        "  initial_query = state[\"messages\"][0]\n",
        "  final_response = state[\"messages\"][-1]\n",
        "\n",
        "  if len(state[\"messages\"]) > 10:\n",
        "    return \"END\"\n",
        "\n",
        "  prompt_template = \"\"\"\\\n",
        "  Given an initial query and a final response, determine if the final response is extremely helpful or not. Please indicate helpfulness with a 'Y' and unhelpfulness as an 'N'.\n",
        "\n",
        "  Initial Query:\n",
        "  {initial_query}\n",
        "\n",
        "  Final Response:\n",
        "  {final_response}\"\"\"\n",
        "\n",
        "  helpfullness_prompt_template = PromptTemplate.from_template(prompt_template)\n",
        "\n",
        "  helpfulness_check_model = ChatOpenAI(model=\"gpt-4.1-mini\")\n",
        "\n",
        "  helpfulness_chain = helpfullness_prompt_template | helpfulness_check_model | StrOutputParser()\n",
        "\n",
        "  helpfulness_response = helpfulness_chain.invoke({\"initial_query\" : initial_query.content, \"final_response\" : final_response.content})\n",
        "\n",
        "  if \"Y\" in helpfulness_response:\n",
        "    return \"end\"\n",
        "  else:\n",
        "    return \"continue\""
      ]
    },
    {
      "cell_type": "markdown",
      "metadata": {
        "id": "6BhnBW2YVsJO"
      },
      "source": [
        "##### YOUR MARKDOWN HERE"
      ]
    },
    {
      "cell_type": "code",
      "execution_count": 69,
      "metadata": {
        "colab": {
          "base_uri": "https://localhost:8080/"
        },
        "id": "aVTKnWMbP_8T",
        "outputId": "7f729b1f-311c-4084-ceaf-0da437900c85"
      },
      "outputs": [
        {
          "data": {
            "text/plain": [
              "<langgraph.graph.state.StateGraph at 0x148705350>"
            ]
          },
          "execution_count": 69,
          "metadata": {},
          "output_type": "execute_result"
        }
      ],
      "source": [
        "graph_with_helpfulness_check.add_conditional_edges(\n",
        "    \"agent\",\n",
        "    tool_call_or_helpful,\n",
        "    {\n",
        "        \"continue\" : \"agent\",\n",
        "        \"action\" : \"action\",\n",
        "        \"end\" : END\n",
        "    }\n",
        ")"
      ]
    },
    {
      "cell_type": "markdown",
      "metadata": {
        "id": "ZGDLEWOIVtK0"
      },
      "source": [
        "##### YOUR MARKDOWN HERE"
      ]
    },
    {
      "cell_type": "code",
      "execution_count": 70,
      "metadata": {
        "colab": {
          "base_uri": "https://localhost:8080/"
        },
        "id": "cbDK2MbuREgU",
        "outputId": "21a64c20-27a1-4e0e-afde-a639abaa8b55"
      },
      "outputs": [
        {
          "data": {
            "text/plain": [
              "<langgraph.graph.state.StateGraph at 0x148705350>"
            ]
          },
          "execution_count": 70,
          "metadata": {},
          "output_type": "execute_result"
        }
      ],
      "source": [
        "graph_with_helpfulness_check.add_edge(\"action\", \"agent\")"
      ]
    },
    {
      "cell_type": "markdown",
      "metadata": {
        "id": "rSI8AOaEVvT-"
      },
      "source": [
        "##### YOUR MARKDOWN HERE"
      ]
    },
    {
      "cell_type": "code",
      "execution_count": 71,
      "metadata": {
        "id": "oQldl8ERQ8lf"
      },
      "outputs": [],
      "source": [
        "agent_with_helpfulness_check = graph_with_helpfulness_check.compile()"
      ]
    },
    {
      "cell_type": "markdown",
      "metadata": {
        "id": "F67FGCMRVwGz"
      },
      "source": [
        "##### YOUR MARKDOWN HERE"
      ]
    },
    {
      "cell_type": "code",
      "execution_count": 72,
      "metadata": {
        "colab": {
          "base_uri": "https://localhost:8080/"
        },
        "id": "B3oo8E-PRK1T",
        "outputId": "f152dea8-96ad-4d29-d8b2-a064c96a8bd3"
      },
      "outputs": [
        {
          "name": "stdout",
          "output_type": "stream",
          "text": [
            "In Agent step\n",
            "\n",
            "\n",
            "\n",
            "State\n",
            "\n",
            "\n",
            "{'messages': [HumanMessage(content='What are Deep Research Agents?', additional_kwargs={}, response_metadata={}, id='35cc780d-94bf-478b-bea4-f95e90f3031a')]}\n",
            "Receiving update from node: 'agent'\n",
            "[AIMessage(content='Deep Research Agents are advanced AI systems designed to assist with in-depth research tasks. They leverage deep learning techniques and large datasets to analyze complex information, generate insights, and support decision-making across various fields such as science, technology, medicine, and more. These agents can automate literature reviews, data analysis, hypothesis generation, and other research activities, making the research process more efficient and comprehensive. Would you like a more detailed explanation or specific examples of Deep Research Agents?', additional_kwargs={'refusal': None}, response_metadata={'token_usage': {'completion_tokens': 93, 'prompt_tokens': 158, 'total_tokens': 251, 'completion_tokens_details': {'accepted_prediction_tokens': 0, 'audio_tokens': 0, 'reasoning_tokens': 0, 'rejected_prediction_tokens': 0}, 'prompt_tokens_details': {'audio_tokens': 0, 'cached_tokens': 0}}, 'model_name': 'gpt-4.1-nano-2025-04-14', 'system_fingerprint': 'fp_7c233bf9d1', 'id': 'chatcmpl-CLdK1Z5iYnAmjZHxA4fbmyPv1Rhea', 'service_tier': 'default', 'finish_reason': 'stop', 'logprobs': None}, id='run--d0bc2a21-8fb8-44a0-8790-a5ae1fb27168-0', usage_metadata={'input_tokens': 158, 'output_tokens': 93, 'total_tokens': 251, 'input_token_details': {'audio': 0, 'cache_read': 0}, 'output_token_details': {'audio': 0, 'reasoning': 0}})]\n",
            "\n",
            "\n",
            "\n"
          ]
        }
      ],
      "source": [
        "inputs = {\"messages\" : [HumanMessage(content=\"What are Deep Research Agents?\")]}\n",
        "\n",
        "async for chunk in agent_with_helpfulness_check.astream(inputs, stream_mode=\"updates\"):\n",
        "    for node, values in chunk.items():\n",
        "        print(f\"Receiving update from node: '{node}'\")\n",
        "        print(values[\"messages\"])\n",
        "        print(\"\\n\\n\")"
      ]
    },
    {
      "cell_type": "markdown",
      "metadata": {
        "id": "yVmZPs6lnpsM"
      },
      "source": [
        "## Part 3: LangGraph for the \"Patterns\" of GenAI\n",
        "\n",
        "### Task 4: Helpfulness Check of Gen AI Pattern Descriptions\n",
        "\n",
        "Let's ask our system about the 3 main patterns in Generative AI:\n",
        "\n",
        "1. Context Engineering\n",
        "2. Fine-tuning\n",
        "3. Agents"
      ]
    },
    {
      "cell_type": "code",
      "execution_count": 73,
      "metadata": {
        "id": "ZoLl7GlXoae-"
      },
      "outputs": [],
      "source": [
        "patterns = [\"Context Engineering\", \"Fine-tuning\", \"LLM-based agents\"]"
      ]
    },
    {
      "cell_type": "code",
      "execution_count": 74,
      "metadata": {
        "colab": {
          "base_uri": "https://localhost:8080/"
        },
        "id": "Zkh0YJuCp3Zl",
        "outputId": "d847426e-71b3-47e6-b1ae-351a78d68d1e"
      },
      "outputs": [
        {
          "name": "stdout",
          "output_type": "stream",
          "text": [
            "In Agent step\n",
            "\n",
            "\n",
            "\n",
            "State\n",
            "\n",
            "\n",
            "{'messages': [HumanMessage(content='What is Context Engineering and when did it break onto the scene??', additional_kwargs={}, response_metadata={}, id='4b7136ec-fa1a-4b4f-9397-765466eff42f')]}\n",
            "Context Engineering is a relatively new interdisciplinary field that focuses on designing, managing, and optimizing the context in which systems, especially artificial intelligence and software applications, operate. It involves understanding and shaping the environment, circumstances, and background information that influence how systems behave and interact with users. The goal is to improve system performance, user experience, and decision-making by carefully engineering the context.\n",
            "\n",
            "The concept of Context Engineering has gained prominence with the rise of AI and ubiquitous computing, where the context significantly impacts system effectiveness. It started to break onto the scene in the late 2010s and early 2020s, as researchers and practitioners recognized the importance of context-aware systems and began developing frameworks and methodologies to engineer context systematically.\n",
            "\n",
            "Would you like me to find more detailed or specific information about its origins and development?\n",
            "\n",
            "\n",
            "\n",
            "In Agent step\n",
            "\n",
            "\n",
            "\n",
            "State\n",
            "\n",
            "\n",
            "{'messages': [HumanMessage(content='What is Fine-tuning and when did it break onto the scene??', additional_kwargs={}, response_metadata={}, id='18de7f37-7845-48bd-96b7-02cf646aef15')]}\n",
            "Fine-tuning is a machine learning technique used to adapt a pre-trained model to a specific task or dataset. Instead of training a model from scratch, which can be resource-intensive and time-consuming, fine-tuning involves taking an existing model that has already learned general features from a large dataset and then further training it on a smaller, task-specific dataset. This process helps the model specialize in the new task while leveraging the knowledge it has already acquired.\n",
            "\n",
            "Fine-tuning has become a prominent approach in the development of large language models and other deep learning models, enabling them to perform well on specialized tasks such as medical diagnosis, legal analysis, or customer service.\n",
            "\n",
            "As for when it \"broke onto the scene,\" fine-tuning has been around for quite some time, but it gained widespread popularity and recognition with the advent of large pre-trained models like BERT (Bidirectional Encoder Representations from Transformers) in 2018. BERT's release by Google marked a significant milestone, demonstrating how pre-trained models could be effectively fine-tuned for various natural language processing tasks, leading to a surge in research and applications in this area.\n",
            "\n",
            "Would you like more detailed historical context or recent developments related to fine-tuning?\n",
            "\n",
            "\n",
            "\n",
            "In Agent step\n",
            "\n",
            "\n",
            "\n",
            "State\n",
            "\n",
            "\n",
            "{'messages': [HumanMessage(content='What is LLM-based agents and when did it break onto the scene??', additional_kwargs={}, response_metadata={}, id='e7389247-2a29-4dff-aa60-fb34f9cfcdd9')]}\n",
            "LLM-based agents are intelligent systems that utilize large language models (LLMs) to perform a variety of tasks, such as understanding natural language, generating human-like responses, and making decisions based on complex inputs. These agents leverage the capabilities of LLMs like GPT-3, GPT-4, and similar models to interact with users, automate processes, and solve problems across different domains.\n",
            "\n",
            "The concept of LLM-based agents started gaining significant attention around 2020-2021, as large language models became more advanced and accessible. The release of OpenAI's GPT-3 in June 2020 marked a major milestone, showcasing the potential of LLMs to power conversational agents and other AI applications. Since then, the development and deployment of LLM-based agents have rapidly expanded, becoming a central focus in AI research and industry applications.\n",
            "\n",
            "Would you like more detailed information on the history, technical aspects, or recent developments of LLM-based agents?\n",
            "\n",
            "\n",
            "\n"
          ]
        }
      ],
      "source": [
        "for pattern in patterns:\n",
        "  what_is_string = f\"What is {pattern} and when did it break onto the scene??\"\n",
        "  inputs = {\"messages\" : [HumanMessage(content=what_is_string)]}\n",
        "  messages = agent_with_helpfulness_check.invoke(inputs)\n",
        "  print(messages[\"messages\"][-1].content)\n",
        "  print(\"\\n\\n\")"
      ]
    }
  ],
  "metadata": {
    "colab": {
      "provenance": []
    },
    "kernelspec": {
      "display_name": ".venv",
      "language": "python",
      "name": "python3"
    },
    "language_info": {
      "codemirror_mode": {
        "name": "ipython",
        "version": 3
      },
      "file_extension": ".py",
      "mimetype": "text/x-python",
      "name": "python",
      "nbconvert_exporter": "python",
      "pygments_lexer": "ipython3",
      "version": "3.13.5"
    }
  },
  "nbformat": 4,
  "nbformat_minor": 0
}
